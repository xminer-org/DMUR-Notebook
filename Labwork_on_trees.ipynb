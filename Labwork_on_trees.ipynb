{
 "cells": [
  {
   "cell_type": "markdown",
   "metadata": {},
   "source": [
    "**Solution on Tree Models**\n",
    "\n",
    "BAS 474\n",
    "\n",
    "Charles Liu"
   ]
  },
  {
   "cell_type": "code",
   "execution_count": 1,
   "metadata": {
    "ExecuteTime": {
     "end_time": "2020-03-29T03:18:51.729575Z",
     "start_time": "2020-03-29T03:18:51.662Z"
    }
   },
   "outputs": [],
   "source": [
    "lib <- library\n",
    "library <- function(...){\n",
    "    suppressMessages(lib(...))\n",
    "}"
   ]
  },
  {
   "cell_type": "code",
   "execution_count": 2,
   "metadata": {
    "ExecuteTime": {
     "end_time": "2020-03-29T03:18:54.284580Z",
     "start_time": "2020-03-29T03:18:51.665Z"
    }
   },
   "outputs": [],
   "source": [
    "library(regclass)  \n",
    "library(rpart)\n",
    "library(randomForest)\n",
    "library(gbm)\n",
    "library(caret)\n",
    "library(pROC)"
   ]
  },
  {
   "cell_type": "markdown",
   "metadata": {},
   "source": [
    "# Classification Partition\n",
    "\n",
    "A partition currently contains the following individuals (class labels and the values of their predictor variables are provided). Relevant subsets of the data are as below:\n",
    "\n",
    "Sorted on class (useful for part a)\n",
    "\n",
    "Class | Rating |  Gender\n",
    "------|--------|--------\n",
    "A     | 0.2    | Male\n",
    "A     | 2.4    | Female\n",
    "A     | 5.7    | Male\n",
    "B     | 1.8    | Female\n",
    "B     | 4.8    | Female\n",
    "B     | 5.7    | Male\n",
    "B     | 7.9    | Male\n",
    "B     | 9.2    | Female\n",
    "\n",
    "Sorted on Rating (useful for part b)\n",
    "\n",
    "Class | Rating |  Gender\n",
    "------|--------|--------\n",
    "A     | 0.2    | Male\n",
    "B     | 1.8    | Female\n",
    "A     | 2.4    | Female\n",
    "B     | 4.8    | Female\n",
    "B     | 5.7    | Male\n",
    "A     | 5.7    | Male\n",
    "B     | 7.9    | Male\n",
    "B     | 9.2    | Female\n",
    "\n",
    "Sorted on Gender (useful for part c)\n",
    "\n",
    "Class | Rating |  Gender\n",
    "------|--------|--------\n",
    "A     | 0.2    | Male\n",
    "B     | 5.7    | Male\n",
    "A     | 5.7    | Male\n",
    "B     | 7.9    | Male\n",
    "B     | 1.8    | Female\n",
    "A     | 2.4    | Female\n",
    "B     | 4.8    | Female\n",
    "B     | 9.2    | Female"
   ]
  },
  {
   "cell_type": "markdown",
   "metadata": {
    "ExecuteTime": {
     "end_time": "2020-03-28T17:05:50.969008Z",
     "start_time": "2020-03-28T17:05:50.915Z"
    }
   },
   "source": [
    "a.  What is the Gini index of this partition?\n",
    "\n",
    "**Response:** 0.46875"
   ]
  },
  {
   "cell_type": "code",
   "execution_count": 3,
   "metadata": {
    "ExecuteTime": {
     "end_time": "2020-03-29T03:18:54.542986Z",
     "start_time": "2020-03-29T03:18:51.801Z"
    }
   },
   "outputs": [
    {
     "data": {
      "text/html": [
       "0.46875"
      ],
      "text/latex": [
       "0.46875"
      ],
      "text/markdown": [
       "0.46875"
      ],
      "text/plain": [
       "[1] 0.46875"
      ]
     },
     "metadata": {},
     "output_type": "display_data"
    }
   ],
   "source": [
    "pA <- 3/8  #calculate proportions of each class\n",
    "pB <- 5/8\n",
    "g <- 1- pA^2 - pB^2 #Gini\n",
    "g"
   ]
  },
  {
   "cell_type": "markdown",
   "metadata": {},
   "source": [
    "b.  If this partition was split using the rule `Rating < 3.6` vs. `Rating >= 3.6`, what would be Gini indices of the two resulting partitions as well as the *reduction* in the Gini index when using this rule?   If the `cp` value for the tree was 0.01 (default in R), would this partition be split (assuming it's the first rule added to the model)?  In other words, is the reduction larger than `cp`?\n",
    "\n",
    "**Response:**  The reduction works out to be 0.10208.  Since this is (much) larger than `cp`, so yes the partition could be split using this rule."
   ]
  },
  {
   "cell_type": "code",
   "execution_count": 4,
   "metadata": {
    "ExecuteTime": {
     "end_time": "2020-03-29T03:18:54.603459Z",
     "start_time": "2020-03-29T03:18:51.853Z"
    }
   },
   "outputs": [
    {
     "data": {
      "text/html": [
       "0.366666666666667"
      ],
      "text/latex": [
       "0.366666666666667"
      ],
      "text/markdown": [
       "0.366666666666667"
      ],
      "text/plain": [
       "[1] 0.3666667"
      ]
     },
     "metadata": {},
     "output_type": "display_data"
    },
    {
     "data": {
      "text/html": [
       "0.102083333333333"
      ],
      "text/latex": [
       "0.102083333333333"
      ],
      "text/markdown": [
       "0.102083333333333"
      ],
      "text/plain": [
       "[1] 0.1020833"
      ]
     },
     "metadata": {},
     "output_type": "display_data"
    }
   ],
   "source": [
    "#Splitting Rating < 3.6 vs. Rating >= 3.6\n",
    "pA <- 2/3; pB <- 1/3  #calculate proportions and Gini index of \"left\" partition\n",
    "g1 <- 1- pA^2 - pB^2\n",
    "pA <- 1/5; pB <- 4/5  #calculate proportions and Gini index of \"right\" partition\n",
    "g2 <- 1- pA^2 - pB^2\n",
    "w1 <- 3/8; w2 <- 5/8\n",
    "g.rating <- w1*g1 + w2*g2  #Gini of split is weighted sum of gini inidices of resulting partitions\n",
    "g.rating\n",
    "g-g.rating  #reduction in Gini"
   ]
  },
  {
   "cell_type": "markdown",
   "metadata": {},
   "source": [
    "c.  If this partition was split using the rule `Gender=Female` vs. `Gender=Male`, what would be the Gini indices of the two resulting partitions as well as the the *reduction* in the Gini index?   If the `cp` value for the tree was 0.01 (default in R), would this partition be split (assuming it's the first rule added to the model)?  In other words, is the reduction larger than `cp`?\n",
    "\n",
    "**Response:**  The reduction works out to be 0.03125.  Since this is larger than `cp`, so yes the partition could be split using this rule."
   ]
  },
  {
   "cell_type": "code",
   "execution_count": 5,
   "metadata": {
    "ExecuteTime": {
     "end_time": "2020-03-29T03:18:54.662932Z",
     "start_time": "2020-03-29T03:18:51.904Z"
    }
   },
   "outputs": [
    {
     "data": {
      "text/html": [
       "0.4375"
      ],
      "text/latex": [
       "0.4375"
      ],
      "text/markdown": [
       "0.4375"
      ],
      "text/plain": [
       "[1] 0.4375"
      ]
     },
     "metadata": {},
     "output_type": "display_data"
    },
    {
     "data": {
      "text/html": [
       "0.03125"
      ],
      "text/latex": [
       "0.03125"
      ],
      "text/markdown": [
       "0.03125"
      ],
      "text/plain": [
       "[1] 0.03125"
      ]
     },
     "metadata": {},
     "output_type": "display_data"
    }
   ],
   "source": [
    "#Splitting Male vs. Female\n",
    "pA <- 2/4; pB <- 2/4  #calculate proportions and Gini index of Male partition\n",
    "g1 <- 1- pA^2 - pB^2\n",
    "pA <- 1/4; pB <- 3/4  #calculate proportions and Gini index of Female partition\n",
    "g2 <- 1- pA^2 - pB^2\n",
    "w1 <- 4/8; w2 <- 4/8\n",
    "g.gender <- w1*g1 + w2*g2  #Gini of split is weighted sum of gini inidices of resulting partitions\n",
    "g.gender\n",
    "g-g.gender  #reduction in Gini"
   ]
  },
  {
   "cell_type": "markdown",
   "metadata": {},
   "source": [
    "d.  Which of the two rules:  `Rating < 3.6` vs. `Rating >= 3.6` or `Gender=Female` vs. `Gender=Male` is better and why?\n",
    "\n",
    "**Response:**  The `Rating < 3.6` vs. `Rating >= 3.6` is better because it gives the largest reduction in the Gini index."
   ]
  },
  {
   "cell_type": "markdown",
   "metadata": {},
   "source": [
    "# Regression Partition\n",
    "\n",
    "A partition model currently contains the following individuals (y-values and the values of their predictor variables are provided).\n",
    "\n",
    "Sorted on Rating\n",
    "\n",
    "y      | Rating |  Gender\n",
    "-------|--------|--------\n",
    "8      | 0.2    | Male\n",
    "4      | 1.8    | Female\n",
    "5      | 2.4    | Female\n",
    "16     | 4.8    | Female\n",
    "12     | 5.7    | Male\n",
    "11     | 5.7    | Male\n",
    "11     | 7.9    | Male\n",
    "13     | 9.2    | Female\n",
    "\n",
    "Sorted on Gender\n",
    "\n",
    "y      | Rating |  Gender\n",
    "-------|--------|--------\n",
    "8      | 0.2    | Male\n",
    "12     | 5.7    | Male\n",
    "11     | 5.7    | Male\n",
    "11     | 7.9    | Male\n",
    "4      | 1.8    | Female\n",
    "5      | 2.4    | Female\n",
    "16     | 4.8    | Female\n",
    "13     | 9.2    | Female\n",
    "\n",
    "a.  What is the SSE of this partition?\n",
    "\n",
    "**Response:** 116\n",
    "\n",
    "b.  If this partition was split using the rule `Rating < 3.6` vs. `Rating >= 3.6`, what would be the SSEs of each resulting partition and the *fraction reduction* in the SSE when this rule is used (the fractional reduction is the reduction in SSE divided by the SSE of the original partition)?   If the `cp` value for the tree was 0.01 (default in R), would this partition be split (assuming it's the first rule added to the model)?  \n",
    "\n",
    "**Response:**  The fractional reduction in `SSE` works out to be about 0.78 (from 0 to 0.777), wow that's huge  Since this is (much) larger than `cp`, so yes the partition could be split using this rule.\n",
    "\n",
    "c.  If this partition was split using the rule `Gender=Female` vs. `Gender=Male`, would would be SSEs of each resulting partition and the the *fraction reduction* in the SSE when this rule is used?   If the `cp` value for the tree was 0.01 (default in R), would this partition be split (assuming it's the first rule added to the model)?  \n",
    "\n",
    "**Response:**  The fractional reduction in `SSE` works out to be about 0.017 (from 0 to 0.01724138).  Since this is larger than `cp`, so yes the partition could be split using this rule.\n",
    "\n",
    "d.  Which of the two rules:  `Rating < 3.6` vs. `Rating >= 3.6` or `Gender=Female` vs. `Gender=Male` is better and why?\n",
    "\n",
    "**Response:**  The rating rule is better because it gives the largest reduction in SSE."
   ]
  },
  {
   "cell_type": "code",
   "execution_count": 6,
   "metadata": {
    "ExecuteTime": {
     "end_time": "2020-03-29T03:18:54.742546Z",
     "start_time": "2020-03-29T03:18:52.008Z"
    }
   },
   "outputs": [
    {
     "data": {
      "text/html": [
       "116"
      ],
      "text/latex": [
       "116"
      ],
      "text/markdown": [
       "116"
      ],
      "text/plain": [
       "[1] 116"
      ]
     },
     "metadata": {},
     "output_type": "display_data"
    },
    {
     "data": {
      "text/html": [
       "90.1333333333333"
      ],
      "text/latex": [
       "90.1333333333333"
      ],
      "text/markdown": [
       "90.1333333333333"
      ],
      "text/plain": [
       "[1] 90.13333"
      ]
     },
     "metadata": {},
     "output_type": "display_data"
    },
    {
     "data": {
      "text/html": [
       "0.777011494252874"
      ],
      "text/latex": [
       "0.777011494252874"
      ],
      "text/markdown": [
       "0.777011494252874"
      ],
      "text/plain": [
       "[1] 0.7770115"
      ]
     },
     "metadata": {},
     "output_type": "display_data"
    },
    {
     "data": {
      "text/html": [
       "2"
      ],
      "text/latex": [
       "2"
      ],
      "text/markdown": [
       "2"
      ],
      "text/plain": [
       "[1] 2"
      ]
     },
     "metadata": {},
     "output_type": "display_data"
    },
    {
     "data": {
      "text/html": [
       "0.0172413793103448"
      ],
      "text/latex": [
       "0.0172413793103448"
      ],
      "text/markdown": [
       "0.0172413793103448"
      ],
      "text/plain": [
       "[1] 0.01724138"
      ]
     },
     "metadata": {},
     "output_type": "display_data"
    }
   ],
   "source": [
    "#Calculate SSE of partition\n",
    "y <- c(8,4,5,16,12,11,11,13)\n",
    "x <- c(.2,1.8,2.4,4.8,5.7,5.7,7.9,9.2)\n",
    "g <- c(\"Male\",\"Female\",\"Female\",\"Female\",\"Male\",\"Male\",\"Male\",\"Female\")\n",
    "sum( (y-mean(y))^2 )\n",
    "\n",
    "#Splitting x < 3.6 vs. x >= 3.6\n",
    "n1 <- 3    #Get SSE of left\n",
    "y.left <- y[1:3]\n",
    "SSE1 <- sum( (y.left-mean(y.left))^2 )\n",
    "\n",
    "n2 <- 5  #Get SSE of right\n",
    "y.right <- y[-(1:3)]\n",
    "SSE2 <- sum( (y.right-mean(y.right))^2 )\n",
    "\n",
    "SSE.orig <- sum( (y-mean(y))^2 )\n",
    "SSE.new <- SSE1+SSE2\n",
    "SSE.orig-SSE.new  #reduction in SSE\n",
    "(SSE.orig-SSE.new)/SSE.orig  #fractional reduction in R^2\n",
    "\n",
    "#Splitting Male vs. Female\n",
    "y.left <- y[which(g==\"Male\")]; n1 <- length(y.left)  \n",
    "SSE1 <- sum( (y.left-mean(y.left))^2 )\n",
    "y.right <- y[which(g==\"Female\")]; n2 <- length(y.right)\n",
    "SSE2 <- sum( (y.right-mean(y.right))^2 )\n",
    "\n",
    "SSE.orig <- sum( (y-mean(y))^2 )\n",
    "SSE.new <- SSE1+SSE2\n",
    "SSE.orig-SSE.new  #reduction in SSE\n",
    "(SSE.orig-SSE.new)/SSE.orig  #fractional reduction"
   ]
  },
  {
   "cell_type": "markdown",
   "metadata": {},
   "source": [
    "# Classification with Trees\n",
    "\n",
    "Load in the `CHURN` data for a classification problem where we predict whether or not a customer renews their contract with a telecommunications company (think Verizon, ATT, etc.).  The column `churn` lets us know if the customer \"churned\" (left) or not (levels are `Yes` or `No`)."
   ]
  },
  {
   "cell_type": "code",
   "execution_count": 7,
   "metadata": {
    "ExecuteTime": {
     "end_time": "2020-03-29T03:18:54.777325Z",
     "start_time": "2020-03-29T03:18:52.063Z"
    }
   },
   "outputs": [],
   "source": [
    "data(CHURN)"
   ]
  },
  {
   "cell_type": "markdown",
   "metadata": {},
   "source": [
    "a.  Randomly split the data in 70% training (call it `TRAIN`) and 30% holdout (call it `HOLDOUT`).  Immediately before the `sample` command, make sure to run `set.seed(474)` so we all get the same results.  Verify the `head` and `tail` commands."
   ]
  },
  {
   "cell_type": "code",
   "execution_count": 8,
   "metadata": {
    "ExecuteTime": {
     "end_time": "2020-03-29T03:18:54.863934Z",
     "start_time": "2020-03-29T03:18:52.114Z"
    }
   },
   "outputs": [
    {
     "data": {
      "text/html": [
       "<table>\n",
       "<caption>A data.frame: 6 × 3</caption>\n",
       "<thead>\n",
       "\t<tr><th></th><th scope=col>churn</th><th scope=col>accountlength</th><th scope=col>internationalplan</th></tr>\n",
       "\t<tr><th></th><th scope=col>&lt;fct&gt;</th><th scope=col>&lt;int&gt;</th><th scope=col>&lt;fct&gt;</th></tr>\n",
       "</thead>\n",
       "<tbody>\n",
       "\t<tr><th scope=row>4950</th><td>No</td><td>154</td><td>no</td></tr>\n",
       "\t<tr><th scope=row>3949</th><td>No</td><td>108</td><td>no</td></tr>\n",
       "\t<tr><th scope=row>2649</th><td>No</td><td>131</td><td>no</td></tr>\n",
       "\t<tr><th scope=row>405</th><td>No</td><td> 73</td><td>no</td></tr>\n",
       "\t<tr><th scope=row>3463</th><td>No</td><td>133</td><td>no</td></tr>\n",
       "\t<tr><th scope=row>2479</th><td>No</td><td>123</td><td>no</td></tr>\n",
       "</tbody>\n",
       "</table>\n"
      ],
      "text/latex": [
       "A data.frame: 6 × 3\n",
       "\\begin{tabular}{r|lll}\n",
       "  & churn & accountlength & internationalplan\\\\\n",
       "  & <fct> & <int> & <fct>\\\\\n",
       "\\hline\n",
       "\t4950 & No & 154 & no\\\\\n",
       "\t3949 & No & 108 & no\\\\\n",
       "\t2649 & No & 131 & no\\\\\n",
       "\t405 & No &  73 & no\\\\\n",
       "\t3463 & No & 133 & no\\\\\n",
       "\t2479 & No & 123 & no\\\\\n",
       "\\end{tabular}\n"
      ],
      "text/markdown": [
       "\n",
       "A data.frame: 6 × 3\n",
       "\n",
       "| <!--/--> | churn &lt;fct&gt; | accountlength &lt;int&gt; | internationalplan &lt;fct&gt; |\n",
       "|---|---|---|---|\n",
       "| 4950 | No | 154 | no |\n",
       "| 3949 | No | 108 | no |\n",
       "| 2649 | No | 131 | no |\n",
       "| 405 | No |  73 | no |\n",
       "| 3463 | No | 133 | no |\n",
       "| 2479 | No | 123 | no |\n",
       "\n"
      ],
      "text/plain": [
       "     churn accountlength internationalplan\n",
       "4950 No    154           no               \n",
       "3949 No    108           no               \n",
       "2649 No    131           no               \n",
       "405  No     73           no               \n",
       "3463 No    133           no               \n",
       "2479 No    123           no               "
      ]
     },
     "metadata": {},
     "output_type": "display_data"
    },
    {
     "data": {
      "text/html": [
       "<table>\n",
       "<caption>A data.frame: 6 × 3</caption>\n",
       "<thead>\n",
       "\t<tr><th></th><th scope=col>churn</th><th scope=col>accountlength</th><th scope=col>internationalplan</th></tr>\n",
       "\t<tr><th></th><th scope=col>&lt;fct&gt;</th><th scope=col>&lt;int&gt;</th><th scope=col>&lt;fct&gt;</th></tr>\n",
       "</thead>\n",
       "<tbody>\n",
       "\t<tr><th scope=row>9</th><td>No </td><td>117</td><td>no </td></tr>\n",
       "\t<tr><th scope=row>10</th><td>No </td><td>141</td><td>yes</td></tr>\n",
       "\t<tr><th scope=row>12</th><td>No </td><td> 74</td><td>no </td></tr>\n",
       "\t<tr><th scope=row>14</th><td>No </td><td> 95</td><td>no </td></tr>\n",
       "\t<tr><th scope=row>16</th><td>Yes</td><td>161</td><td>no </td></tr>\n",
       "\t<tr><th scope=row>23</th><td>No </td><td>130</td><td>no </td></tr>\n",
       "</tbody>\n",
       "</table>\n"
      ],
      "text/latex": [
       "A data.frame: 6 × 3\n",
       "\\begin{tabular}{r|lll}\n",
       "  & churn & accountlength & internationalplan\\\\\n",
       "  & <fct> & <int> & <fct>\\\\\n",
       "\\hline\n",
       "\t9 & No  & 117 & no \\\\\n",
       "\t10 & No  & 141 & yes\\\\\n",
       "\t12 & No  &  74 & no \\\\\n",
       "\t14 & No  &  95 & no \\\\\n",
       "\t16 & Yes & 161 & no \\\\\n",
       "\t23 & No  & 130 & no \\\\\n",
       "\\end{tabular}\n"
      ],
      "text/markdown": [
       "\n",
       "A data.frame: 6 × 3\n",
       "\n",
       "| <!--/--> | churn &lt;fct&gt; | accountlength &lt;int&gt; | internationalplan &lt;fct&gt; |\n",
       "|---|---|---|---|\n",
       "| 9 | No  | 117 | no  |\n",
       "| 10 | No  | 141 | yes |\n",
       "| 12 | No  |  74 | no  |\n",
       "| 14 | No  |  95 | no  |\n",
       "| 16 | Yes | 161 | no  |\n",
       "| 23 | No  | 130 | no  |\n",
       "\n"
      ],
      "text/plain": [
       "   churn accountlength internationalplan\n",
       "9  No    117           no               \n",
       "10 No    141           yes              \n",
       "12 No     74           no               \n",
       "14 No     95           no               \n",
       "16 Yes   161           no               \n",
       "23 No    130           no               "
      ]
     },
     "metadata": {},
     "output_type": "display_data"
    }
   ],
   "source": [
    "set.seed(474)\n",
    "train.rows <- sample(1:nrow(CHURN),0.70*nrow(CHURN))\n",
    "TRAIN <- CHURN[train.rows,]\n",
    "HOLDOUT <- CHURN[-train.rows,]\n",
    "head(TRAIN[,1:3])\n",
    "head(HOLDOUT[,1:3])"
   ]
  },
  {
   "cell_type": "markdown",
   "metadata": {},
   "source": [
    "b.  Based on the distribution of classes in the training set, what will the naive model classify everyone in the holdout sample (class Yes or class No)?  What is the accuracy of the naive model on the holdout?"
   ]
  },
  {
   "cell_type": "code",
   "execution_count": 9,
   "metadata": {
    "ExecuteTime": {
     "end_time": "2020-03-29T03:18:54.902289Z",
     "start_time": "2020-03-29T03:18:52.161Z"
    }
   },
   "outputs": [
    {
     "data": {
      "text/plain": [
       "\n",
       "  No  Yes \n",
       "3012  488 "
      ]
     },
     "metadata": {},
     "output_type": "display_data"
    },
    {
     "data": {
      "text/html": [
       "0.860571428571429"
      ],
      "text/latex": [
       "0.860571428571429"
      ],
      "text/markdown": [
       "0.860571428571429"
      ],
      "text/plain": [
       "[1] 0.8605714"
      ]
     },
     "metadata": {},
     "output_type": "display_data"
    },
    {
     "data": {
      "text/html": [
       "0.854"
      ],
      "text/latex": [
       "0.854"
      ],
      "text/markdown": [
       "0.854"
      ],
      "text/plain": [
       "[1] 0.854"
      ]
     },
     "metadata": {},
     "output_type": "display_data"
    }
   ],
   "source": [
    "table(TRAIN$churn)  #will classify everything as 'No'\n",
    "mean(TRAIN$churn==\"No\")  #estimated accuracy of naive model \n",
    "mean(HOLDOUT$churn==\"No\") #actual accuracy on the holdout"
   ]
  },
  {
   "cell_type": "markdown",
   "metadata": {},
   "source": [
    "c.  Using `train`, estimate the generalization error (accuracy) of a logistic regression model from the training data (use all predictors, no interactions).  Then, make predictions on the holdout and find its actual accuracy and AUC.  Note:  `trainControl` should be set up to be tuning on accuracy, vanilla 5-fold crossvalidation."
   ]
  },
  {
   "cell_type": "code",
   "execution_count": 10,
   "metadata": {
    "ExecuteTime": {
     "end_time": "2020-03-29T03:18:56.138716Z",
     "start_time": "2020-03-29T03:18:52.209Z"
    }
   },
   "outputs": [
    {
     "data": {
      "text/html": [
       "<table>\n",
       "<caption>A data.frame: 1 × 5</caption>\n",
       "<thead>\n",
       "\t<tr><th></th><th scope=col>parameter</th><th scope=col>Accuracy</th><th scope=col>Kappa</th><th scope=col>AccuracySD</th><th scope=col>KappaSD</th></tr>\n",
       "\t<tr><th></th><th scope=col>&lt;fct&gt;</th><th scope=col>&lt;dbl&gt;</th><th scope=col>&lt;dbl&gt;</th><th scope=col>&lt;dbl&gt;</th><th scope=col>&lt;dbl&gt;</th></tr>\n",
       "</thead>\n",
       "<tbody>\n",
       "\t<tr><th scope=row>1</th><td>none</td><td>0.8677207</td><td>0.2429164</td><td>0.01136066</td><td>0.05046288</td></tr>\n",
       "</tbody>\n",
       "</table>\n"
      ],
      "text/latex": [
       "A data.frame: 1 × 5\n",
       "\\begin{tabular}{r|lllll}\n",
       "  & parameter & Accuracy & Kappa & AccuracySD & KappaSD\\\\\n",
       "  & <fct> & <dbl> & <dbl> & <dbl> & <dbl>\\\\\n",
       "\\hline\n",
       "\t1 & none & 0.8677207 & 0.2429164 & 0.01136066 & 0.05046288\\\\\n",
       "\\end{tabular}\n"
      ],
      "text/markdown": [
       "\n",
       "A data.frame: 1 × 5\n",
       "\n",
       "| <!--/--> | parameter &lt;fct&gt; | Accuracy &lt;dbl&gt; | Kappa &lt;dbl&gt; | AccuracySD &lt;dbl&gt; | KappaSD &lt;dbl&gt; |\n",
       "|---|---|---|---|---|---|\n",
       "| 1 | none | 0.8677207 | 0.2429164 | 0.01136066 | 0.05046288 |\n",
       "\n"
      ],
      "text/plain": [
       "  parameter Accuracy  Kappa     AccuracySD KappaSD   \n",
       "1 none      0.8677207 0.2429164 0.01136066 0.05046288"
      ]
     },
     "metadata": {},
     "output_type": "display_data"
    },
    {
     "data": {
      "text/html": [
       "0.860666666666667"
      ],
      "text/latex": [
       "0.860666666666667"
      ],
      "text/markdown": [
       "0.860666666666667"
      ],
      "text/plain": [
       "[1] 0.8606667"
      ]
     },
     "metadata": {},
     "output_type": "display_data"
    },
    {
     "data": {
      "text/html": [
       "<style>\n",
       ".dl-inline {width: auto; margin:0; padding: 0}\n",
       ".dl-inline>dt, .dl-inline>dd {float: none; width: auto; display: inline-block}\n",
       ".dl-inline>dt::after {content: \":\\0020\"; padding-right: .5ex}\n",
       ".dl-inline>dt:not(:first-of-type) {padding-left: .5ex}\n",
       "</style><dl class=dl-inline><dt>Accuracy</dt><dd>0.860666666666667</dd><dt>Kappa</dt><dd>0.245639870639871</dd></dl>\n"
      ],
      "text/latex": [
       "\\begin{description*}\n",
       "\\item[Accuracy] 0.860666666666667\n",
       "\\item[Kappa] 0.245639870639871\n",
       "\\end{description*}\n"
      ],
      "text/markdown": [
       "Accuracy\n",
       ":   0.860666666666667Kappa\n",
       ":   0.245639870639871\n",
       "\n"
      ],
      "text/plain": [
       " Accuracy     Kappa \n",
       "0.8606667 0.2456399 "
      ]
     },
     "metadata": {},
     "output_type": "display_data"
    },
    {
     "name": "stderr",
     "output_type": "stream",
     "text": [
      "Setting levels: control = No, case = Yes\n",
      "\n",
      "Setting direction: controls < cases\n",
      "\n"
     ]
    },
    {
     "data": {
      "text/plain": [
       "\n",
       "Call:\n",
       "roc.default(response = HOLDOUT$churn, predictor = predict(GLM,     newdata = HOLDOUT, type = \"prob\")$Yes)\n",
       "\n",
       "Data: predict(GLM, newdata = HOLDOUT, type = \"prob\")$Yes in 1281 controls (HOLDOUT$churn No) < 219 cases (HOLDOUT$churn Yes).\n",
       "Area under the curve: 0.8321"
      ]
     },
     "metadata": {},
     "output_type": "display_data"
    }
   ],
   "source": [
    "fitControl <- trainControl(method=\"cv\",number=5,classProbs=TRUE) \n",
    "set.seed(474)\n",
    "GLM <- train(churn~.,data=TRAIN,method=\"glm\",trControl=fitControl,preProc=c(\"center\",\"scale\"))\n",
    "GLM$results\n",
    "mean( HOLDOUT$churn == predict(GLM,newdata=HOLDOUT) )\n",
    "postResample( predict(GLM,newdata=HOLDOUT), HOLDOUT$churn)\n",
    "roc(HOLDOUT$churn,predict(GLM,newdata=HOLDOUT,type=\"prob\")$Yes)"
   ]
  },
  {
   "cell_type": "markdown",
   "metadata": {},
   "source": [
    "d.  Using `train` and the values of `cp` in the code below, find the best estimated generalization error/accuracy of a vanilla partition model. Make predictions on the holdout and find its actual accuracy and AUC.\n",
    "\n",
    "**Selected cp:**  0.001887392\n",
    "**Estimated accuracy:**  0.9482857\n",
    "**Actual accuracy on holdout:** 0.9373333   \n",
    "**Actual AUC on holdout:** 0.9169"
   ]
  },
  {
   "cell_type": "code",
   "execution_count": 11,
   "metadata": {
    "ExecuteTime": {
     "end_time": "2020-03-29T03:18:58.282182Z",
     "start_time": "2020-03-29T03:18:52.257Z"
    }
   },
   "outputs": [
    {
     "data": {
      "text/html": [
       "<table>\n",
       "<caption>A data.frame: 1 × 5</caption>\n",
       "<thead>\n",
       "\t<tr><th></th><th scope=col>cp</th><th scope=col>Accuracy</th><th scope=col>Kappa</th><th scope=col>AccuracySD</th><th scope=col>KappaSD</th></tr>\n",
       "\t<tr><th></th><th scope=col>&lt;dbl&gt;</th><th scope=col>&lt;dbl&gt;</th><th scope=col>&lt;dbl&gt;</th><th scope=col>&lt;dbl&gt;</th><th scope=col>&lt;dbl&gt;</th></tr>\n",
       "</thead>\n",
       "<tbody>\n",
       "\t<tr><th scope=row>19</th><td>0.001268961</td><td>0.946571</td><td>0.7587462</td><td>0.005773457</td><td>0.02705771</td></tr>\n",
       "</tbody>\n",
       "</table>\n"
      ],
      "text/latex": [
       "A data.frame: 1 × 5\n",
       "\\begin{tabular}{r|lllll}\n",
       "  & cp & Accuracy & Kappa & AccuracySD & KappaSD\\\\\n",
       "  & <dbl> & <dbl> & <dbl> & <dbl> & <dbl>\\\\\n",
       "\\hline\n",
       "\t19 & 0.001268961 & 0.946571 & 0.7587462 & 0.005773457 & 0.02705771\\\\\n",
       "\\end{tabular}\n"
      ],
      "text/markdown": [
       "\n",
       "A data.frame: 1 × 5\n",
       "\n",
       "| <!--/--> | cp &lt;dbl&gt; | Accuracy &lt;dbl&gt; | Kappa &lt;dbl&gt; | AccuracySD &lt;dbl&gt; | KappaSD &lt;dbl&gt; |\n",
       "|---|---|---|---|---|---|\n",
       "| 19 | 0.001268961 | 0.946571 | 0.7587462 | 0.005773457 | 0.02705771 |\n",
       "\n"
      ],
      "text/plain": [
       "   cp          Accuracy Kappa     AccuracySD  KappaSD   \n",
       "19 0.001268961 0.946571 0.7587462 0.005773457 0.02705771"
      ]
     },
     "metadata": {},
     "output_type": "display_data"
    },
    {
     "data": {
      "text/html": [
       "0.948"
      ],
      "text/latex": [
       "0.948"
      ],
      "text/markdown": [
       "0.948"
      ],
      "text/plain": [
       "[1] 0.948"
      ]
     },
     "metadata": {},
     "output_type": "display_data"
    },
    {
     "data": {
      "text/html": [
       "<style>\n",
       ".dl-inline {width: auto; margin:0; padding: 0}\n",
       ".dl-inline>dt, .dl-inline>dd {float: none; width: auto; display: inline-block}\n",
       ".dl-inline>dt::after {content: \":\\0020\"; padding-right: .5ex}\n",
       ".dl-inline>dt:not(:first-of-type) {padding-left: .5ex}\n",
       "</style><dl class=dl-inline><dt>Accuracy</dt><dd>0.948</dd><dt>Kappa</dt><dd>0.776224739215754</dd></dl>\n"
      ],
      "text/latex": [
       "\\begin{description*}\n",
       "\\item[Accuracy] 0.948\n",
       "\\item[Kappa] 0.776224739215754\n",
       "\\end{description*}\n"
      ],
      "text/markdown": [
       "Accuracy\n",
       ":   0.948Kappa\n",
       ":   0.776224739215754\n",
       "\n"
      ],
      "text/plain": [
       " Accuracy     Kappa \n",
       "0.9480000 0.7762247 "
      ]
     },
     "metadata": {},
     "output_type": "display_data"
    },
    {
     "name": "stderr",
     "output_type": "stream",
     "text": [
      "Setting levels: control = No, case = Yes\n",
      "\n",
      "Setting direction: controls < cases\n",
      "\n"
     ]
    },
    {
     "data": {
      "text/plain": [
       "\n",
       "Call:\n",
       "roc.default(response = HOLDOUT$churn, predictor = predict(RPARTfit,     newdata = HOLDOUT, type = \"prob\")$Yes)\n",
       "\n",
       "Data: predict(RPARTfit, newdata = HOLDOUT, type = \"prob\")$Yes in 1281 controls (HOLDOUT$churn No) < 219 cases (HOLDOUT$churn Yes).\n",
       "Area under the curve: 0.9038"
      ]
     },
     "metadata": {},
     "output_type": "display_data"
    }
   ],
   "source": [
    "#The following values of cp are a good place to start when tuning a vanilla partition model\n",
    "rpartGrid <- expand.grid(cp=10^seq(from=-6,to=-1,length=30))\n",
    "set.seed(474)\n",
    "RPARTfit <- train(churn~.,data=TRAIN,method=\"rpart\",tuneGrid=rpartGrid,\n",
    "                                  trControl=fitControl,preProc=c(\"center\",\"scale\"))\n",
    "RPARTfit$results[rownames( RPARTfit$bestTune ),]\n",
    "\n",
    "mean( HOLDOUT$churn == predict(RPARTfit,newdata=HOLDOUT) )\n",
    "postResample( predict(RPARTfit,newdata=HOLDOUT),  HOLDOUT$churn)\n",
    "roc(HOLDOUT$churn,predict(RPARTfit,newdata=HOLDOUT,type=\"prob\")$Yes)"
   ]
  },
  {
   "cell_type": "markdown",
   "metadata": {},
   "source": [
    "e.  Fit the model using `rpart` and a `cp=0.05` (not the optimal value, but large enough so that the tree can be plotted) and use `visualize_model` to see what the tree looks like.  Consider the tenth individual in `CHURN`, i.e., `CHURN[10,]`.  By manually following the rules down the tree, what does the model predict for the probabilities of churning/not churning?  Does the model make a correct prediction for this individual?\n",
    "\n",
    "**Prediction:**  Is `totaldayminutes < 264`?  Yes, head to the left.  Is `numbercustomerservicecalls<4`?  Yes, head to the left. `internationalplan=no`? No, head to the right. `totalintlcalls>=3`? Yes, head to the left. `totalintlminutes<13`? Yes, head to the left. The prediction is `No` with 95.1% chance (183 other individuals match this set of characteristics). The prediction is correct!"
   ]
  },
  {
   "cell_type": "code",
   "execution_count": 12,
   "metadata": {
    "ExecuteTime": {
     "end_time": "2020-03-29T03:18:59.070027Z",
     "start_time": "2020-03-29T03:18:52.303Z"
    }
   },
   "outputs": [
    {
     "data": {
      "text/html": [
       "<table>\n",
       "<caption>A data.frame: 1 × 18</caption>\n",
       "<thead>\n",
       "\t<tr><th></th><th scope=col>churn</th><th scope=col>accountlength</th><th scope=col>internationalplan</th><th scope=col>voicemailplan</th><th scope=col>numbervmailmessages</th><th scope=col>totaldayminutes</th><th scope=col>totaldaycalls</th><th scope=col>totaldaycharge</th><th scope=col>totaleveminutes</th><th scope=col>totalevecalls</th><th scope=col>totalevecharge</th><th scope=col>totalnightminutes</th><th scope=col>totalnightcalls</th><th scope=col>totalnightcharge</th><th scope=col>totalintlminutes</th><th scope=col>totalintlcalls</th><th scope=col>totalintlcharge</th><th scope=col>numbercustomerservicecalls</th></tr>\n",
       "\t<tr><th></th><th scope=col>&lt;fct&gt;</th><th scope=col>&lt;int&gt;</th><th scope=col>&lt;fct&gt;</th><th scope=col>&lt;fct&gt;</th><th scope=col>&lt;int&gt;</th><th scope=col>&lt;dbl&gt;</th><th scope=col>&lt;int&gt;</th><th scope=col>&lt;dbl&gt;</th><th scope=col>&lt;dbl&gt;</th><th scope=col>&lt;int&gt;</th><th scope=col>&lt;dbl&gt;</th><th scope=col>&lt;dbl&gt;</th><th scope=col>&lt;int&gt;</th><th scope=col>&lt;dbl&gt;</th><th scope=col>&lt;dbl&gt;</th><th scope=col>&lt;int&gt;</th><th scope=col>&lt;dbl&gt;</th><th scope=col>&lt;int&gt;</th></tr>\n",
       "</thead>\n",
       "<tbody>\n",
       "\t<tr><th scope=row>10</th><td>No</td><td>141</td><td>yes</td><td>yes</td><td>37</td><td>258.6</td><td>84</td><td>43.96</td><td>222</td><td>111</td><td>18.87</td><td>326.4</td><td>97</td><td>14.69</td><td>11.2</td><td>5</td><td>3.02</td><td>0</td></tr>\n",
       "</tbody>\n",
       "</table>\n"
      ],
      "text/latex": [
       "A data.frame: 1 × 18\n",
       "\\begin{tabular}{r|llllllllllllllllll}\n",
       "  & churn & accountlength & internationalplan & voicemailplan & numbervmailmessages & totaldayminutes & totaldaycalls & totaldaycharge & totaleveminutes & totalevecalls & totalevecharge & totalnightminutes & totalnightcalls & totalnightcharge & totalintlminutes & totalintlcalls & totalintlcharge & numbercustomerservicecalls\\\\\n",
       "  & <fct> & <int> & <fct> & <fct> & <int> & <dbl> & <int> & <dbl> & <dbl> & <int> & <dbl> & <dbl> & <int> & <dbl> & <dbl> & <int> & <dbl> & <int>\\\\\n",
       "\\hline\n",
       "\t10 & No & 141 & yes & yes & 37 & 258.6 & 84 & 43.96 & 222 & 111 & 18.87 & 326.4 & 97 & 14.69 & 11.2 & 5 & 3.02 & 0\\\\\n",
       "\\end{tabular}\n"
      ],
      "text/markdown": [
       "\n",
       "A data.frame: 1 × 18\n",
       "\n",
       "| <!--/--> | churn &lt;fct&gt; | accountlength &lt;int&gt; | internationalplan &lt;fct&gt; | voicemailplan &lt;fct&gt; | numbervmailmessages &lt;int&gt; | totaldayminutes &lt;dbl&gt; | totaldaycalls &lt;int&gt; | totaldaycharge &lt;dbl&gt; | totaleveminutes &lt;dbl&gt; | totalevecalls &lt;int&gt; | totalevecharge &lt;dbl&gt; | totalnightminutes &lt;dbl&gt; | totalnightcalls &lt;int&gt; | totalnightcharge &lt;dbl&gt; | totalintlminutes &lt;dbl&gt; | totalintlcalls &lt;int&gt; | totalintlcharge &lt;dbl&gt; | numbercustomerservicecalls &lt;int&gt; |\n",
       "|---|---|---|---|---|---|---|---|---|---|---|---|---|---|---|---|---|---|---|\n",
       "| 10 | No | 141 | yes | yes | 37 | 258.6 | 84 | 43.96 | 222 | 111 | 18.87 | 326.4 | 97 | 14.69 | 11.2 | 5 | 3.02 | 0 |\n",
       "\n"
      ],
      "text/plain": [
       "   churn accountlength internationalplan voicemailplan numbervmailmessages\n",
       "10 No    141           yes               yes           37                 \n",
       "   totaldayminutes totaldaycalls totaldaycharge totaleveminutes totalevecalls\n",
       "10 258.6           84            43.96          222             111          \n",
       "   totalevecharge totalnightminutes totalnightcalls totalnightcharge\n",
       "10 18.87          326.4             97              14.69           \n",
       "   totalintlminutes totalintlcalls totalintlcharge numbercustomerservicecalls\n",
       "10 11.2             5              3.02            0                         "
      ]
     },
     "metadata": {},
     "output_type": "display_data"
    },
    {
     "data": {
      "image/png": "[encoded data removed]",
      "text/plain": [
       "plot without title"
      ]
     },
     "metadata": {
      "image/png": {
       "height": 420,
       "width": 420
      },
      "text/plain": {
       "height": 420,
       "width": 420
      }
     },
     "output_type": "display_data"
    }
   ],
   "source": [
    "TREE <- rpart(churn~.,data=TRAIN,cp=0.05)\n",
    "visualize_model(TREE)\n",
    "CHURN[10,]"
   ]
  },
  {
   "cell_type": "markdown",
   "metadata": {},
   "source": [
    "f.  Using `train` and the values of `mtry` in the code below (corresponding to 2, then the default value for this dataset of 4, then the value for pure bagging which is all predictors), find the estimated generalization error/accuracy of a random forest model (use the `mtry` associated with the lowest estimated generalization error).   Note:  `train` will need a minute or two to finish.  Then, make predictions on the holdout and find its actual accuracy and AUC.\n",
    "\n",
    "**Selected mtry:**  4\n",
    "**Estimated accuracy:**  0.9597143\n",
    "**Actual accuracy on holdout:** 0.9520000   \n",
    "**Actual AUC on holdout:** 0.9216"
   ]
  },
  {
   "cell_type": "code",
   "execution_count": 13,
   "metadata": {
    "ExecuteTime": {
     "end_time": "2020-03-29T03:19:43.959655Z",
     "start_time": "2020-03-29T03:18:52.351Z"
    }
   },
   "outputs": [
    {
     "data": {
      "text/html": [
       "<table>\n",
       "<caption>A data.frame: 3 × 5</caption>\n",
       "<thead>\n",
       "\t<tr><th></th><th scope=col>mtry</th><th scope=col>Accuracy</th><th scope=col>Kappa</th><th scope=col>AccuracySD</th><th scope=col>KappaSD</th></tr>\n",
       "\t<tr><th></th><th scope=col>&lt;dbl&gt;</th><th scope=col>&lt;dbl&gt;</th><th scope=col>&lt;dbl&gt;</th><th scope=col>&lt;dbl&gt;</th><th scope=col>&lt;dbl&gt;</th></tr>\n",
       "</thead>\n",
       "<tbody>\n",
       "\t<tr><th scope=row>1</th><td> 2</td><td>0.9414297</td><td>0.7079328</td><td>0.002637134</td><td>0.01582238</td></tr>\n",
       "\t<tr><th scope=row>2</th><td> 4</td><td>0.9528571</td><td>0.7785188</td><td>0.003030832</td><td>0.01627000</td></tr>\n",
       "\t<tr><th scope=row>3</th><td>17</td><td>0.9525706</td><td>0.7828362</td><td>0.005296891</td><td>0.02560711</td></tr>\n",
       "</tbody>\n",
       "</table>\n"
      ],
      "text/latex": [
       "A data.frame: 3 × 5\n",
       "\\begin{tabular}{r|lllll}\n",
       "  & mtry & Accuracy & Kappa & AccuracySD & KappaSD\\\\\n",
       "  & <dbl> & <dbl> & <dbl> & <dbl> & <dbl>\\\\\n",
       "\\hline\n",
       "\t1 &  2 & 0.9414297 & 0.7079328 & 0.002637134 & 0.01582238\\\\\n",
       "\t2 &  4 & 0.9528571 & 0.7785188 & 0.003030832 & 0.01627000\\\\\n",
       "\t3 & 17 & 0.9525706 & 0.7828362 & 0.005296891 & 0.02560711\\\\\n",
       "\\end{tabular}\n"
      ],
      "text/markdown": [
       "\n",
       "A data.frame: 3 × 5\n",
       "\n",
       "| <!--/--> | mtry &lt;dbl&gt; | Accuracy &lt;dbl&gt; | Kappa &lt;dbl&gt; | AccuracySD &lt;dbl&gt; | KappaSD &lt;dbl&gt; |\n",
       "|---|---|---|---|---|---|\n",
       "| 1 |  2 | 0.9414297 | 0.7079328 | 0.002637134 | 0.01582238 |\n",
       "| 2 |  4 | 0.9528571 | 0.7785188 | 0.003030832 | 0.01627000 |\n",
       "| 3 | 17 | 0.9525706 | 0.7828362 | 0.005296891 | 0.02560711 |\n",
       "\n"
      ],
      "text/plain": [
       "  mtry Accuracy  Kappa     AccuracySD  KappaSD   \n",
       "1  2   0.9414297 0.7079328 0.002637134 0.01582238\n",
       "2  4   0.9528571 0.7785188 0.003030832 0.01627000\n",
       "3 17   0.9525706 0.7828362 0.005296891 0.02560711"
      ]
     },
     "metadata": {},
     "output_type": "display_data"
    },
    {
     "data": {
      "text/html": [
       "<table>\n",
       "<caption>A data.frame: 1 × 5</caption>\n",
       "<thead>\n",
       "\t<tr><th></th><th scope=col>mtry</th><th scope=col>Accuracy</th><th scope=col>Kappa</th><th scope=col>AccuracySD</th><th scope=col>KappaSD</th></tr>\n",
       "\t<tr><th></th><th scope=col>&lt;dbl&gt;</th><th scope=col>&lt;dbl&gt;</th><th scope=col>&lt;dbl&gt;</th><th scope=col>&lt;dbl&gt;</th><th scope=col>&lt;dbl&gt;</th></tr>\n",
       "</thead>\n",
       "<tbody>\n",
       "\t<tr><th scope=row>2</th><td>4</td><td>0.9528571</td><td>0.7785188</td><td>0.003030832</td><td>0.01627</td></tr>\n",
       "</tbody>\n",
       "</table>\n"
      ],
      "text/latex": [
       "A data.frame: 1 × 5\n",
       "\\begin{tabular}{r|lllll}\n",
       "  & mtry & Accuracy & Kappa & AccuracySD & KappaSD\\\\\n",
       "  & <dbl> & <dbl> & <dbl> & <dbl> & <dbl>\\\\\n",
       "\\hline\n",
       "\t2 & 4 & 0.9528571 & 0.7785188 & 0.003030832 & 0.01627\\\\\n",
       "\\end{tabular}\n"
      ],
      "text/markdown": [
       "\n",
       "A data.frame: 1 × 5\n",
       "\n",
       "| <!--/--> | mtry &lt;dbl&gt; | Accuracy &lt;dbl&gt; | Kappa &lt;dbl&gt; | AccuracySD &lt;dbl&gt; | KappaSD &lt;dbl&gt; |\n",
       "|---|---|---|---|---|---|\n",
       "| 2 | 4 | 0.9528571 | 0.7785188 | 0.003030832 | 0.01627 |\n",
       "\n"
      ],
      "text/plain": [
       "  mtry Accuracy  Kappa     AccuracySD  KappaSD\n",
       "2 4    0.9528571 0.7785188 0.003030832 0.01627"
      ]
     },
     "metadata": {},
     "output_type": "display_data"
    },
    {
     "data": {
      "text/html": [
       "0.952666666666667"
      ],
      "text/latex": [
       "0.952666666666667"
      ],
      "text/markdown": [
       "0.952666666666667"
      ],
      "text/plain": [
       "[1] 0.9526667"
      ]
     },
     "metadata": {},
     "output_type": "display_data"
    },
    {
     "data": {
      "text/html": [
       "<style>\n",
       ".dl-inline {width: auto; margin:0; padding: 0}\n",
       ".dl-inline>dt, .dl-inline>dd {float: none; width: auto; display: inline-block}\n",
       ".dl-inline>dt::after {content: \":\\0020\"; padding-right: .5ex}\n",
       ".dl-inline>dt:not(:first-of-type) {padding-left: .5ex}\n",
       "</style><dl class=dl-inline><dt>Accuracy</dt><dd>0.952666666666667</dd><dt>Kappa</dt><dd>0.792514144106233</dd></dl>\n"
      ],
      "text/latex": [
       "\\begin{description*}\n",
       "\\item[Accuracy] 0.952666666666667\n",
       "\\item[Kappa] 0.792514144106233\n",
       "\\end{description*}\n"
      ],
      "text/markdown": [
       "Accuracy\n",
       ":   0.952666666666667Kappa\n",
       ":   0.792514144106233\n",
       "\n"
      ],
      "text/plain": [
       " Accuracy     Kappa \n",
       "0.9526667 0.7925141 "
      ]
     },
     "metadata": {},
     "output_type": "display_data"
    },
    {
     "name": "stderr",
     "output_type": "stream",
     "text": [
      "Setting levels: control = No, case = Yes\n",
      "\n",
      "Setting direction: controls < cases\n",
      "\n"
     ]
    },
    {
     "data": {
      "text/plain": [
       "\n",
       "Call:\n",
       "roc.default(response = HOLDOUT$churn, predictor = predict(FORESTfit,     newdata = HOLDOUT, type = \"prob\")$Yes)\n",
       "\n",
       "Data: predict(FORESTfit, newdata = HOLDOUT, type = \"prob\")$Yes in 1281 controls (HOLDOUT$churn No) < 219 cases (HOLDOUT$churn Yes).\n",
       "Area under the curve: 0.9144"
      ]
     },
     "metadata": {},
     "output_type": "display_data"
    }
   ],
   "source": [
    "forestGrid <- expand.grid(mtry=c(2,4,17))  \n",
    "set.seed(474)\n",
    "FORESTfit <- train(churn~.,data=TRAIN,method=\"rf\",tuneGrid=forestGrid,\n",
    "                                   trControl=fitControl,preProc=c(\"center\",\"scale\"))\n",
    "\n",
    "FORESTfit$results\n",
    "FORESTfit$results[rownames( FORESTfit$bestTune ),]\n",
    "\n",
    "mean( HOLDOUT$churn == predict(FORESTfit,newdata=HOLDOUT) )\n",
    "postResample( predict(FORESTfit,newdata=HOLDOUT),  HOLDOUT$churn)\n",
    "roc(HOLDOUT$churn,predict(FORESTfit,newdata=HOLDOUT,type=\"prob\")$Yes)"
   ]
  },
  {
   "cell_type": "markdown",
   "metadata": {},
   "source": [
    "g.  Comment on which model we would choose going forward and why.  Do you see indications of these models being \"overfit\"?    Why or why not?\n",
    "\n",
    "**Response:** We choose the model based on its estimated generalization error. In terms of accuracy, the one standard deviation rule suggests that the random forest models provide a valid choice.\n",
    "\n",
    "There's no signs of overfitting since the actual accuracies on the holdout are about what was estimated. An overfit model would have an accuracy that is substantially lower on the holdout than estimated."
   ]
  },
  {
   "cell_type": "code",
   "execution_count": 14,
   "metadata": {
    "ExecuteTime": {
     "end_time": "2020-03-29T03:19:44.144344Z",
     "start_time": "2020-03-29T03:18:52.429Z"
    }
   },
   "outputs": [
    {
     "data": {
      "text/html": [
       "<table>\n",
       "<caption>A data.frame: 1 × 5</caption>\n",
       "<thead>\n",
       "\t<tr><th></th><th scope=col>parameter</th><th scope=col>Accuracy</th><th scope=col>Kappa</th><th scope=col>AccuracySD</th><th scope=col>KappaSD</th></tr>\n",
       "\t<tr><th></th><th scope=col>&lt;fct&gt;</th><th scope=col>&lt;dbl&gt;</th><th scope=col>&lt;dbl&gt;</th><th scope=col>&lt;dbl&gt;</th><th scope=col>&lt;dbl&gt;</th></tr>\n",
       "</thead>\n",
       "<tbody>\n",
       "\t<tr><th scope=row>1</th><td>none</td><td>0.8677207</td><td>0.2429164</td><td>0.01136066</td><td>0.05046288</td></tr>\n",
       "</tbody>\n",
       "</table>\n"
      ],
      "text/latex": [
       "A data.frame: 1 × 5\n",
       "\\begin{tabular}{r|lllll}\n",
       "  & parameter & Accuracy & Kappa & AccuracySD & KappaSD\\\\\n",
       "  & <fct> & <dbl> & <dbl> & <dbl> & <dbl>\\\\\n",
       "\\hline\n",
       "\t1 & none & 0.8677207 & 0.2429164 & 0.01136066 & 0.05046288\\\\\n",
       "\\end{tabular}\n"
      ],
      "text/markdown": [
       "\n",
       "A data.frame: 1 × 5\n",
       "\n",
       "| <!--/--> | parameter &lt;fct&gt; | Accuracy &lt;dbl&gt; | Kappa &lt;dbl&gt; | AccuracySD &lt;dbl&gt; | KappaSD &lt;dbl&gt; |\n",
       "|---|---|---|---|---|---|\n",
       "| 1 | none | 0.8677207 | 0.2429164 | 0.01136066 | 0.05046288 |\n",
       "\n"
      ],
      "text/plain": [
       "  parameter Accuracy  Kappa     AccuracySD KappaSD   \n",
       "1 none      0.8677207 0.2429164 0.01136066 0.05046288"
      ]
     },
     "metadata": {},
     "output_type": "display_data"
    },
    {
     "data": {
      "text/html": [
       "<table>\n",
       "<caption>A data.frame: 1 × 5</caption>\n",
       "<thead>\n",
       "\t<tr><th></th><th scope=col>cp</th><th scope=col>Accuracy</th><th scope=col>Kappa</th><th scope=col>AccuracySD</th><th scope=col>KappaSD</th></tr>\n",
       "\t<tr><th></th><th scope=col>&lt;dbl&gt;</th><th scope=col>&lt;dbl&gt;</th><th scope=col>&lt;dbl&gt;</th><th scope=col>&lt;dbl&gt;</th><th scope=col>&lt;dbl&gt;</th></tr>\n",
       "</thead>\n",
       "<tbody>\n",
       "\t<tr><th scope=row>19</th><td>0.001268961</td><td>0.946571</td><td>0.7587462</td><td>0.005773457</td><td>0.02705771</td></tr>\n",
       "</tbody>\n",
       "</table>\n"
      ],
      "text/latex": [
       "A data.frame: 1 × 5\n",
       "\\begin{tabular}{r|lllll}\n",
       "  & cp & Accuracy & Kappa & AccuracySD & KappaSD\\\\\n",
       "  & <dbl> & <dbl> & <dbl> & <dbl> & <dbl>\\\\\n",
       "\\hline\n",
       "\t19 & 0.001268961 & 0.946571 & 0.7587462 & 0.005773457 & 0.02705771\\\\\n",
       "\\end{tabular}\n"
      ],
      "text/markdown": [
       "\n",
       "A data.frame: 1 × 5\n",
       "\n",
       "| <!--/--> | cp &lt;dbl&gt; | Accuracy &lt;dbl&gt; | Kappa &lt;dbl&gt; | AccuracySD &lt;dbl&gt; | KappaSD &lt;dbl&gt; |\n",
       "|---|---|---|---|---|---|\n",
       "| 19 | 0.001268961 | 0.946571 | 0.7587462 | 0.005773457 | 0.02705771 |\n",
       "\n"
      ],
      "text/plain": [
       "   cp          Accuracy Kappa     AccuracySD  KappaSD   \n",
       "19 0.001268961 0.946571 0.7587462 0.005773457 0.02705771"
      ]
     },
     "metadata": {},
     "output_type": "display_data"
    },
    {
     "data": {
      "text/html": [
       "<table>\n",
       "<caption>A data.frame: 1 × 5</caption>\n",
       "<thead>\n",
       "\t<tr><th></th><th scope=col>mtry</th><th scope=col>Accuracy</th><th scope=col>Kappa</th><th scope=col>AccuracySD</th><th scope=col>KappaSD</th></tr>\n",
       "\t<tr><th></th><th scope=col>&lt;dbl&gt;</th><th scope=col>&lt;dbl&gt;</th><th scope=col>&lt;dbl&gt;</th><th scope=col>&lt;dbl&gt;</th><th scope=col>&lt;dbl&gt;</th></tr>\n",
       "</thead>\n",
       "<tbody>\n",
       "\t<tr><th scope=row>2</th><td>4</td><td>0.9528571</td><td>0.7785188</td><td>0.003030832</td><td>0.01627</td></tr>\n",
       "</tbody>\n",
       "</table>\n"
      ],
      "text/latex": [
       "A data.frame: 1 × 5\n",
       "\\begin{tabular}{r|lllll}\n",
       "  & mtry & Accuracy & Kappa & AccuracySD & KappaSD\\\\\n",
       "  & <dbl> & <dbl> & <dbl> & <dbl> & <dbl>\\\\\n",
       "\\hline\n",
       "\t2 & 4 & 0.9528571 & 0.7785188 & 0.003030832 & 0.01627\\\\\n",
       "\\end{tabular}\n"
      ],
      "text/markdown": [
       "\n",
       "A data.frame: 1 × 5\n",
       "\n",
       "| <!--/--> | mtry &lt;dbl&gt; | Accuracy &lt;dbl&gt; | Kappa &lt;dbl&gt; | AccuracySD &lt;dbl&gt; | KappaSD &lt;dbl&gt; |\n",
       "|---|---|---|---|---|---|\n",
       "| 2 | 4 | 0.9528571 | 0.7785188 | 0.003030832 | 0.01627 |\n",
       "\n"
      ],
      "text/plain": [
       "  mtry Accuracy  Kappa     AccuracySD  KappaSD\n",
       "2 4    0.9528571 0.7785188 0.003030832 0.01627"
      ]
     },
     "metadata": {},
     "output_type": "display_data"
    },
    {
     "data": {
      "text/html": [
       "<style>\n",
       ".dl-inline {width: auto; margin:0; padding: 0}\n",
       ".dl-inline>dt, .dl-inline>dd {float: none; width: auto; display: inline-block}\n",
       ".dl-inline>dt::after {content: \":\\0020\"; padding-right: .5ex}\n",
       ".dl-inline>dt:not(:first-of-type) {padding-left: .5ex}\n",
       "</style><dl class=dl-inline><dt>Accuracy</dt><dd>0.860666666666667</dd><dt>Kappa</dt><dd>0.245639870639871</dd></dl>\n"
      ],
      "text/latex": [
       "\\begin{description*}\n",
       "\\item[Accuracy] 0.860666666666667\n",
       "\\item[Kappa] 0.245639870639871\n",
       "\\end{description*}\n"
      ],
      "text/markdown": [
       "Accuracy\n",
       ":   0.860666666666667Kappa\n",
       ":   0.245639870639871\n",
       "\n"
      ],
      "text/plain": [
       " Accuracy     Kappa \n",
       "0.8606667 0.2456399 "
      ]
     },
     "metadata": {},
     "output_type": "display_data"
    },
    {
     "data": {
      "text/html": [
       "<style>\n",
       ".dl-inline {width: auto; margin:0; padding: 0}\n",
       ".dl-inline>dt, .dl-inline>dd {float: none; width: auto; display: inline-block}\n",
       ".dl-inline>dt::after {content: \":\\0020\"; padding-right: .5ex}\n",
       ".dl-inline>dt:not(:first-of-type) {padding-left: .5ex}\n",
       "</style><dl class=dl-inline><dt>Accuracy</dt><dd>0.948</dd><dt>Kappa</dt><dd>0.776224739215754</dd></dl>\n"
      ],
      "text/latex": [
       "\\begin{description*}\n",
       "\\item[Accuracy] 0.948\n",
       "\\item[Kappa] 0.776224739215754\n",
       "\\end{description*}\n"
      ],
      "text/markdown": [
       "Accuracy\n",
       ":   0.948Kappa\n",
       ":   0.776224739215754\n",
       "\n"
      ],
      "text/plain": [
       " Accuracy     Kappa \n",
       "0.9480000 0.7762247 "
      ]
     },
     "metadata": {},
     "output_type": "display_data"
    },
    {
     "data": {
      "text/html": [
       "<style>\n",
       ".dl-inline {width: auto; margin:0; padding: 0}\n",
       ".dl-inline>dt, .dl-inline>dd {float: none; width: auto; display: inline-block}\n",
       ".dl-inline>dt::after {content: \":\\0020\"; padding-right: .5ex}\n",
       ".dl-inline>dt:not(:first-of-type) {padding-left: .5ex}\n",
       "</style><dl class=dl-inline><dt>Accuracy</dt><dd>0.952666666666667</dd><dt>Kappa</dt><dd>0.792514144106233</dd></dl>\n"
      ],
      "text/latex": [
       "\\begin{description*}\n",
       "\\item[Accuracy] 0.952666666666667\n",
       "\\item[Kappa] 0.792514144106233\n",
       "\\end{description*}\n"
      ],
      "text/markdown": [
       "Accuracy\n",
       ":   0.952666666666667Kappa\n",
       ":   0.792514144106233\n",
       "\n"
      ],
      "text/plain": [
       " Accuracy     Kappa \n",
       "0.9526667 0.7925141 "
      ]
     },
     "metadata": {},
     "output_type": "display_data"
    }
   ],
   "source": [
    "GLM$results\n",
    "RPARTfit$results[rownames( RPARTfit$bestTune ),]\n",
    "FORESTfit$results[rownames( FORESTfit$bestTune ),]\n",
    "\n",
    "postResample(predict(GLM,newdata=HOLDOUT),HOLDOUT$churn)\n",
    "postResample(predict(RPARTfit,newdata=HOLDOUT),HOLDOUT$churn)\n",
    "postResample(predict(FORESTfit,newdata=HOLDOUT),HOLDOUT$churn)"
   ]
  },
  {
   "cell_type": "markdown",
   "metadata": {
    "ExecuteTime": {
     "end_time": "2020-03-28T16:31:37.762893Z",
     "start_time": "2020-03-28T16:27:08.530Z"
    }
   },
   "source": [
    "# GBM and XGBoost Illustration"
   ]
  },
  {
   "cell_type": "markdown",
   "metadata": {},
   "source": [
    "For GBM and XGBoost, it is a lot of work to get a \"good\" model.  Let's try with the `CHURN` dataset and set it up so that 5-fold cross-validation will be used to estimate generalization errors, and the AUC will be of interest."
   ]
  },
  {
   "cell_type": "code",
   "execution_count": 15,
   "metadata": {
    "ExecuteTime": {
     "end_time": "2020-03-29T03:19:44.163047Z",
     "start_time": "2020-03-29T03:18:52.514Z"
    }
   },
   "outputs": [],
   "source": [
    "fitControl <- trainControl(method = \"cv\", number = 5,\n",
    "                           classProbs = TRUE, summaryFunction = twoClassSummary, verboseIter = FALSE)"
   ]
  },
  {
   "cell_type": "markdown",
   "metadata": {},
   "source": [
    "Using `train` and the values of boosted tree parameters in the code below, find the estimated generalization error/accuracy of a vanilla boosted tree. How many models are considered there?\n",
    "\n",
    "Then, make predictions on the holdout and find its actual accuracy.\n",
    "\n",
    "Note 1:  make sure to add `verbose=FALSE` to the `train` command or be buried in output!\n",
    "\n",
    "Note 2:  `train` may need a minute or two to finish."
   ]
  },
  {
   "cell_type": "code",
   "execution_count": 16,
   "metadata": {
    "ExecuteTime": {
     "end_time": "2020-03-29T03:20:57.393436Z",
     "start_time": "2020-03-29T03:18:52.560Z"
    }
   },
   "outputs": [
    {
     "name": "stderr",
     "output_type": "stream",
     "text": [
      "Warning message in train.default(x, y, weights = w, ...):\n",
      "“The metric \"Accuracy\" was not in the result set. ROC will be used instead.”\n"
     ]
    },
    {
     "data": {
      "text/html": [
       "<table>\n",
       "<caption>A data.frame: 8 × 10</caption>\n",
       "<thead>\n",
       "\t<tr><th></th><th scope=col>shrinkage</th><th scope=col>interaction.depth</th><th scope=col>n.minobsinnode</th><th scope=col>n.trees</th><th scope=col>ROC</th><th scope=col>Sens</th><th scope=col>Spec</th><th scope=col>ROCSD</th><th scope=col>SensSD</th><th scope=col>SpecSD</th></tr>\n",
       "\t<tr><th></th><th scope=col>&lt;dbl&gt;</th><th scope=col>&lt;int&gt;</th><th scope=col>&lt;dbl&gt;</th><th scope=col>&lt;dbl&gt;</th><th scope=col>&lt;dbl&gt;</th><th scope=col>&lt;dbl&gt;</th><th scope=col>&lt;dbl&gt;</th><th scope=col>&lt;dbl&gt;</th><th scope=col>&lt;dbl&gt;</th><th scope=col>&lt;dbl&gt;</th></tr>\n",
       "</thead>\n",
       "<tbody>\n",
       "\t<tr><th scope=row>5</th><td>0.010</td><td>4</td><td>10</td><td> 500</td><td>0.9213365</td><td>0.9923665</td><td>0.6742058</td><td>0.02025138</td><td>0.0051888080</td><td>0.03544833</td></tr>\n",
       "\t<tr><th scope=row>6</th><td>0.010</td><td>4</td><td>10</td><td>1000</td><td>0.9212993</td><td>0.9893792</td><td>0.7275615</td><td>0.01850357</td><td>0.0051862123</td><td>0.03492796</td></tr>\n",
       "\t<tr><th scope=row>8</th><td>0.010</td><td>5</td><td>10</td><td>1000</td><td>0.9211759</td><td>0.9897104</td><td>0.7357458</td><td>0.01732349</td><td>0.0035886643</td><td>0.03494083</td></tr>\n",
       "\t<tr><th scope=row>7</th><td>0.010</td><td>5</td><td>10</td><td> 500</td><td>0.9206923</td><td>0.9923665</td><td>0.6885756</td><td>0.01985998</td><td>0.0051888080</td><td>0.04207439</td></tr>\n",
       "\t<tr><th scope=row>4</th><td>0.001</td><td>5</td><td>10</td><td>1000</td><td>0.9010685</td><td>0.9980100</td><td>0.2972438</td><td>0.01106176</td><td>0.0029665910</td><td>0.07659595</td></tr>\n",
       "\t<tr><th scope=row>2</th><td>0.001</td><td>4</td><td>10</td><td>1000</td><td>0.8896518</td><td>0.9996683</td><td>0.1762255</td><td>0.01740840</td><td>0.0007416478</td><td>0.02843888</td></tr>\n",
       "\t<tr><th scope=row>3</th><td>0.001</td><td>5</td><td>10</td><td> 500</td><td>0.8858774</td><td>1.0000000</td><td>0.0000000</td><td>0.01518234</td><td>0.0000000000</td><td>0.00000000</td></tr>\n",
       "\t<tr><th scope=row>1</th><td>0.001</td><td>4</td><td>10</td><td> 500</td><td>0.8812538</td><td>1.0000000</td><td>0.0000000</td><td>0.01494906</td><td>0.0000000000</td><td>0.00000000</td></tr>\n",
       "</tbody>\n",
       "</table>\n"
      ],
      "text/latex": [
       "A data.frame: 8 × 10\n",
       "\\begin{tabular}{r|llllllllll}\n",
       "  & shrinkage & interaction.depth & n.minobsinnode & n.trees & ROC & Sens & Spec & ROCSD & SensSD & SpecSD\\\\\n",
       "  & <dbl> & <int> & <dbl> & <dbl> & <dbl> & <dbl> & <dbl> & <dbl> & <dbl> & <dbl>\\\\\n",
       "\\hline\n",
       "\t5 & 0.010 & 4 & 10 &  500 & 0.9213365 & 0.9923665 & 0.6742058 & 0.02025138 & 0.0051888080 & 0.03544833\\\\\n",
       "\t6 & 0.010 & 4 & 10 & 1000 & 0.9212993 & 0.9893792 & 0.7275615 & 0.01850357 & 0.0051862123 & 0.03492796\\\\\n",
       "\t8 & 0.010 & 5 & 10 & 1000 & 0.9211759 & 0.9897104 & 0.7357458 & 0.01732349 & 0.0035886643 & 0.03494083\\\\\n",
       "\t7 & 0.010 & 5 & 10 &  500 & 0.9206923 & 0.9923665 & 0.6885756 & 0.01985998 & 0.0051888080 & 0.04207439\\\\\n",
       "\t4 & 0.001 & 5 & 10 & 1000 & 0.9010685 & 0.9980100 & 0.2972438 & 0.01106176 & 0.0029665910 & 0.07659595\\\\\n",
       "\t2 & 0.001 & 4 & 10 & 1000 & 0.8896518 & 0.9996683 & 0.1762255 & 0.01740840 & 0.0007416478 & 0.02843888\\\\\n",
       "\t3 & 0.001 & 5 & 10 &  500 & 0.8858774 & 1.0000000 & 0.0000000 & 0.01518234 & 0.0000000000 & 0.00000000\\\\\n",
       "\t1 & 0.001 & 4 & 10 &  500 & 0.8812538 & 1.0000000 & 0.0000000 & 0.01494906 & 0.0000000000 & 0.00000000\\\\\n",
       "\\end{tabular}\n"
      ],
      "text/markdown": [
       "\n",
       "A data.frame: 8 × 10\n",
       "\n",
       "| <!--/--> | shrinkage &lt;dbl&gt; | interaction.depth &lt;int&gt; | n.minobsinnode &lt;dbl&gt; | n.trees &lt;dbl&gt; | ROC &lt;dbl&gt; | Sens &lt;dbl&gt; | Spec &lt;dbl&gt; | ROCSD &lt;dbl&gt; | SensSD &lt;dbl&gt; | SpecSD &lt;dbl&gt; |\n",
       "|---|---|---|---|---|---|---|---|---|---|---|\n",
       "| 5 | 0.010 | 4 | 10 |  500 | 0.9213365 | 0.9923665 | 0.6742058 | 0.02025138 | 0.0051888080 | 0.03544833 |\n",
       "| 6 | 0.010 | 4 | 10 | 1000 | 0.9212993 | 0.9893792 | 0.7275615 | 0.01850357 | 0.0051862123 | 0.03492796 |\n",
       "| 8 | 0.010 | 5 | 10 | 1000 | 0.9211759 | 0.9897104 | 0.7357458 | 0.01732349 | 0.0035886643 | 0.03494083 |\n",
       "| 7 | 0.010 | 5 | 10 |  500 | 0.9206923 | 0.9923665 | 0.6885756 | 0.01985998 | 0.0051888080 | 0.04207439 |\n",
       "| 4 | 0.001 | 5 | 10 | 1000 | 0.9010685 | 0.9980100 | 0.2972438 | 0.01106176 | 0.0029665910 | 0.07659595 |\n",
       "| 2 | 0.001 | 4 | 10 | 1000 | 0.8896518 | 0.9996683 | 0.1762255 | 0.01740840 | 0.0007416478 | 0.02843888 |\n",
       "| 3 | 0.001 | 5 | 10 |  500 | 0.8858774 | 1.0000000 | 0.0000000 | 0.01518234 | 0.0000000000 | 0.00000000 |\n",
       "| 1 | 0.001 | 4 | 10 |  500 | 0.8812538 | 1.0000000 | 0.0000000 | 0.01494906 | 0.0000000000 | 0.00000000 |\n",
       "\n"
      ],
      "text/plain": [
       "  shrinkage interaction.depth n.minobsinnode n.trees ROC       Sens     \n",
       "5 0.010     4                 10              500    0.9213365 0.9923665\n",
       "6 0.010     4                 10             1000    0.9212993 0.9893792\n",
       "8 0.010     5                 10             1000    0.9211759 0.9897104\n",
       "7 0.010     5                 10              500    0.9206923 0.9923665\n",
       "4 0.001     5                 10             1000    0.9010685 0.9980100\n",
       "2 0.001     4                 10             1000    0.8896518 0.9996683\n",
       "3 0.001     5                 10              500    0.8858774 1.0000000\n",
       "1 0.001     4                 10              500    0.8812538 1.0000000\n",
       "  Spec      ROCSD      SensSD       SpecSD    \n",
       "5 0.6742058 0.02025138 0.0051888080 0.03544833\n",
       "6 0.7275615 0.01850357 0.0051862123 0.03492796\n",
       "8 0.7357458 0.01732349 0.0035886643 0.03494083\n",
       "7 0.6885756 0.01985998 0.0051888080 0.04207439\n",
       "4 0.2972438 0.01106176 0.0029665910 0.07659595\n",
       "2 0.1762255 0.01740840 0.0007416478 0.02843888\n",
       "3 0.0000000 0.01518234 0.0000000000 0.00000000\n",
       "1 0.0000000 0.01494906 0.0000000000 0.00000000"
      ]
     },
     "metadata": {},
     "output_type": "display_data"
    },
    {
     "data": {
      "text/html": [
       "<style>\n",
       ".dl-inline {width: auto; margin:0; padding: 0}\n",
       ".dl-inline>dt, .dl-inline>dd {float: none; width: auto; display: inline-block}\n",
       ".dl-inline>dt::after {content: \":\\0020\"; padding-right: .5ex}\n",
       ".dl-inline>dt:not(:first-of-type) {padding-left: .5ex}\n",
       "</style><dl class=dl-inline><dt>Accuracy</dt><dd>0.939333333333333</dd><dt>Kappa</dt><dd>0.718948434758975</dd></dl>\n"
      ],
      "text/latex": [
       "\\begin{description*}\n",
       "\\item[Accuracy] 0.939333333333333\n",
       "\\item[Kappa] 0.718948434758975\n",
       "\\end{description*}\n"
      ],
      "text/markdown": [
       "Accuracy\n",
       ":   0.939333333333333Kappa\n",
       ":   0.718948434758975\n",
       "\n"
      ],
      "text/plain": [
       " Accuracy     Kappa \n",
       "0.9393333 0.7189484 "
      ]
     },
     "metadata": {},
     "output_type": "display_data"
    }
   ],
   "source": [
    "gbmGrid <- expand.grid(n.trees=c(500,1000),interaction.depth=4:5,shrinkage=c(.001,.01),n.minobsinnode=10)\n",
    "set.seed(474)\n",
    "GBM <- train(churn~.,data=TRAIN,method=\"gbm\",tuneGrid=gbmGrid,verbose=FALSE,\n",
    "                                trControl=fitControl,preProc=c(\"center\",\"scale\"))\n",
    "\n",
    "GBM$results[order(GBM$results$ROC,decreasing=TRUE),]\n",
    "\n",
    "postResample(predict(GBM,newdata=HOLDOUT),HOLDOUT$churn)"
   ]
  },
  {
   "cell_type": "markdown",
   "metadata": {},
   "source": [
    "For XGBoost, try the parameters given below and remember `set.seed(474)` immediately before `train`.\n",
    "\n",
    "**Expect the training to take a LONG time ...**"
   ]
  },
  {
   "cell_type": "code",
   "execution_count": 17,
   "metadata": {
    "ExecuteTime": {
     "end_time": "2020-03-29T03:22:27.231959Z",
     "start_time": "2020-03-29T03:18:52.602Z"
    }
   },
   "outputs": [
    {
     "data": {
      "text/html": [
       "<table>\n",
       "<caption>A data.frame: 18 × 13</caption>\n",
       "<thead>\n",
       "\t<tr><th></th><th scope=col>eta</th><th scope=col>max_depth</th><th scope=col>gamma</th><th scope=col>colsample_bytree</th><th scope=col>min_child_weight</th><th scope=col>subsample</th><th scope=col>nrounds</th><th scope=col>ROC</th><th scope=col>Sens</th><th scope=col>Spec</th><th scope=col>ROCSD</th><th scope=col>SensSD</th><th scope=col>SpecSD</th></tr>\n",
       "\t<tr><th></th><th scope=col>&lt;dbl&gt;</th><th scope=col>&lt;dbl&gt;</th><th scope=col>&lt;dbl&gt;</th><th scope=col>&lt;dbl&gt;</th><th scope=col>&lt;dbl&gt;</th><th scope=col>&lt;dbl&gt;</th><th scope=col>&lt;dbl&gt;</th><th scope=col>&lt;dbl&gt;</th><th scope=col>&lt;dbl&gt;</th><th scope=col>&lt;dbl&gt;</th><th scope=col>&lt;dbl&gt;</th><th scope=col>&lt;dbl&gt;</th><th scope=col>&lt;dbl&gt;</th></tr>\n",
       "</thead>\n",
       "<tbody>\n",
       "\t<tr><th scope=row>6</th><td>0.01</td><td>5</td><td> 1</td><td>1</td><td>1</td><td>0.8</td><td>500</td><td>0.9265708</td><td>0.9933599</td><td>0.7295603</td><td>0.01633504</td><td>0.002625613</td><td>0.025954228</td></tr>\n",
       "\t<tr><th scope=row>3</th><td>0.01</td><td>5</td><td> 0</td><td>1</td><td>1</td><td>0.8</td><td>500</td><td>0.9264400</td><td>0.9930271</td><td>0.7315801</td><td>0.01757621</td><td>0.004300901</td><td>0.017789384</td></tr>\n",
       "\t<tr><th scope=row>12</th><td>0.01</td><td>7</td><td> 0</td><td>1</td><td>1</td><td>0.8</td><td>500</td><td>0.9253710</td><td>0.9936916</td><td>0.7438881</td><td>0.01516199</td><td>0.003600486</td><td>0.025574012</td></tr>\n",
       "\t<tr><th scope=row>15</th><td>0.01</td><td>7</td><td> 1</td><td>1</td><td>1</td><td>0.8</td><td>500</td><td>0.9248504</td><td>0.9943560</td><td>0.7336419</td><td>0.01575669</td><td>0.003015626</td><td>0.025556200</td></tr>\n",
       "\t<tr><th scope=row>18</th><td>0.01</td><td>7</td><td>10</td><td>1</td><td>1</td><td>0.8</td><td>500</td><td>0.9227653</td><td>0.9923649</td><td>0.6722281</td><td>0.01734850</td><td>0.004780320</td><td>0.036464466</td></tr>\n",
       "\t<tr><th scope=row>5</th><td>0.01</td><td>5</td><td> 1</td><td>1</td><td>1</td><td>0.8</td><td>200</td><td>0.9220038</td><td>0.9916999</td><td>0.7029245</td><td>0.01627622</td><td>0.003319514</td><td>0.029962788</td></tr>\n",
       "\t<tr><th scope=row>9</th><td>0.01</td><td>5</td><td>10</td><td>1</td><td>1</td><td>0.8</td><td>500</td><td>0.9219451</td><td>0.9920332</td><td>0.6722281</td><td>0.01705913</td><td>0.005298242</td><td>0.037171480</td></tr>\n",
       "\t<tr><th scope=row>2</th><td>0.01</td><td>5</td><td> 0</td><td>1</td><td>1</td><td>0.8</td><td>200</td><td>0.9216422</td><td>0.9910354</td><td>0.7111298</td><td>0.01799808</td><td>0.003443273</td><td>0.031980840</td></tr>\n",
       "\t<tr><th scope=row>11</th><td>0.01</td><td>7</td><td> 0</td><td>1</td><td>1</td><td>0.8</td><td>200</td><td>0.9183337</td><td>0.9923632</td><td>0.7192931</td><td>0.01446130</td><td>0.004782519</td><td>0.020608974</td></tr>\n",
       "\t<tr><th scope=row>14</th><td>0.01</td><td>7</td><td> 1</td><td>1</td><td>1</td><td>0.8</td><td>200</td><td>0.9181961</td><td>0.9926960</td><td>0.7213549</td><td>0.01496721</td><td>0.003998992</td><td>0.022611349</td></tr>\n",
       "\t<tr><th scope=row>10</th><td>0.01</td><td>7</td><td> 0</td><td>1</td><td>1</td><td>0.8</td><td>100</td><td>0.9178549</td><td>0.9910360</td><td>0.7131706</td><td>0.01745087</td><td>0.004635938</td><td>0.025276300</td></tr>\n",
       "\t<tr><th scope=row>1</th><td>0.01</td><td>5</td><td> 0</td><td>1</td><td>1</td><td>0.8</td><td>100</td><td>0.9165401</td><td>0.9913687</td><td>0.6844098</td><td>0.01948663</td><td>0.004128552</td><td>0.011610068</td></tr>\n",
       "\t<tr><th scope=row>13</th><td>0.01</td><td>7</td><td> 1</td><td>1</td><td>1</td><td>0.8</td><td>100</td><td>0.9157524</td><td>0.9910360</td><td>0.7151904</td><td>0.01857823</td><td>0.003820149</td><td>0.024021919</td></tr>\n",
       "\t<tr><th scope=row>4</th><td>0.01</td><td>5</td><td> 1</td><td>1</td><td>1</td><td>0.8</td><td>100</td><td>0.9152624</td><td>0.9910371</td><td>0.6762466</td><td>0.01837436</td><td>0.004324626</td><td>0.008156172</td></tr>\n",
       "\t<tr><th scope=row>17</th><td>0.01</td><td>7</td><td>10</td><td>1</td><td>1</td><td>0.8</td><td>200</td><td>0.9146083</td><td>0.9910371</td><td>0.6783716</td><td>0.01565427</td><td>0.003818593</td><td>0.036293752</td></tr>\n",
       "\t<tr><th scope=row>8</th><td>0.01</td><td>5</td><td>10</td><td>1</td><td>1</td><td>0.8</td><td>200</td><td>0.9138371</td><td>0.9903732</td><td>0.6783295</td><td>0.01655000</td><td>0.005168084</td><td>0.036775725</td></tr>\n",
       "\t<tr><th scope=row>16</th><td>0.01</td><td>7</td><td>10</td><td>1</td><td>1</td><td>0.8</td><td>100</td><td>0.9137483</td><td>0.9887137</td><td>0.6598359</td><td>0.01697868</td><td>0.005296305</td><td>0.025424613</td></tr>\n",
       "\t<tr><th scope=row>7</th><td>0.01</td><td>5</td><td>10</td><td>1</td><td>1</td><td>0.8</td><td>100</td><td>0.9127114</td><td>0.9893781</td><td>0.6536293</td><td>0.01751259</td><td>0.005320829</td><td>0.027406077</td></tr>\n",
       "</tbody>\n",
       "</table>\n"
      ],
      "text/latex": [
       "A data.frame: 18 × 13\n",
       "\\begin{tabular}{r|lllllllllllll}\n",
       "  & eta & max\\_depth & gamma & colsample\\_bytree & min\\_child\\_weight & subsample & nrounds & ROC & Sens & Spec & ROCSD & SensSD & SpecSD\\\\\n",
       "  & <dbl> & <dbl> & <dbl> & <dbl> & <dbl> & <dbl> & <dbl> & <dbl> & <dbl> & <dbl> & <dbl> & <dbl> & <dbl>\\\\\n",
       "\\hline\n",
       "\t6 & 0.01 & 5 &  1 & 1 & 1 & 0.8 & 500 & 0.9265708 & 0.9933599 & 0.7295603 & 0.01633504 & 0.002625613 & 0.025954228\\\\\n",
       "\t3 & 0.01 & 5 &  0 & 1 & 1 & 0.8 & 500 & 0.9264400 & 0.9930271 & 0.7315801 & 0.01757621 & 0.004300901 & 0.017789384\\\\\n",
       "\t12 & 0.01 & 7 &  0 & 1 & 1 & 0.8 & 500 & 0.9253710 & 0.9936916 & 0.7438881 & 0.01516199 & 0.003600486 & 0.025574012\\\\\n",
       "\t15 & 0.01 & 7 &  1 & 1 & 1 & 0.8 & 500 & 0.9248504 & 0.9943560 & 0.7336419 & 0.01575669 & 0.003015626 & 0.025556200\\\\\n",
       "\t18 & 0.01 & 7 & 10 & 1 & 1 & 0.8 & 500 & 0.9227653 & 0.9923649 & 0.6722281 & 0.01734850 & 0.004780320 & 0.036464466\\\\\n",
       "\t5 & 0.01 & 5 &  1 & 1 & 1 & 0.8 & 200 & 0.9220038 & 0.9916999 & 0.7029245 & 0.01627622 & 0.003319514 & 0.029962788\\\\\n",
       "\t9 & 0.01 & 5 & 10 & 1 & 1 & 0.8 & 500 & 0.9219451 & 0.9920332 & 0.6722281 & 0.01705913 & 0.005298242 & 0.037171480\\\\\n",
       "\t2 & 0.01 & 5 &  0 & 1 & 1 & 0.8 & 200 & 0.9216422 & 0.9910354 & 0.7111298 & 0.01799808 & 0.003443273 & 0.031980840\\\\\n",
       "\t11 & 0.01 & 7 &  0 & 1 & 1 & 0.8 & 200 & 0.9183337 & 0.9923632 & 0.7192931 & 0.01446130 & 0.004782519 & 0.020608974\\\\\n",
       "\t14 & 0.01 & 7 &  1 & 1 & 1 & 0.8 & 200 & 0.9181961 & 0.9926960 & 0.7213549 & 0.01496721 & 0.003998992 & 0.022611349\\\\\n",
       "\t10 & 0.01 & 7 &  0 & 1 & 1 & 0.8 & 100 & 0.9178549 & 0.9910360 & 0.7131706 & 0.01745087 & 0.004635938 & 0.025276300\\\\\n",
       "\t1 & 0.01 & 5 &  0 & 1 & 1 & 0.8 & 100 & 0.9165401 & 0.9913687 & 0.6844098 & 0.01948663 & 0.004128552 & 0.011610068\\\\\n",
       "\t13 & 0.01 & 7 &  1 & 1 & 1 & 0.8 & 100 & 0.9157524 & 0.9910360 & 0.7151904 & 0.01857823 & 0.003820149 & 0.024021919\\\\\n",
       "\t4 & 0.01 & 5 &  1 & 1 & 1 & 0.8 & 100 & 0.9152624 & 0.9910371 & 0.6762466 & 0.01837436 & 0.004324626 & 0.008156172\\\\\n",
       "\t17 & 0.01 & 7 & 10 & 1 & 1 & 0.8 & 200 & 0.9146083 & 0.9910371 & 0.6783716 & 0.01565427 & 0.003818593 & 0.036293752\\\\\n",
       "\t8 & 0.01 & 5 & 10 & 1 & 1 & 0.8 & 200 & 0.9138371 & 0.9903732 & 0.6783295 & 0.01655000 & 0.005168084 & 0.036775725\\\\\n",
       "\t16 & 0.01 & 7 & 10 & 1 & 1 & 0.8 & 100 & 0.9137483 & 0.9887137 & 0.6598359 & 0.01697868 & 0.005296305 & 0.025424613\\\\\n",
       "\t7 & 0.01 & 5 & 10 & 1 & 1 & 0.8 & 100 & 0.9127114 & 0.9893781 & 0.6536293 & 0.01751259 & 0.005320829 & 0.027406077\\\\\n",
       "\\end{tabular}\n"
      ],
      "text/markdown": [
       "\n",
       "A data.frame: 18 × 13\n",
       "\n",
       "| <!--/--> | eta &lt;dbl&gt; | max_depth &lt;dbl&gt; | gamma &lt;dbl&gt; | colsample_bytree &lt;dbl&gt; | min_child_weight &lt;dbl&gt; | subsample &lt;dbl&gt; | nrounds &lt;dbl&gt; | ROC &lt;dbl&gt; | Sens &lt;dbl&gt; | Spec &lt;dbl&gt; | ROCSD &lt;dbl&gt; | SensSD &lt;dbl&gt; | SpecSD &lt;dbl&gt; |\n",
       "|---|---|---|---|---|---|---|---|---|---|---|---|---|---|\n",
       "| 6 | 0.01 | 5 |  1 | 1 | 1 | 0.8 | 500 | 0.9265708 | 0.9933599 | 0.7295603 | 0.01633504 | 0.002625613 | 0.025954228 |\n",
       "| 3 | 0.01 | 5 |  0 | 1 | 1 | 0.8 | 500 | 0.9264400 | 0.9930271 | 0.7315801 | 0.01757621 | 0.004300901 | 0.017789384 |\n",
       "| 12 | 0.01 | 7 |  0 | 1 | 1 | 0.8 | 500 | 0.9253710 | 0.9936916 | 0.7438881 | 0.01516199 | 0.003600486 | 0.025574012 |\n",
       "| 15 | 0.01 | 7 |  1 | 1 | 1 | 0.8 | 500 | 0.9248504 | 0.9943560 | 0.7336419 | 0.01575669 | 0.003015626 | 0.025556200 |\n",
       "| 18 | 0.01 | 7 | 10 | 1 | 1 | 0.8 | 500 | 0.9227653 | 0.9923649 | 0.6722281 | 0.01734850 | 0.004780320 | 0.036464466 |\n",
       "| 5 | 0.01 | 5 |  1 | 1 | 1 | 0.8 | 200 | 0.9220038 | 0.9916999 | 0.7029245 | 0.01627622 | 0.003319514 | 0.029962788 |\n",
       "| 9 | 0.01 | 5 | 10 | 1 | 1 | 0.8 | 500 | 0.9219451 | 0.9920332 | 0.6722281 | 0.01705913 | 0.005298242 | 0.037171480 |\n",
       "| 2 | 0.01 | 5 |  0 | 1 | 1 | 0.8 | 200 | 0.9216422 | 0.9910354 | 0.7111298 | 0.01799808 | 0.003443273 | 0.031980840 |\n",
       "| 11 | 0.01 | 7 |  0 | 1 | 1 | 0.8 | 200 | 0.9183337 | 0.9923632 | 0.7192931 | 0.01446130 | 0.004782519 | 0.020608974 |\n",
       "| 14 | 0.01 | 7 |  1 | 1 | 1 | 0.8 | 200 | 0.9181961 | 0.9926960 | 0.7213549 | 0.01496721 | 0.003998992 | 0.022611349 |\n",
       "| 10 | 0.01 | 7 |  0 | 1 | 1 | 0.8 | 100 | 0.9178549 | 0.9910360 | 0.7131706 | 0.01745087 | 0.004635938 | 0.025276300 |\n",
       "| 1 | 0.01 | 5 |  0 | 1 | 1 | 0.8 | 100 | 0.9165401 | 0.9913687 | 0.6844098 | 0.01948663 | 0.004128552 | 0.011610068 |\n",
       "| 13 | 0.01 | 7 |  1 | 1 | 1 | 0.8 | 100 | 0.9157524 | 0.9910360 | 0.7151904 | 0.01857823 | 0.003820149 | 0.024021919 |\n",
       "| 4 | 0.01 | 5 |  1 | 1 | 1 | 0.8 | 100 | 0.9152624 | 0.9910371 | 0.6762466 | 0.01837436 | 0.004324626 | 0.008156172 |\n",
       "| 17 | 0.01 | 7 | 10 | 1 | 1 | 0.8 | 200 | 0.9146083 | 0.9910371 | 0.6783716 | 0.01565427 | 0.003818593 | 0.036293752 |\n",
       "| 8 | 0.01 | 5 | 10 | 1 | 1 | 0.8 | 200 | 0.9138371 | 0.9903732 | 0.6783295 | 0.01655000 | 0.005168084 | 0.036775725 |\n",
       "| 16 | 0.01 | 7 | 10 | 1 | 1 | 0.8 | 100 | 0.9137483 | 0.9887137 | 0.6598359 | 0.01697868 | 0.005296305 | 0.025424613 |\n",
       "| 7 | 0.01 | 5 | 10 | 1 | 1 | 0.8 | 100 | 0.9127114 | 0.9893781 | 0.6536293 | 0.01751259 | 0.005320829 | 0.027406077 |\n",
       "\n"
      ],
      "text/plain": [
       "   eta  max_depth gamma colsample_bytree min_child_weight subsample nrounds\n",
       "6  0.01 5          1    1                1                0.8       500    \n",
       "3  0.01 5          0    1                1                0.8       500    \n",
       "12 0.01 7          0    1                1                0.8       500    \n",
       "15 0.01 7          1    1                1                0.8       500    \n",
       "18 0.01 7         10    1                1                0.8       500    \n",
       "5  0.01 5          1    1                1                0.8       200    \n",
       "9  0.01 5         10    1                1                0.8       500    \n",
       "2  0.01 5          0    1                1                0.8       200    \n",
       "11 0.01 7          0    1                1                0.8       200    \n",
       "14 0.01 7          1    1                1                0.8       200    \n",
       "10 0.01 7          0    1                1                0.8       100    \n",
       "1  0.01 5          0    1                1                0.8       100    \n",
       "13 0.01 7          1    1                1                0.8       100    \n",
       "4  0.01 5          1    1                1                0.8       100    \n",
       "17 0.01 7         10    1                1                0.8       200    \n",
       "8  0.01 5         10    1                1                0.8       200    \n",
       "16 0.01 7         10    1                1                0.8       100    \n",
       "7  0.01 5         10    1                1                0.8       100    \n",
       "   ROC       Sens      Spec      ROCSD      SensSD      SpecSD     \n",
       "6  0.9265708 0.9933599 0.7295603 0.01633504 0.002625613 0.025954228\n",
       "3  0.9264400 0.9930271 0.7315801 0.01757621 0.004300901 0.017789384\n",
       "12 0.9253710 0.9936916 0.7438881 0.01516199 0.003600486 0.025574012\n",
       "15 0.9248504 0.9943560 0.7336419 0.01575669 0.003015626 0.025556200\n",
       "18 0.9227653 0.9923649 0.6722281 0.01734850 0.004780320 0.036464466\n",
       "5  0.9220038 0.9916999 0.7029245 0.01627622 0.003319514 0.029962788\n",
       "9  0.9219451 0.9920332 0.6722281 0.01705913 0.005298242 0.037171480\n",
       "2  0.9216422 0.9910354 0.7111298 0.01799808 0.003443273 0.031980840\n",
       "11 0.9183337 0.9923632 0.7192931 0.01446130 0.004782519 0.020608974\n",
       "14 0.9181961 0.9926960 0.7213549 0.01496721 0.003998992 0.022611349\n",
       "10 0.9178549 0.9910360 0.7131706 0.01745087 0.004635938 0.025276300\n",
       "1  0.9165401 0.9913687 0.6844098 0.01948663 0.004128552 0.011610068\n",
       "13 0.9157524 0.9910360 0.7151904 0.01857823 0.003820149 0.024021919\n",
       "4  0.9152624 0.9910371 0.6762466 0.01837436 0.004324626 0.008156172\n",
       "17 0.9146083 0.9910371 0.6783716 0.01565427 0.003818593 0.036293752\n",
       "8  0.9138371 0.9903732 0.6783295 0.01655000 0.005168084 0.036775725\n",
       "16 0.9137483 0.9887137 0.6598359 0.01697868 0.005296305 0.025424613\n",
       "7  0.9127114 0.9893781 0.6536293 0.01751259 0.005320829 0.027406077"
      ]
     },
     "metadata": {},
     "output_type": "display_data"
    },
    {
     "data": {
      "text/html": [
       "<style>\n",
       ".dl-inline {width: auto; margin:0; padding: 0}\n",
       ".dl-inline>dt, .dl-inline>dd {float: none; width: auto; display: inline-block}\n",
       ".dl-inline>dt::after {content: \":\\0020\"; padding-right: .5ex}\n",
       ".dl-inline>dt:not(:first-of-type) {padding-left: .5ex}\n",
       "</style><dl class=dl-inline><dt>Accuracy</dt><dd>0.958</dd><dt>Kappa</dt><dd>0.817404006677796</dd></dl>\n"
      ],
      "text/latex": [
       "\\begin{description*}\n",
       "\\item[Accuracy] 0.958\n",
       "\\item[Kappa] 0.817404006677796\n",
       "\\end{description*}\n"
      ],
      "text/markdown": [
       "Accuracy\n",
       ":   0.958Kappa\n",
       ":   0.817404006677796\n",
       "\n"
      ],
      "text/plain": [
       "Accuracy    Kappa \n",
       "0.958000 0.817404 "
      ]
     },
     "metadata": {},
     "output_type": "display_data"
    }
   ],
   "source": [
    "xgboostGrid <- expand.grid(eta=0.01,nrounds=c(100,200,500),\n",
    "                           max_depth=c(5, 7),min_child_weight=1,gamma=c(0, 1, 10),colsample_bytree=1,subsample=0.8)\n",
    "set.seed(474)\n",
    "XTREME <- train(churn~.,data=TRAIN,method=\"xgbTree\",tuneGrid=xgboostGrid,metric=\"ROC\",\n",
    "                                trControl=fitControl,verbose=FALSE)\n",
    "\n",
    "XTREME$results[order(XTREME$results$ROC,decreasing=TRUE),]\n",
    "\n",
    "postResample(predict(XTREME,newdata=HOLDOUT),HOLDOUT$churn)"
   ]
  },
  {
   "cell_type": "markdown",
   "metadata": {},
   "source": [
    "Note: normally, MUCH more tuning of parameters is performed (and with a much higher number of trees); I've just narrowed it down to some reasonable values in the interest of time. You can explore more choices of parameters to achieve even better performance."
   ]
  }
 ],
 "metadata": {
  "hide_input": false,
  "kernelspec": {
   "display_name": "R",
   "language": "R",
   "name": "ir"
  },
  "language_info": {
   "codemirror_mode": "r",
   "file_extension": ".r",
   "mimetype": "text/x-r-source",
   "name": "R",
   "pygments_lexer": "r",
   "version": "3.6.3"
  },
  "title": "Solutions on Tree Models",
  "toc": {
   "base_numbering": 1,
   "nav_menu": {
    "height": "358.996px",
    "width": "355.985px"
   },
   "number_sections": true,
   "sideBar": true,
   "skip_h1_title": false,
   "title_cell": "Table of Contents",
   "title_sidebar": "Contents",
   "toc_cell": false,
   "toc_position": {
    "height": "calc(100% - 180px)",
    "left": "10px",
    "top": "150px",
    "width": "209.95px"
   },
   "toc_section_display": true,
   "toc_window_display": true
  },
  "varInspector": {
   "cols": {
    "lenName": 16,
    "lenType": 16,
    "lenVar": 40
   },
   "kernels_config": {
    "python": {
     "delete_cmd_postfix": "",
     "delete_cmd_prefix": "del ",
     "library": "var_list.py",
     "varRefreshCmd": "print(var_dic_list())"
    },
    "r": {
     "delete_cmd_postfix": ") ",
     "delete_cmd_prefix": "rm(",
     "library": "var_list.r",
     "varRefreshCmd": "cat(var_dic_list()) "
    }
   },
   "types_to_exclude": [
    "module",
    "function",
    "builtin_function_or_method",
    "instance",
    "_Feature"
   ],
   "window_display": false
  }
 },
 "nbformat": 4,
 "nbformat_minor": 4
}
