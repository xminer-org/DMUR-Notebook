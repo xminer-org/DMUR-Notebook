{
 "cells": [
  {
   "cell_type": "markdown",
   "metadata": {},
   "source": [
    "**Solution on Basic Classification Models**\n",
    "\n",
    "BAS 474\n",
    "\n",
    "Charles Liu"
   ]
  },
  {
   "cell_type": "code",
   "execution_count": null,
   "metadata": {
    "ExecuteTime": {
     "end_time": "2020-03-29T02:02:41.046328Z",
     "start_time": "2020-03-29T02:02:38.568Z"
    }
   },
   "outputs": [],
   "source": [
    "library(regclass)\n",
    "library(caret)\n",
    "library(pROC)"
   ]
  },
  {
   "cell_type": "markdown",
   "metadata": {},
   "source": [
    "The `ACCOUNT` data deals with customers of a bank and whether they have or have not purchased into a new type of CD account offered by the bank (the `Purchase` column, levels are `Yes` and `No`)."
   ]
  },
  {
   "cell_type": "code",
   "execution_count": 2,
   "metadata": {
    "ExecuteTime": {
     "end_time": "2020-03-29T02:02:41.390238Z",
     "start_time": "2020-03-29T02:02:38.666Z"
    }
   },
   "outputs": [
    {
     "data": {
      "text/plain": [
       " Purchase        Tenure      CheckingBalance     SavingBalance   \n",
       " No :15899   Min.   : 0.30   Min.   :  -774.83   Min.   :     0  \n",
       " Yes: 8343   1st Qu.: 1.90   1st Qu.:    65.08   1st Qu.:     0  \n",
       "             Median : 3.90   Median :   568.98   Median :     0  \n",
       "             Mean   : 5.76   Mean   :  2168.01   Mean   :  3127  \n",
       "             3rd Qu.: 6.70   3rd Qu.:  1817.21   3rd Qu.:  1196  \n",
       "             Max.   :61.50   Max.   :278093.83   Max.   :700027  \n",
       "     Income       Homeowner        Age        Area.Classification\n",
       " Min.   :  0.00   No :11078   Min.   :16.00   R:6195             \n",
       " 1st Qu.: 20.00   Yes:13164   1st Qu.:38.00   S:8615             \n",
       " Median : 34.00               Median :48.00   U:9432             \n",
       " Mean   : 40.33               Mean   :47.95                      \n",
       " 3rd Qu.: 55.00               3rd Qu.:58.00                      \n",
       " Max.   :233.00               Max.   :94.00                      "
      ]
     },
     "metadata": {},
     "output_type": "display_data"
    }
   ],
   "source": [
    "data(ACCOUNT)\n",
    "summary(ACCOUNT)"
   ]
  },
  {
   "cell_type": "markdown",
   "metadata": {
    "ExecuteTime": {
     "end_time": "2020-03-25T18:58:50.382683Z",
     "start_time": "2020-03-25T18:58:46.773Z"
    }
   },
   "source": [
    "a.  The `Tenure`, `CheckingBalance`, `SavingBalance`, and `Income` columns are all quite skewed.  Logistic regression models tend to be more effective when predictors are symmetric, so let's replace the values in each column with the `log10` of their values to symmetrize them.  However, we need to be careful:  the smallest values for all but `Tenure` are 0 or negative, and we cannot take the logarithm of that!  Thus, for all but `Tenure` add an appropriate number to the column so that its minimum value is 1 before taking the log.  For example, if the smallest value in a column was -2.6, you'd need to add 3.6 and then take the log, e.g. `log10(x+3.6)`.   Verify you can produce the following sanity check."
   ]
  },
  {
   "cell_type": "code",
   "execution_count": 3,
   "metadata": {
    "ExecuteTime": {
     "end_time": "2020-03-29T02:02:41.514995Z",
     "start_time": "2020-03-29T02:02:38.697Z"
    }
   },
   "outputs": [
    {
     "data": {
      "text/html": [
       "<table>\n",
       "<caption>A data.frame: 4 × 4</caption>\n",
       "<thead>\n",
       "\t<tr><th></th><th scope=col>Tenure</th><th scope=col>CheckingBalance</th><th scope=col>SavingBalance</th><th scope=col>Income</th></tr>\n",
       "\t<tr><th></th><th scope=col>&lt;dbl&gt;</th><th scope=col>&lt;dbl&gt;</th><th scope=col>&lt;dbl&gt;</th><th scope=col>&lt;dbl&gt;</th></tr>\n",
       "</thead>\n",
       "<tbody>\n",
       "\t<tr><th scope=row>1</th><td>0.04139269</td><td>2.889767</td><td>0.0000000</td><td>0.602060</td></tr>\n",
       "\t<tr><th scope=row>5</th><td>0.89209460</td><td>2.889767</td><td>0.0000000</td><td>1.041393</td></tr>\n",
       "\t<tr><th scope=row>7</th><td>1.04139269</td><td>2.929649</td><td>3.5210334</td><td>1.113943</td></tr>\n",
       "\t<tr><th scope=row>9</th><td>0.49136169</td><td>3.266991</td><td>0.3996737</td><td>1.230449</td></tr>\n",
       "</tbody>\n",
       "</table>\n"
      ],
      "text/latex": [
       "A data.frame: 4 × 4\n",
       "\\begin{tabular}{r|llll}\n",
       "  & Tenure & CheckingBalance & SavingBalance & Income\\\\\n",
       "  & <dbl> & <dbl> & <dbl> & <dbl>\\\\\n",
       "\\hline\n",
       "\t1 & 0.04139269 & 2.889767 & 0.0000000 & 0.602060\\\\\n",
       "\t5 & 0.89209460 & 2.889767 & 0.0000000 & 1.041393\\\\\n",
       "\t7 & 1.04139269 & 2.929649 & 3.5210334 & 1.113943\\\\\n",
       "\t9 & 0.49136169 & 3.266991 & 0.3996737 & 1.230449\\\\\n",
       "\\end{tabular}\n"
      ],
      "text/markdown": [
       "\n",
       "A data.frame: 4 × 4\n",
       "\n",
       "| <!--/--> | Tenure &lt;dbl&gt; | CheckingBalance &lt;dbl&gt; | SavingBalance &lt;dbl&gt; | Income &lt;dbl&gt; |\n",
       "|---|---|---|---|---|\n",
       "| 1 | 0.04139269 | 2.889767 | 0.0000000 | 0.602060 |\n",
       "| 5 | 0.89209460 | 2.889767 | 0.0000000 | 1.041393 |\n",
       "| 7 | 1.04139269 | 2.929649 | 3.5210334 | 1.113943 |\n",
       "| 9 | 0.49136169 | 3.266991 | 0.3996737 | 1.230449 |\n",
       "\n"
      ],
      "text/plain": [
       "  Tenure     CheckingBalance SavingBalance Income  \n",
       "1 0.04139269 2.889767        0.0000000     0.602060\n",
       "5 0.89209460 2.889767        0.0000000     1.041393\n",
       "7 1.04139269 2.929649        3.5210334     1.113943\n",
       "9 0.49136169 3.266991        0.3996737     1.230449"
      ]
     },
     "metadata": {},
     "output_type": "display_data"
    }
   ],
   "source": [
    "ACCOUNT$Tenure <- log10(ACCOUNT$Tenure)\n",
    "ACCOUNT$CheckingBalance <- log10( ACCOUNT$CheckingBalance + 775.83 )\n",
    "ACCOUNT$SavingBalance <- log10(ACCOUNT$SavingBalance+1)\n",
    "ACCOUNT$Income <- log10(ACCOUNT$Income+1)\n",
    "ACCOUNT[c(1,5,7,9),c(2,3,4,5)]"
   ]
  },
  {
   "cell_type": "markdown",
   "metadata": {
    "ExecuteTime": {
     "end_time": "2020-03-25T18:58:51.684610Z",
     "start_time": "2020-03-25T18:58:46.820Z"
    }
   },
   "source": [
    "b.  Split the data into 70% training and 30% holdout (use the 2019 seed).  What class would the naive model predict for everyone?  What is the naive model's accuracy on the training data and on the holdout sample?"
   ]
  },
  {
   "cell_type": "code",
   "execution_count": 4,
   "metadata": {
    "ExecuteTime": {
     "end_time": "2020-03-29T02:02:41.580677Z",
     "start_time": "2020-03-29T02:02:38.726Z"
    }
   },
   "outputs": [
    {
     "data": {
      "text/html": [
       "<table>\n",
       "<caption>A data.frame: 6 × 5</caption>\n",
       "<thead>\n",
       "\t<tr><th></th><th scope=col>Purchase</th><th scope=col>Tenure</th><th scope=col>CheckingBalance</th><th scope=col>SavingBalance</th><th scope=col>Income</th></tr>\n",
       "\t<tr><th></th><th scope=col>&lt;fct&gt;</th><th scope=col>&lt;dbl&gt;</th><th scope=col>&lt;dbl&gt;</th><th scope=col>&lt;dbl&gt;</th><th scope=col>&lt;dbl&gt;</th></tr>\n",
       "</thead>\n",
       "<tbody>\n",
       "\t<tr><th scope=row>17689</th><td>No</td><td>0.5797836</td><td>3.046920</td><td>1.916875</td><td>1.491362</td></tr>\n",
       "\t<tr><th scope=row>13949</th><td>No</td><td>1.2479733</td><td>2.996192</td><td>2.412830</td><td>1.079181</td></tr>\n",
       "\t<tr><th scope=row>19882</th><td>No</td><td>0.9912261</td><td>3.516541</td><td>3.208906</td><td>1.322219</td></tr>\n",
       "\t<tr><th scope=row>7749</th><td>No</td><td>1.0755470</td><td>3.104265</td><td>3.237702</td><td>1.612784</td></tr>\n",
       "\t<tr><th scope=row>3309</th><td>No</td><td>1.1238516</td><td>3.975150</td><td>4.257540</td><td>1.698970</td></tr>\n",
       "\t<tr><th scope=row>2833</th><td>No</td><td>0.6532125</td><td>3.052313</td><td>3.451719</td><td>1.041393</td></tr>\n",
       "</tbody>\n",
       "</table>\n"
      ],
      "text/latex": [
       "A data.frame: 6 × 5\n",
       "\\begin{tabular}{r|lllll}\n",
       "  & Purchase & Tenure & CheckingBalance & SavingBalance & Income\\\\\n",
       "  & <fct> & <dbl> & <dbl> & <dbl> & <dbl>\\\\\n",
       "\\hline\n",
       "\t17689 & No & 0.5797836 & 3.046920 & 1.916875 & 1.491362\\\\\n",
       "\t13949 & No & 1.2479733 & 2.996192 & 2.412830 & 1.079181\\\\\n",
       "\t19882 & No & 0.9912261 & 3.516541 & 3.208906 & 1.322219\\\\\n",
       "\t7749 & No & 1.0755470 & 3.104265 & 3.237702 & 1.612784\\\\\n",
       "\t3309 & No & 1.1238516 & 3.975150 & 4.257540 & 1.698970\\\\\n",
       "\t2833 & No & 0.6532125 & 3.052313 & 3.451719 & 1.041393\\\\\n",
       "\\end{tabular}\n"
      ],
      "text/markdown": [
       "\n",
       "A data.frame: 6 × 5\n",
       "\n",
       "| <!--/--> | Purchase &lt;fct&gt; | Tenure &lt;dbl&gt; | CheckingBalance &lt;dbl&gt; | SavingBalance &lt;dbl&gt; | Income &lt;dbl&gt; |\n",
       "|---|---|---|---|---|---|\n",
       "| 17689 | No | 0.5797836 | 3.046920 | 1.916875 | 1.491362 |\n",
       "| 13949 | No | 1.2479733 | 2.996192 | 2.412830 | 1.079181 |\n",
       "| 19882 | No | 0.9912261 | 3.516541 | 3.208906 | 1.322219 |\n",
       "| 7749 | No | 1.0755470 | 3.104265 | 3.237702 | 1.612784 |\n",
       "| 3309 | No | 1.1238516 | 3.975150 | 4.257540 | 1.698970 |\n",
       "| 2833 | No | 0.6532125 | 3.052313 | 3.451719 | 1.041393 |\n",
       "\n"
      ],
      "text/plain": [
       "      Purchase Tenure    CheckingBalance SavingBalance Income  \n",
       "17689 No       0.5797836 3.046920        1.916875      1.491362\n",
       "13949 No       1.2479733 2.996192        2.412830      1.079181\n",
       "19882 No       0.9912261 3.516541        3.208906      1.322219\n",
       "7749  No       1.0755470 3.104265        3.237702      1.612784\n",
       "3309  No       1.1238516 3.975150        4.257540      1.698970\n",
       "2833  No       0.6532125 3.052313        3.451719      1.041393"
      ]
     },
     "metadata": {},
     "output_type": "display_data"
    },
    {
     "data": {
      "text/html": [
       "<style>\n",
       ".dl-inline {width: auto; margin:0; padding: 0}\n",
       ".dl-inline>dt, .dl-inline>dd {float: none; width: auto; display: inline-block}\n",
       ".dl-inline>dt::after {content: \":\\0020\"; padding-right: .5ex}\n",
       ".dl-inline>dt:not(:first-of-type) {padding-left: .5ex}\n",
       "</style><dl class=dl-inline><dt>No</dt><dd>11149</dd><dt>Yes</dt><dd>5820</dd></dl>\n"
      ],
      "text/latex": [
       "\\begin{description*}\n",
       "\\item[No] 11149\n",
       "\\item[Yes] 5820\n",
       "\\end{description*}\n"
      ],
      "text/markdown": [
       "No\n",
       ":   11149Yes\n",
       ":   5820\n",
       "\n"
      ],
      "text/plain": [
       "   No   Yes \n",
       "11149  5820 "
      ]
     },
     "metadata": {},
     "output_type": "display_data"
    },
    {
     "data": {
      "text/html": [
       "0.657021627673994"
      ],
      "text/latex": [
       "0.657021627673994"
      ],
      "text/markdown": [
       "0.657021627673994"
      ],
      "text/plain": [
       "[1] 0.6570216"
      ]
     },
     "metadata": {},
     "output_type": "display_data"
    },
    {
     "data": {
      "text/html": [
       "0.653100508730923"
      ],
      "text/latex": [
       "0.653100508730923"
      ],
      "text/markdown": [
       "0.653100508730923"
      ],
      "text/plain": [
       "[1] 0.6531005"
      ]
     },
     "metadata": {},
     "output_type": "display_data"
    }
   ],
   "source": [
    "set.seed(2019)\n",
    "train.rows <- sample(1:nrow(ACCOUNT),0.70*nrow(ACCOUNT))\n",
    "TRAIN <- ACCOUNT[train.rows,]\n",
    "HOLDOUT <- ACCOUNT[-train.rows,]\n",
    "head(TRAIN[,1:5])\n",
    "\n",
    "summary(TRAIN$Purchase)\n",
    "mean(TRAIN$Purchase==\"No\") #on training\n",
    "mean(HOLDOUT$Purchase==\"No\") #on holdout"
   ]
  },
  {
   "cell_type": "markdown",
   "metadata": {
    "ExecuteTime": {
     "end_time": "2020-03-25T18:58:55.727922Z",
     "start_time": "2020-03-25T18:58:46.870Z"
    }
   },
   "source": [
    "c.  Although arguments could be made for both metrics, explain why the bank would likely prefer to have models tuned for their AUC instead of Accuracy (if you were the bank, what would you be most interested in using this model for)?\n",
    "\n",
    "**Response**: The AUC tries to make sure that probabilities are ranked correctly. In a sense, it aims to have the probabilities for the “Yes” class be higher than the probabilities for the “No” class. This way the bank could use the model to select the 500 most likely customers to want to purchase the account."
   ]
  },
  {
   "cell_type": "markdown",
   "metadata": {},
   "source": [
    "d.  Define `fitControl` so that the AUC will be computed.  Using `train`, fit the vanilla logistic regression model on `TRAIN` (remember to have `set.seed(2019)` immediately before `train`, and have `method='glm'`, `trControl=fitControl`, and `preProc=c(\"center\", \"scale\")` in `train`) and include the `$results` component of the object created so that the estimated generalization error is printed to the screen.  Remember to ignore the warning `The metric \"Accuracy\" was not in the result set. ROC will be used instead.` because this is exactly what we wanted measured!"
   ]
  },
  {
   "cell_type": "code",
   "execution_count": 5,
   "metadata": {
    "ExecuteTime": {
     "end_time": "2020-03-29T02:02:43.482415Z",
     "start_time": "2020-03-29T02:02:38.782Z"
    }
   },
   "outputs": [
    {
     "data": {
      "text/html": [
       "<table>\n",
       "<caption>A data.frame: 1 × 7</caption>\n",
       "<thead>\n",
       "\t<tr><th></th><th scope=col>parameter</th><th scope=col>ROC</th><th scope=col>Sens</th><th scope=col>Spec</th><th scope=col>ROCSD</th><th scope=col>SensSD</th><th scope=col>SpecSD</th></tr>\n",
       "\t<tr><th></th><th scope=col>&lt;fct&gt;</th><th scope=col>&lt;dbl&gt;</th><th scope=col>&lt;dbl&gt;</th><th scope=col>&lt;dbl&gt;</th><th scope=col>&lt;dbl&gt;</th><th scope=col>&lt;dbl&gt;</th><th scope=col>&lt;dbl&gt;</th></tr>\n",
       "</thead>\n",
       "<tbody>\n",
       "\t<tr><th scope=row>1</th><td>none</td><td>0.6637489</td><td>0.901067</td><td>0.3159794</td><td>0.003308042</td><td>0.007705096</td><td>0.01197214</td></tr>\n",
       "</tbody>\n",
       "</table>\n"
      ],
      "text/latex": [
       "A data.frame: 1 × 7\n",
       "\\begin{tabular}{r|lllllll}\n",
       "  & parameter & ROC & Sens & Spec & ROCSD & SensSD & SpecSD\\\\\n",
       "  & <fct> & <dbl> & <dbl> & <dbl> & <dbl> & <dbl> & <dbl>\\\\\n",
       "\\hline\n",
       "\t1 & none & 0.6637489 & 0.901067 & 0.3159794 & 0.003308042 & 0.007705096 & 0.01197214\\\\\n",
       "\\end{tabular}\n"
      ],
      "text/markdown": [
       "\n",
       "A data.frame: 1 × 7\n",
       "\n",
       "| <!--/--> | parameter &lt;fct&gt; | ROC &lt;dbl&gt; | Sens &lt;dbl&gt; | Spec &lt;dbl&gt; | ROCSD &lt;dbl&gt; | SensSD &lt;dbl&gt; | SpecSD &lt;dbl&gt; |\n",
       "|---|---|---|---|---|---|---|---|\n",
       "| 1 | none | 0.6637489 | 0.901067 | 0.3159794 | 0.003308042 | 0.007705096 | 0.01197214 |\n",
       "\n"
      ],
      "text/plain": [
       "  parameter ROC       Sens     Spec      ROCSD       SensSD      SpecSD    \n",
       "1 none      0.6637489 0.901067 0.3159794 0.003308042 0.007705096 0.01197214"
      ]
     },
     "metadata": {},
     "output_type": "display_data"
    }
   ],
   "source": [
    "fitControl <- trainControl(method=\"cv\",number=5,classProbs = TRUE, summaryFunction = twoClassSummary)\n",
    "set.seed(2019)\n",
    "LOGREG <- train(Purchase~.,data=TRAIN,method='glm',\n",
    "                               trControl=fitControl, metric='ROC', preProc=c(\"center\", \"scale\"))\n",
    "LOGREG$results"
   ]
  },
  {
   "cell_type": "markdown",
   "metadata": {
    "ExecuteTime": {
     "end_time": "2020-03-25T18:58:57.978929Z",
     "start_time": "2020-03-25T18:58:46.922Z"
    }
   },
   "source": [
    "e.  Define `glmnetGrid` to be all combinations where `alpha` is along the sequence 0, 0.1, 0.2, ..., 0.9, 1, and `lambda` is 10 raised to the sequence of powers -3, -2.5, -2, ..., -1, -0.5.  Run `train` to audition each of these models (with argument `method='glmnet'`, `tuneGrid=glmnetGrid` together with trControl and preProc as defined earlier), include a `plot` of the object created by `train` to see how the estimated generalization error changes with these two parameters.  Print to the screen the row of the `$results` component of that object that shows the best parameters and the estimated generalzation error.   How many different models did `train` evaluate?"
   ]
  },
  {
   "cell_type": "code",
   "execution_count": 6,
   "metadata": {
    "ExecuteTime": {
     "end_time": "2020-03-29T02:03:00.757651Z",
     "start_time": "2020-03-29T02:02:38.809Z"
    }
   },
   "outputs": [
    {
     "data": {
      "text/html": [
       "<style>\n",
       ".list-inline {list-style: none; margin:0; padding: 0}\n",
       ".list-inline>li {display: inline-block}\n",
       ".list-inline>li:not(:last-child)::after {content: \"\\00b7\"; padding: 0 .5ex}\n",
       "</style>\n",
       "<ol class=list-inline><li>66</li><li>2</li></ol>\n"
      ],
      "text/latex": [
       "\\begin{enumerate*}\n",
       "\\item 66\n",
       "\\item 2\n",
       "\\end{enumerate*}\n"
      ],
      "text/markdown": [
       "1. 66\n",
       "2. 2\n",
       "\n",
       "\n"
      ],
      "text/plain": [
       "[1] 66  2"
      ]
     },
     "metadata": {},
     "output_type": "display_data"
    },
    {
     "data": {
      "text/html": [
       "<table>\n",
       "<caption>A data.frame: 1 × 8</caption>\n",
       "<thead>\n",
       "\t<tr><th></th><th scope=col>alpha</th><th scope=col>lambda</th><th scope=col>ROC</th><th scope=col>Sens</th><th scope=col>Spec</th><th scope=col>ROCSD</th><th scope=col>SensSD</th><th scope=col>SpecSD</th></tr>\n",
       "\t<tr><th></th><th scope=col>&lt;dbl&gt;</th><th scope=col>&lt;dbl&gt;</th><th scope=col>&lt;dbl&gt;</th><th scope=col>&lt;dbl&gt;</th><th scope=col>&lt;dbl&gt;</th><th scope=col>&lt;dbl&gt;</th><th scope=col>&lt;dbl&gt;</th><th scope=col>&lt;dbl&gt;</th></tr>\n",
       "</thead>\n",
       "<tbody>\n",
       "\t<tr><th scope=row>6</th><td>0</td><td>0.3162278</td><td>0.6637368</td><td>0.9956051</td><td>0.02061856</td><td>0.003748457</td><td>0.00107031</td><td>0.0035939</td></tr>\n",
       "</tbody>\n",
       "</table>\n"
      ],
      "text/latex": [
       "A data.frame: 1 × 8\n",
       "\\begin{tabular}{r|llllllll}\n",
       "  & alpha & lambda & ROC & Sens & Spec & ROCSD & SensSD & SpecSD\\\\\n",
       "  & <dbl> & <dbl> & <dbl> & <dbl> & <dbl> & <dbl> & <dbl> & <dbl>\\\\\n",
       "\\hline\n",
       "\t6 & 0 & 0.3162278 & 0.6637368 & 0.9956051 & 0.02061856 & 0.003748457 & 0.00107031 & 0.0035939\\\\\n",
       "\\end{tabular}\n"
      ],
      "text/markdown": [
       "\n",
       "A data.frame: 1 × 8\n",
       "\n",
       "| <!--/--> | alpha &lt;dbl&gt; | lambda &lt;dbl&gt; | ROC &lt;dbl&gt; | Sens &lt;dbl&gt; | Spec &lt;dbl&gt; | ROCSD &lt;dbl&gt; | SensSD &lt;dbl&gt; | SpecSD &lt;dbl&gt; |\n",
       "|---|---|---|---|---|---|---|---|---|\n",
       "| 6 | 0 | 0.3162278 | 0.6637368 | 0.9956051 | 0.02061856 | 0.003748457 | 0.00107031 | 0.0035939 |\n",
       "\n"
      ],
      "text/plain": [
       "  alpha lambda    ROC       Sens      Spec       ROCSD       SensSD    \n",
       "6 0     0.3162278 0.6637368 0.9956051 0.02061856 0.003748457 0.00107031\n",
       "  SpecSD   \n",
       "6 0.0035939"
      ]
     },
     "metadata": {},
     "output_type": "display_data"
    },
    {
     "data": {
      "image/png": "[encoded data removed]",
      "text/plain": [
       "plot without title"
      ]
     },
     "metadata": {
      "image/png": {
       "height": 420,
       "width": 420
      },
      "text/plain": {
       "height": 420,
       "width": 420
      }
     },
     "output_type": "display_data"
    }
   ],
   "source": [
    "glmnetGrid <- expand.grid(alpha = seq(0,1,.1),lambda = 10^seq(-3,-0.5,by=.5))   \n",
    "dim(glmnetGrid)\n",
    "set.seed(2019)\n",
    "GLMnet <- train(Purchase~.,data=TRAIN,method='glmnet', tuneGrid=glmnetGrid,\n",
    "                trControl=fitControl, metric='ROC', preProc = c(\"center\", \"scale\"))\n",
    "\n",
    "GLMnet$results[rownames(GLMnet$bestTune),]\n",
    "\n",
    "plot(GLMnet)"
   ]
  },
  {
   "cell_type": "markdown",
   "metadata": {},
   "source": [
    "f.  Use `train` and audition nearest neighbor models with `k` along the sequence 5, 10, 15, ..., 50, 55, 60.  Include a `plot` of the object created by `train` to see how the estimated generalization error changes with `k`, and print to the screen the row of the `$results` component of that object that shows the best parameters and the estimated generalzation error.  Model fitting may take a minute or so.\n",
    "\n",
    "The code is already given."
   ]
  },
  {
   "cell_type": "code",
   "execution_count": 7,
   "metadata": {
    "ExecuteTime": {
     "end_time": "2020-03-29T02:04:08.193064Z",
     "start_time": "2020-03-29T02:02:38.834Z"
    }
   },
   "outputs": [
    {
     "data": {
      "text/html": [
       "<table>\n",
       "<caption>A data.frame: 1 × 7</caption>\n",
       "<thead>\n",
       "\t<tr><th></th><th scope=col>k</th><th scope=col>ROC</th><th scope=col>Sens</th><th scope=col>Spec</th><th scope=col>ROCSD</th><th scope=col>SensSD</th><th scope=col>SpecSD</th></tr>\n",
       "\t<tr><th></th><th scope=col>&lt;dbl&gt;</th><th scope=col>&lt;dbl&gt;</th><th scope=col>&lt;dbl&gt;</th><th scope=col>&lt;dbl&gt;</th><th scope=col>&lt;dbl&gt;</th><th scope=col>&lt;dbl&gt;</th><th scope=col>&lt;dbl&gt;</th></tr>\n",
       "</thead>\n",
       "<tbody>\n",
       "\t<tr><th scope=row>11</th><td>55</td><td>0.6963405</td><td>0.9148798</td><td>0.2945017</td><td>0.003334817</td><td>0.005404554</td><td>0.005933435</td></tr>\n",
       "</tbody>\n",
       "</table>\n"
      ],
      "text/latex": [
       "A data.frame: 1 × 7\n",
       "\\begin{tabular}{r|lllllll}\n",
       "  & k & ROC & Sens & Spec & ROCSD & SensSD & SpecSD\\\\\n",
       "  & <dbl> & <dbl> & <dbl> & <dbl> & <dbl> & <dbl> & <dbl>\\\\\n",
       "\\hline\n",
       "\t11 & 55 & 0.6963405 & 0.9148798 & 0.2945017 & 0.003334817 & 0.005404554 & 0.005933435\\\\\n",
       "\\end{tabular}\n"
      ],
      "text/markdown": [
       "\n",
       "A data.frame: 1 × 7\n",
       "\n",
       "| <!--/--> | k &lt;dbl&gt; | ROC &lt;dbl&gt; | Sens &lt;dbl&gt; | Spec &lt;dbl&gt; | ROCSD &lt;dbl&gt; | SensSD &lt;dbl&gt; | SpecSD &lt;dbl&gt; |\n",
       "|---|---|---|---|---|---|---|---|\n",
       "| 11 | 55 | 0.6963405 | 0.9148798 | 0.2945017 | 0.003334817 | 0.005404554 | 0.005933435 |\n",
       "\n"
      ],
      "text/plain": [
       "   k  ROC       Sens      Spec      ROCSD       SensSD      SpecSD     \n",
       "11 55 0.6963405 0.9148798 0.2945017 0.003334817 0.005404554 0.005933435"
      ]
     },
     "metadata": {},
     "output_type": "display_data"
    },
    {
     "data": {
      "image/png": "[encoded data removed]",
      "text/plain": [
       "plot without title"
      ]
     },
     "metadata": {
      "image/png": {
       "height": 420,
       "width": 420
      },
      "text/plain": {
       "height": 420,
       "width": 420
      }
     },
     "output_type": "display_data"
    }
   ],
   "source": [
    "knnGrid <- expand.grid(k= seq(from=5,to=60,by=5) )   \n",
    "set.seed(2019)\n",
    "KNN <- train(Purchase~.,data=TRAIN, method='knn', tuneGrid=knnGrid,\n",
    "                        trControl=fitControl, metric='ROC', preProc = c(\"center\", \"scale\"))\n",
    "plot(KNN)\n",
    "KNN$results[rownames(KNN$bestTune),]  "
   ]
  },
  {
   "cell_type": "markdown",
   "metadata": {
    "ExecuteTime": {
     "end_time": "2020-03-25T00:23:49.113817Z",
     "start_time": "2020-03-25T00:23:47.832Z"
    }
   },
   "source": [
    "g.  So what's the verdict?  What model(s) can you eliminate from consideration?  Which model would you select?\n",
    "\n",
    "**Response**: The nearest neighbor is superior here since it's AUC is more than 1 SD higher than vanilla or regularized regression model. Choose nearest neighbors!"
   ]
  },
  {
   "cell_type": "markdown",
   "metadata": {},
   "source": [
    "h.  Out of curiosity, let's see how well each of the three models did on the holdout sample using the `roc` command.  Remember to put `set.seed(2019)` immediately before `roc` for the nearest neighbor model (since if they are any ties, they get broken at random).  Are any of the models overfit (actual AUC about 10% or more less than what was estimated with crossvalidation)?    Remember, the holdout sample only serves as a sanity check to make sure the selected model is not overfit; we do not change our choice of model if a different one did better on the holdout.\n",
    "\n",
    "The code for KNN is already given. Please modity it for the other two models from parts d and e.\n",
    "\n",
    "**Response**: The AUCs on the holdout are a little bit lower, but not by much. Because the AUCs are about what we expected and are not more than 10% lower, we would say that the models are NOT overfit. The nearest neighbor model indeed performed best!"
   ]
  },
  {
   "cell_type": "code",
   "execution_count": 8,
   "metadata": {
    "ExecuteTime": {
     "end_time": "2020-03-29T02:04:09.804219Z",
     "start_time": "2020-03-29T02:02:38.881Z"
    }
   },
   "outputs": [
    {
     "data": {
      "text/plain": [
       "\n",
       "Call:\n",
       "roc.default(response = HOLDOUT$Purchase, predictor = predict(KNN,     newdata = HOLDOUT, type = \"prob\")$Yes, levels = c(\"No\", \"Yes\"),     direction = \"<\")\n",
       "\n",
       "Data: predict(KNN, newdata = HOLDOUT, type = \"prob\")$Yes in 4750 controls (HOLDOUT$Purchase No) < 2523 cases (HOLDOUT$Purchase Yes).\n",
       "Area under the curve: 0.6918"
      ]
     },
     "metadata": {},
     "output_type": "display_data"
    },
    {
     "data": {
      "text/plain": [
       "\n",
       "Call:\n",
       "roc.default(response = HOLDOUT$Purchase, predictor = predict(LOGREG,     newdata = HOLDOUT, type = \"prob\")$Yes, levels = c(\"No\", \"Yes\"),     direction = \"<\")\n",
       "\n",
       "Data: predict(LOGREG, newdata = HOLDOUT, type = \"prob\")$Yes in 4750 controls (HOLDOUT$Purchase No) < 2523 cases (HOLDOUT$Purchase Yes).\n",
       "Area under the curve: 0.652"
      ]
     },
     "metadata": {},
     "output_type": "display_data"
    },
    {
     "data": {
      "text/plain": [
       "\n",
       "Call:\n",
       "roc.default(response = HOLDOUT$Purchase, predictor = predict(GLMnet,     newdata = HOLDOUT, type = \"prob\")$Yes, levels = c(\"No\", \"Yes\"),     direction = \"<\")\n",
       "\n",
       "Data: predict(GLMnet, newdata = HOLDOUT, type = \"prob\")$Yes in 4750 controls (HOLDOUT$Purchase No) < 2523 cases (HOLDOUT$Purchase Yes).\n",
       "Area under the curve: 0.651"
      ]
     },
     "metadata": {},
     "output_type": "display_data"
    }
   ],
   "source": [
    "set.seed(2019)\n",
    "roc(HOLDOUT$Purchase,predict(KNN,newdata=HOLDOUT,type=\"prob\")$Yes, levels=c('No', 'Yes'), direction='<')\n",
    "roc(HOLDOUT$Purchase,predict(LOGREG,newdata=HOLDOUT,type=\"prob\")$Yes, levels=c('No', 'Yes'), direction='<')\n",
    "roc(HOLDOUT$Purchase,predict(GLMnet,newdata=HOLDOUT,type=\"prob\")$Yes, levels=c('No', 'Yes'), direction='<')"
   ]
  }
 ],
 "metadata": {
  "hide_input": false,
  "kernelspec": {
   "display_name": "R",
   "language": "R",
   "name": "ir"
  },
  "language_info": {
   "codemirror_mode": "r",
   "file_extension": ".r",
   "mimetype": "text/x-r-source",
   "name": "R",
   "pygments_lexer": "r",
   "version": "3.6.3"
  },
  "toc": {
   "base_numbering": 1,
   "nav_menu": {
    "height": "358.996px",
    "width": "355.985px"
   },
   "number_sections": true,
   "sideBar": false,
   "skip_h1_title": false,
   "title_cell": "Table of Contents",
   "title_sidebar": "Contents",
   "toc_cell": false,
   "toc_position": {
    "height": "calc(100% - 180px)",
    "left": "10px",
    "top": "150px",
    "width": "233.864px"
   },
   "toc_section_display": false,
   "toc_window_display": false
  },
  "varInspector": {
   "cols": {
    "lenName": 16,
    "lenType": 16,
    "lenVar": 40
   },
   "kernels_config": {
    "python": {
     "delete_cmd_postfix": "",
     "delete_cmd_prefix": "del ",
     "library": "var_list.py",
     "varRefreshCmd": "print(var_dic_list())"
    },
    "r": {
     "delete_cmd_postfix": ") ",
     "delete_cmd_prefix": "rm(",
     "library": "var_list.r",
     "varRefreshCmd": "cat(var_dic_list()) "
    }
   },
   "types_to_exclude": [
    "module",
    "function",
    "builtin_function_or_method",
    "instance",
    "_Feature"
   ],
   "window_display": false
  }
 },
 "nbformat": 4,
 "nbformat_minor": 4
}
