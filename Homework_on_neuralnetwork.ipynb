{
 "cells": [
  {
   "cell_type": "markdown",
   "metadata": {
    "toc": true
   },
   "source": [
    "<h1>Table of Contents<span class=\"tocSkip\"></span></h1>\n",
    "<div class=\"toc\"><ul class=\"toc-item\"><li><span><a href=\"#Task-1:--Numerical-Prediction\" data-toc-modified-id=\"Task-1:--Numerical-Prediction-1\"><span class=\"toc-item-num\">1&nbsp;&nbsp;</span>Task 1:  Numerical Prediction</a></span></li><li><span><a href=\"#Task-2:--Classification\" data-toc-modified-id=\"Task-2:--Classification-2\"><span class=\"toc-item-num\">2&nbsp;&nbsp;</span>Task 2:  Classification</a></span></li><li><span><a href=\"#Task-3:--Bias-Variance-Tradeoff\" data-toc-modified-id=\"Task-3:--Bias-Variance-Tradeoff-3\"><span class=\"toc-item-num\">3&nbsp;&nbsp;</span>Task 3:  Bias-Variance Tradeoff</a></span></li></ul></div>"
   ]
  },
  {
   "cell_type": "markdown",
   "metadata": {},
   "source": [
    "**Solution on Neural Networks**\n",
    "\n",
    "Charles Liu"
   ]
  },
  {
   "cell_type": "code",
   "execution_count": 1,
   "metadata": {
    "ExecuteTime": {
     "end_time": "2020-04-14T01:56:58.318150Z",
     "start_time": "2020-04-14T01:56:53.244Z"
    }
   },
   "outputs": [
    {
     "name": "stderr",
     "output_type": "stream",
     "text": [
      "Loading required package: lattice\n",
      "\n",
      "Loading required package: ggplot2\n",
      "\n"
     ]
    }
   ],
   "source": [
    "library(caret)"
   ]
  },
  {
   "cell_type": "markdown",
   "metadata": {},
   "source": [
    "# Task 1:  Numerical Prediction\n",
    "\n",
    "The following data is the type of data that places like zillow.com use to estimate the likely selling price of a home.  The `SalePrice` column gives the log10 of the eventual selling price (1000 houses in `TRAIN`, 460 houses in `HOLDOUT`).  A total of 64 characteristics have been recorded about each house (the data has already been crudely cleaned, with rare levels of categorical variables combined when appropriate, missing values recoded as 0s for numerical variables or as a new level for categorical variables)."
   ]
  },
  {
   "cell_type": "code",
   "execution_count": 2,
   "metadata": {
    "ExecuteTime": {
     "end_time": "2020-04-14T01:56:58.639283Z",
     "start_time": "2020-04-14T01:56:53.360Z"
    }
   },
   "outputs": [
    {
     "data": {
      "text/plain": [
       "   Min. 1st Qu.  Median    Mean 3rd Qu.    Max. \n",
       "  4.548   5.117   5.212   5.224   5.332   5.878 "
      ]
     },
     "metadata": {},
     "output_type": "display_data"
    },
    {
     "data": {
      "text/plain": [
       "   Mode    TRUE \n",
       "logical     460 "
      ]
     },
     "metadata": {},
     "output_type": "display_data"
    }
   ],
   "source": [
    "load(\"Homework-Prediction.RData\")\n",
    "summary(TRAIN$SalePrice)\n",
    "summary(is.na(HOLDOUT$SalePrice))"
   ]
  },
  {
   "cell_type": "markdown",
   "metadata": {},
   "source": [
    "Let's explore a neural network with a single hidden layer.\n",
    "\n",
    "a.  Use the following arguments to tune on the number of neurons that go into the hidden layer (`size`) and the regularization parameter (`decay`:  the penalty to giving large weights to any predictor).\n",
    "\n",
    "Make sure to add the arguments `trace=FALSE` so that you don't get buried in output and `linout=TRUE` since we are predicting a numerical response (`linout=FALSE` is only when doing classification).   Because this command takes a while (it took me about a minute and a half), copy/paste the row that has the best choices of the tuning parameters."
   ]
  },
  {
   "cell_type": "code",
   "execution_count": 3,
   "metadata": {
    "ExecuteTime": {
     "end_time": "2020-04-14T01:59:19.792307Z",
     "start_time": "2020-04-14T01:56:53.459Z"
    }
   },
   "outputs": [
    {
     "data": {
      "text/html": [
       "<table>\n",
       "<caption>A data.frame: 1 × 8</caption>\n",
       "<thead>\n",
       "\t<tr><th></th><th scope=col>size</th><th scope=col>decay</th><th scope=col>RMSE</th><th scope=col>Rsquared</th><th scope=col>MAE</th><th scope=col>RMSESD</th><th scope=col>RsquaredSD</th><th scope=col>MAESD</th></tr>\n",
       "\t<tr><th></th><th scope=col>&lt;int&gt;</th><th scope=col>&lt;dbl&gt;</th><th scope=col>&lt;dbl&gt;</th><th scope=col>&lt;dbl&gt;</th><th scope=col>&lt;dbl&gt;</th><th scope=col>&lt;dbl&gt;</th><th scope=col>&lt;dbl&gt;</th><th scope=col>&lt;dbl&gt;</th></tr>\n",
       "</thead>\n",
       "<tbody>\n",
       "\t<tr><th scope=row>3</th><td>3</td><td>0.2511886</td><td>0.0570688</td><td>0.890763</td><td>0.03910486</td><td>0.005900597</td><td>0.01903743</td><td>0.002307525</td></tr>\n",
       "</tbody>\n",
       "</table>\n"
      ],
      "text/latex": [
       "A data.frame: 1 × 8\n",
       "\\begin{tabular}{r|llllllll}\n",
       "  & size & decay & RMSE & Rsquared & MAE & RMSESD & RsquaredSD & MAESD\\\\\n",
       "  & <int> & <dbl> & <dbl> & <dbl> & <dbl> & <dbl> & <dbl> & <dbl>\\\\\n",
       "\\hline\n",
       "\t3 & 3 & 0.2511886 & 0.0570688 & 0.890763 & 0.03910486 & 0.005900597 & 0.01903743 & 0.002307525\\\\\n",
       "\\end{tabular}\n"
      ],
      "text/markdown": [
       "\n",
       "A data.frame: 1 × 8\n",
       "\n",
       "| <!--/--> | size &lt;int&gt; | decay &lt;dbl&gt; | RMSE &lt;dbl&gt; | Rsquared &lt;dbl&gt; | MAE &lt;dbl&gt; | RMSESD &lt;dbl&gt; | RsquaredSD &lt;dbl&gt; | MAESD &lt;dbl&gt; |\n",
       "|---|---|---|---|---|---|---|---|---|\n",
       "| 3 | 3 | 0.2511886 | 0.0570688 | 0.890763 | 0.03910486 | 0.005900597 | 0.01903743 | 0.002307525 |\n",
       "\n"
      ],
      "text/plain": [
       "  size decay     RMSE      Rsquared MAE        RMSESD      RsquaredSD\n",
       "3 3    0.2511886 0.0570688 0.890763 0.03910486 0.005900597 0.01903743\n",
       "  MAESD      \n",
       "3 0.002307525"
      ]
     },
     "metadata": {},
     "output_type": "display_data"
    }
   ],
   "source": [
    "fitControl <- trainControl(method=\"cv\",number=5)\n",
    "nnetGrid <- expand.grid(size=3:7,decay=10^( seq(-1,.2,by=.2) ) )\n",
    "set.seed(2019); NNET <- train(SalePrice~.,data=TRAIN,method=\"nnet\",tuneGrid=nnetGrid,trace=FALSE,linout=TRUE,\n",
    "                              trControl=fitControl,preProc = c(\"center\", \"scale\"))\n",
    "\n",
    "NNET$results[rownames(NNET$bestTune),]  "
   ]
  },
  {
   "cell_type": "markdown",
   "metadata": {},
   "source": [
    "b.  Apply the model on `HOLDOUT` data and show the histogram of the prediction, and compare that of the `TRAIN$SalePrice`. Are the distributions reasonably similar?"
   ]
  },
  {
   "cell_type": "code",
   "execution_count": 4,
   "metadata": {
    "ExecuteTime": {
     "end_time": "2020-04-14T01:59:21.048654Z",
     "start_time": "2020-04-14T01:56:53.557Z"
    }
   },
   "outputs": [
    {
     "data": {
      "image/png": "[encoded data removed]",
      "text/plain": [
       "Plot with title “Histogram of predict(NNET, newdata = HOLDOUT)”"
      ]
     },
     "metadata": {
      "image/png": {
       "height": 420,
       "width": 420
      },
      "text/plain": {
       "height": 420,
       "width": 420
      }
     },
     "output_type": "display_data"
    },
    {
     "data": {
      "image/png": "[encoded data removed]",
      "text/plain": [
       "Plot with title “Histogram of TRAIN$SalePrice”"
      ]
     },
     "metadata": {
      "image/png": {
       "height": 420,
       "width": 420
      },
      "text/plain": {
       "height": 420,
       "width": 420
      }
     },
     "output_type": "display_data"
    }
   ],
   "source": [
    "hist(predict(NNET, newdata=HOLDOUT))\n",
    "hist(TRAIN$SalePrice)"
   ]
  },
  {
   "cell_type": "markdown",
   "metadata": {},
   "source": [
    "# Task 2:  Classification\n",
    "\n",
    "The `TELCO` dataframe contains a small part of a customer database from a telecommunications company (similar in nature to the `CHURN` data but for a different company).  \n",
    "\n",
    "*We will use the data as-is*, and will use the entirety of the data when estimating the generalization errors of different models.  We lose the ability to have an independent assessment of the generalization error of the model on a holdout sample.\n",
    "\n",
    "a.  Make a `table` of the `Churn` column and report the estimated generalization accuracy of the naive model."
   ]
  },
  {
   "cell_type": "code",
   "execution_count": 5,
   "metadata": {
    "ExecuteTime": {
     "end_time": "2020-04-14T01:59:21.078366Z",
     "start_time": "2020-04-14T01:56:53.681Z"
    }
   },
   "outputs": [
    {
     "data": {
      "text/plain": [
       "\n",
       "  No  Yes \n",
       "5163 1869 "
      ]
     },
     "metadata": {},
     "output_type": "display_data"
    },
    {
     "data": {
      "text/html": [
       "0.734215017064846"
      ],
      "text/latex": [
       "0.734215017064846"
      ],
      "text/markdown": [
       "0.734215017064846"
      ],
      "text/plain": [
       "[1] 0.734215"
      ]
     },
     "metadata": {},
     "output_type": "display_data"
    }
   ],
   "source": [
    "table(TELCO$Churn)\n",
    "mean(TELCO$Churn == \"No\")"
   ]
  },
  {
   "cell_type": "markdown",
   "metadata": {},
   "source": [
    "b.  Let's explore a neural network with a single hidden layer.\n",
    "\n",
    "Set it up so that the estimated generalization error is being found with 5-fold crossvalidation and that models are tuned on accuracy.\n",
    "\n",
    "Use the following grid to tune on the number of neurons that go into the hidden layer (`size`) and the regularization parameter (`decay`:  the penalty to giving large weights to any predictor).   Add the arguments `trace=FALSE` (so that you don't get buried in output) and `linout=FALSE` since we are doing classification.  \n",
    "\n",
    "Because this command takes a while (mine took about a minute), copy/paste the row from `$results` has the best choices of the tuning parameters (i.e., if `NNET` is the object that `train` creates, show `NNET$results[rownames(NNET$bestTune),]`)."
   ]
  },
  {
   "cell_type": "code",
   "execution_count": 6,
   "metadata": {
    "ExecuteTime": {
     "end_time": "2020-04-14T02:00:36.822193Z",
     "start_time": "2020-04-14T01:56:53.773Z"
    }
   },
   "outputs": [
    {
     "data": {
      "text/html": [
       "<table>\n",
       "<caption>A data.frame: 1 × 6</caption>\n",
       "<thead>\n",
       "\t<tr><th></th><th scope=col>size</th><th scope=col>decay</th><th scope=col>Accuracy</th><th scope=col>Kappa</th><th scope=col>AccuracySD</th><th scope=col>KappaSD</th></tr>\n",
       "\t<tr><th></th><th scope=col>&lt;int&gt;</th><th scope=col>&lt;dbl&gt;</th><th scope=col>&lt;dbl&gt;</th><th scope=col>&lt;dbl&gt;</th><th scope=col>&lt;dbl&gt;</th><th scope=col>&lt;dbl&gt;</th></tr>\n",
       "</thead>\n",
       "<tbody>\n",
       "\t<tr><th scope=row>14</th><td>4</td><td>10</td><td>0.8030438</td><td>0.4673872</td><td>0.007804581</td><td>0.0256122</td></tr>\n",
       "</tbody>\n",
       "</table>\n"
      ],
      "text/latex": [
       "A data.frame: 1 × 6\n",
       "\\begin{tabular}{r|llllll}\n",
       "  & size & decay & Accuracy & Kappa & AccuracySD & KappaSD\\\\\n",
       "  & <int> & <dbl> & <dbl> & <dbl> & <dbl> & <dbl>\\\\\n",
       "\\hline\n",
       "\t14 & 4 & 10 & 0.8030438 & 0.4673872 & 0.007804581 & 0.0256122\\\\\n",
       "\\end{tabular}\n"
      ],
      "text/markdown": [
       "\n",
       "A data.frame: 1 × 6\n",
       "\n",
       "| <!--/--> | size &lt;int&gt; | decay &lt;dbl&gt; | Accuracy &lt;dbl&gt; | Kappa &lt;dbl&gt; | AccuracySD &lt;dbl&gt; | KappaSD &lt;dbl&gt; |\n",
       "|---|---|---|---|---|---|---|\n",
       "| 14 | 4 | 10 | 0.8030438 | 0.4673872 | 0.007804581 | 0.0256122 |\n",
       "\n"
      ],
      "text/plain": [
       "   size decay Accuracy  Kappa     AccuracySD  KappaSD  \n",
       "14 4    10    0.8030438 0.4673872 0.007804581 0.0256122"
      ]
     },
     "metadata": {},
     "output_type": "display_data"
    }
   ],
   "source": [
    "fitControl <- trainControl(method=\"cv\",number=5,classProbs=TRUE) \n",
    "nnetGrid <- expand.grid(size=3:4,decay=10^( seq(-2,1,by=.5) ) )\n",
    "set.seed(2019); NNET <- train(Churn~.,data=TELCO,method=\"nnet\",tuneGrid=nnetGrid,trace=FALSE,linout=FALSE,\n",
    "                              trControl=fitControl,preProc = c(\"center\", \"scale\"))\n",
    "NNET$results[rownames(NNET$bestTune),]"
   ]
  },
  {
   "cell_type": "markdown",
   "metadata": {},
   "source": [
    "c.  Does the model convincingly beat the naive model when it comes to estimated accuracy?  Explain.\n",
    "\n",
    "**Response:**  Yes. Both have accuracies higher than 1 SD above the naive model."
   ]
  },
  {
   "cell_type": "markdown",
   "metadata": {},
   "source": [
    "# Task 3:  Bias-Variance Tradeoff\n",
    "\n",
    "The \"tuning parameters\" associated with all the models we have studied allow us to pick the right \"form\" of the model, i.e., the one that generalizes the best.  In effect, tuning and choosing parameters allows us to determine best tradeoff between the bias and variance of the model.  It's important to understand how the choice of tuning parameter mediates this tradeoff.\n",
    "\n",
    "a.  If `n.hidden` is the number of neurons in the (single) hidden layer of a neural network, and if `p` is the number of predictor variables, then develop a formula that relates the total number of parameters that must be estimated from the data and these two values.  \n",
    "\n",
    "In other words, I want an equation that, when you plug in the relevant values of `n.hidden` and `p`, you get the number of parameters that have to be estimated.  Something like (and this is definitely not the answer):  `10 + p*n.hidden + p^2`.\n",
    "\n",
    "Hint:  remember that each neuron in the hidden layer is fed a weighted sum of the predictor variables plus an additional offset/intercept term, each of these values have be estimated.  Also remember that the outputs from the neurons in the hidden layer are combined in terms of a weighted sum, plus an additional offset/intercept term, in order to come up with a final prediction.\n",
    "\n",
    "**Response**:\n",
    "\n",
    "$$ parameters = (1+p)*n.hidden + (n.hidden+1) = 1 + (2+p)*n.hidden $$\n",
    "\n",
    "When p=6 and n.hidden=3 we have 25 parameters to estimate."
   ]
  },
  {
   "cell_type": "markdown",
   "metadata": {},
   "source": [
    "b.  Write a function called `nparameters` that takes two arguments:  `n.hidden` and `p` and returns the number of parameters that have to be estimated when a neural network is fit.  Show the output of `nparameters(3,6)`, `nparameters(5,2)`, and `nparameters(20,85)`."
   ]
  },
  {
   "cell_type": "code",
   "execution_count": 7,
   "metadata": {
    "ExecuteTime": {
     "end_time": "2020-04-14T02:00:36.861043Z",
     "start_time": "2020-04-14T01:56:54.031Z"
    }
   },
   "outputs": [
    {
     "data": {
      "text/html": [
       "25"
      ],
      "text/latex": [
       "25"
      ],
      "text/markdown": [
       "25"
      ],
      "text/plain": [
       "[1] 25"
      ]
     },
     "metadata": {},
     "output_type": "display_data"
    },
    {
     "data": {
      "text/html": [
       "21"
      ],
      "text/latex": [
       "21"
      ],
      "text/markdown": [
       "21"
      ],
      "text/plain": [
       "[1] 21"
      ]
     },
     "metadata": {},
     "output_type": "display_data"
    },
    {
     "data": {
      "text/html": [
       "1741"
      ],
      "text/latex": [
       "1741"
      ],
      "text/markdown": [
       "1741"
      ],
      "text/plain": [
       "[1] 1741"
      ]
     },
     "metadata": {},
     "output_type": "display_data"
    }
   ],
   "source": [
    "nparameters <- function(n.hidden, p) {\n",
    "    parameters = 1 + (2+p)*n.hidden\n",
    "    return(parameters)\n",
    "}\n",
    "nparameters(3,6)\n",
    "nparameters(5,2)\n",
    "nparameters(20,85)"
   ]
  },
  {
   "cell_type": "markdown",
   "metadata": {},
   "source": [
    "c.  The number of neurons `n.hidden` that we use in the model is a choice.  As we increase the value of `n.hidden`, what happens to the bias of the resulting model?  What happens to the variance?\n",
    "\n",
    "Hint:  remember to think of bias in terms of how well the model fits the training data, and variance as a measure of how much information is being extracted from individuals in the training data (each additional parameter that needs to be estimated requires an additional bit of information from the data).  More information required by the model = higher sensitivity of model's form to particular set of individuals in the training data = higher variance.\n",
    "\n",
    "**Response:** As n.hidden increases, the bias will decrease (more flexibility to fit the training data better) but the variance will increase (more parameters in the model requires it to extract more information from the training data, which increases its sensitivity to the particular set of individuals in the data).\n",
    "\n",
    "d.  In general, by what procedure do we determine the \"right\" values for these tuning parameters (and it's the same answer for all types of models we have discussed).  \n",
    "\n",
    "**Response:** Fit many different combinations and estimate the generalization errors of each with `cross validation`! After that, choose the best, or another acceptable model with the 1 SD rule."
   ]
  }
 ],
 "metadata": {
  "hide_input": false,
  "kernelspec": {
   "display_name": "R",
   "language": "R",
   "name": "ir"
  },
  "language_info": {
   "codemirror_mode": "r",
   "file_extension": ".r",
   "mimetype": "text/x-r-source",
   "name": "R",
   "pygments_lexer": "r",
   "version": "3.6.3"
  },
  "toc": {
   "base_numbering": 1,
   "nav_menu": {},
   "number_sections": true,
   "sideBar": false,
   "skip_h1_title": false,
   "title_cell": "Table of Contents",
   "title_sidebar": "Contents",
   "toc_cell": true,
   "toc_position": {},
   "toc_section_display": true,
   "toc_window_display": false
  },
  "varInspector": {
   "cols": {
    "lenName": 16,
    "lenType": 16,
    "lenVar": 40
   },
   "kernels_config": {
    "python": {
     "delete_cmd_postfix": "",
     "delete_cmd_prefix": "del ",
     "library": "var_list.py",
     "varRefreshCmd": "print(var_dic_list())"
    },
    "r": {
     "delete_cmd_postfix": ") ",
     "delete_cmd_prefix": "rm(",
     "library": "var_list.r",
     "varRefreshCmd": "cat(var_dic_list()) "
    }
   },
   "types_to_exclude": [
    "module",
    "function",
    "builtin_function_or_method",
    "instance",
    "_Feature"
   ],
   "window_display": false
  }
 },
 "nbformat": 4,
 "nbformat_minor": 4
}
