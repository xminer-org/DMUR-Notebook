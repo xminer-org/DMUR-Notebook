{
 "cells": [
  {
   "cell_type": "markdown",
   "metadata": {},
   "source": [
    "**Solution on Basic Prediction Models**\n",
    "\n",
    "BAS 474\n",
    "\n",
    "Charles Liu"
   ]
  },
  {
   "cell_type": "code",
   "execution_count": null,
   "metadata": {
    "ExecuteTime": {
     "end_time": "2021-03-13T03:14:27.224521Z",
     "start_time": "2021-03-13T03:14:24.440Z"
    },
    "Rmd_chunk_options": "setup, include=FALSE",
    "autoscroll": false
   },
   "outputs": [],
   "source": [
    "library(regclass)\n",
    "library(caret)\n",
    "library(glmnet)\n",
    "library(pROC)\n",
    "\n",
    "##suggest_transformation takes a vector of numerical values (x) and a sequence of numbers (powers).\n",
    "##The function calculates a robust measure of skewness when x is raised to the power given in powers.\n",
    "##(When the power equals 0, the logarithm is used instead).  The function returns the power associated\n",
    "##with the skewness closest to 0 (most symmetric), or \"log10\" if the logarithm transformation looked best.\n",
    "#Returns NULL if x is categorical\n",
    "##Note 1:  if x has negative values, only positive values of powers are attempted\n",
    "##Note 2:  optional argument add will add that value to each value before making transformations\n",
    "suggest_transformation <- function(x,powers=seq(from=0,to=3,by=0.5),add=0) {\n",
    "  if( !(class(x) %in% c(\"numeric\",\"integer\") ) ) { return(NULL) }\n",
    "  require(robustbase)\n",
    "  if(add!=0) { x <- x + add }\n",
    "  if(min(x)<=0) { powers <- powers[which(powers>0)] }\n",
    "  skewnesses <- rep(0,length(powers))\n",
    "  for (p in powers) {\n",
    "    if(p==0) { x.trans <- log10(x) } else { x.trans <- x^p }\n",
    "    skewnesses[which(powers==p)] <- mc(x.trans)\n",
    "  }\n",
    "  best.p <- powers[which.min(skewnesses)]\n",
    "  if(best.p==0) { return(\"log10\")} else { return(best.p) }\n",
    "}"
   ]
  },
  {
   "cell_type": "markdown",
   "metadata": {},
   "source": [
    "# Numerical Prediction\n",
    "\n",
    "In the `CENSUS` data from `regclass`, the goal is predict `ResponseRate`, the percentage (0-100) of households in an area that mails back the census form.  The distribution of `ResponseRate` is roughly symmetric (as you can see from running `hist(CENSUS$ResponseRate)`), so we can use it as our `y` variable without further modification.\n",
    "\n",
    "The predictor variables (percent of households with different ethnicities, ages, type of households, incomes, etc.) are for the most part symmetric, or odd-looking enough that no transformation would help (e.g. `hist(CENSUS$Rural)`.  One exception is `hist(CENSUS$Area)`, so we'll have to find a transformation for it (the rest we will leave alone).\n",
    "\n",
    "a.  Run `suggest_transformation` (you'll need to read in the function using the code in the first chunk) on `CENSUS$Area`, then replace the values in the `Area` column with the suggested transformation.  Verify that `summary` of `CENSUS$Area` passes the sanity check.  Note:  be sure to not re-transform this column again (you'll get `Warning message:  NaNs produced if you do`)."
   ]
  },
  {
   "cell_type": "code",
   "execution_count": 2,
   "metadata": {
    "ExecuteTime": {
     "end_time": "2021-03-13T03:14:31.235810Z",
     "start_time": "2021-03-13T03:14:31.126Z"
    },
    "Rmd_chunk_options": "Part1a area examination",
    "autoscroll": false
   },
   "outputs": [
    {
     "data": {
      "image/png": "[encoded data removed]",
      "text/plain": [
       "Plot with title “Histogram of CENSUS$Area”"
      ]
     },
     "metadata": {
      "image/png": {
       "height": 420,
       "width": 420
      }
     },
     "output_type": "display_data"
    }
   ],
   "source": [
    "data(CENSUS)\n",
    "hist(CENSUS$Area)"
   ]
  },
  {
   "cell_type": "code",
   "execution_count": 3,
   "metadata": {
    "ExecuteTime": {
     "end_time": "2021-03-13T03:14:34.589938Z",
     "start_time": "2021-03-13T03:14:34.494Z"
    }
   },
   "outputs": [
    {
     "name": "stderr",
     "output_type": "stream",
     "text": [
      "Loading required package: robustbase\n",
      "\n"
     ]
    },
    {
     "data": {
      "text/html": [
       "'log10'"
      ],
      "text/latex": [
       "'log10'"
      ],
      "text/markdown": [
       "'log10'"
      ],
      "text/plain": [
       "[1] \"log10\""
      ]
     },
     "metadata": {},
     "output_type": "display_data"
    }
   ],
   "source": [
    "suggest_transformation(CENSUS$Area)"
   ]
  },
  {
   "cell_type": "code",
   "execution_count": 4,
   "metadata": {
    "ExecuteTime": {
     "end_time": "2021-03-13T03:14:35.361482Z",
     "start_time": "2021-03-13T03:14:35.285Z"
    }
   },
   "outputs": [
    {
     "data": {
      "text/plain": [
       "    Min.  1st Qu.   Median     Mean  3rd Qu.     Max. \n",
       "-2.22185 -0.72354 -0.31967 -0.09506  0.49796  1.91960 "
      ]
     },
     "metadata": {},
     "output_type": "display_data"
    },
    {
     "data": {
      "image/png": "[encoded data removed]",
      "text/plain": [
       "Plot with title “Histogram of CENSUS$Area”"
      ]
     },
     "metadata": {
      "image/png": {
       "height": 420,
       "width": 420
      }
     },
     "output_type": "display_data"
    }
   ],
   "source": [
    "CENSUS$Area <- log10(CENSUS$Area)\n",
    "hist(CENSUS$Area)\n",
    "summary(CENSUS$Area)\n",
    "#    Min.  1st Qu.   Median     Mean  3rd Qu.     Max.\n",
    "#-2.22185 -0.72354 -0.31967 -0.09506  0.49796  1.91960"
   ]
  },
  {
   "cell_type": "markdown",
   "metadata": {},
   "source": [
    "\n",
    "b.  There may be predictors with zero variance or near-zero variance (not enough diversity in values to contribute much information about variation in response rates).  The first four lines of code explores whether there are such predictors, while the remaining code removes them.  Since `CENSUS` is being overwritten, this change is permanent.\n",
    "\n"
   ]
  },
  {
   "cell_type": "code",
   "execution_count": 5,
   "metadata": {
    "ExecuteTime": {
     "end_time": "2021-03-13T03:14:39.558243Z",
     "start_time": "2021-03-13T03:14:39.325Z"
    }
   },
   "outputs": [
    {
     "data": {
      "text/html": [
       "<style>\n",
       ".list-inline {list-style: none; margin:0; padding: 0}\n",
       ".list-inline>li {display: inline-block}\n",
       ".list-inline>li:not(:last-child)::after {content: \"\\00b7\"; padding: 0 .5ex}\n",
       "</style>\n",
       "<ol class=list-inline><li>32</li><li>33</li><li>34</li><li>35</li></ol>\n"
      ],
      "text/latex": [
       "\\begin{enumerate*}\n",
       "\\item 32\n",
       "\\item 33\n",
       "\\item 34\n",
       "\\item 35\n",
       "\\end{enumerate*}\n"
      ],
      "text/markdown": [
       "1. 32\n",
       "2. 33\n",
       "3. 34\n",
       "4. 35\n",
       "\n",
       "\n"
      ],
      "text/plain": [
       "[1] 32 33 34 35"
      ]
     },
     "metadata": {},
     "output_type": "display_data"
    }
   ],
   "source": [
    "near.zero.variance <- nearZeroVar(CENSUS)\n",
    "near.zero.variance"
   ]
  },
  {
   "cell_type": "code",
   "execution_count": 6,
   "metadata": {
    "ExecuteTime": {
     "end_time": "2021-03-13T03:14:43.668324Z",
     "start_time": "2021-03-13T03:14:43.645Z"
    }
   },
   "outputs": [
    {
     "data": {
      "text/html": [
       "<style>\n",
       ".list-inline {list-style: none; margin:0; padding: 0}\n",
       ".list-inline>li {display: inline-block}\n",
       ".list-inline>li:not(:last-child)::after {content: \"\\00b7\"; padding: 0 .5ex}\n",
       "</style>\n",
       "<ol class=list-inline><li>3534</li><li>39</li></ol>\n"
      ],
      "text/latex": [
       "\\begin{enumerate*}\n",
       "\\item 3534\n",
       "\\item 39\n",
       "\\end{enumerate*}\n"
      ],
      "text/markdown": [
       "1. 3534\n",
       "2. 39\n",
       "\n",
       "\n"
      ],
      "text/plain": [
       "[1] 3534   39"
      ]
     },
     "metadata": {},
     "output_type": "display_data"
    },
    {
     "data": {
      "text/html": [
       "<style>\n",
       ".list-inline {list-style: none; margin:0; padding: 0}\n",
       ".list-inline>li {display: inline-block}\n",
       ".list-inline>li:not(:last-child)::after {content: \"\\00b7\"; padding: 0 .5ex}\n",
       "</style>\n",
       "<ol class=list-inline><li>3534</li><li>35</li></ol>\n"
      ],
      "text/latex": [
       "\\begin{enumerate*}\n",
       "\\item 3534\n",
       "\\item 35\n",
       "\\end{enumerate*}\n"
      ],
      "text/markdown": [
       "1. 3534\n",
       "2. 35\n",
       "\n",
       "\n"
      ],
      "text/plain": [
       "[1] 3534   35"
      ]
     },
     "metadata": {},
     "output_type": "display_data"
    }
   ],
   "source": [
    "dim(CENSUS)\n",
    "CENSUS <- CENSUS[,-near.zero.variance ] #Get rid of these near-zero variance predictors\n",
    "dim(CENSUS)"
   ]
  },
  {
   "cell_type": "markdown",
   "metadata": {},
   "source": [
    "c.  There may be predictors that are highly correlated (and therefore give more or less redundant information).\n",
    "Verify that there are two columns that are highly correlated with \"something else\" in the data (it turns out that `HomeownerHH` is highly correlated with `RentingHH` while `NumHH` is highly correlated with `NumUnits`).  Remove the highly correlated columns (this takes out `HomeownerHH` and `NumHH`, but leaves `RentingHH` and `NumUnits`)."
   ]
  },
  {
   "cell_type": "code",
   "execution_count": 7,
   "metadata": {
    "ExecuteTime": {
     "end_time": "2021-03-13T03:14:51.623370Z",
     "start_time": "2021-03-13T03:14:51.589Z"
    },
    "Rmd_chunk_options": "correlated",
    "autoscroll": false
   },
   "outputs": [
    {
     "data": {
      "text/html": [
       "<style>\n",
       ".list-inline {list-style: none; margin:0; padding: 0}\n",
       ".list-inline>li {display: inline-block}\n",
       ".list-inline>li:not(:last-child)::after {content: \"\\00b7\"; padding: 0 .5ex}\n",
       "</style>\n",
       "<ol class=list-inline><li>30</li><li>33</li></ol>\n"
      ],
      "text/latex": [
       "\\begin{enumerate*}\n",
       "\\item 30\n",
       "\\item 33\n",
       "\\end{enumerate*}\n"
      ],
      "text/markdown": [
       "1. 30\n",
       "2. 33\n",
       "\n",
       "\n"
      ],
      "text/plain": [
       "[1] 30 33"
      ]
     },
     "metadata": {},
     "output_type": "display_data"
    },
    {
     "data": {
      "text/html": [
       "<style>\n",
       ".list-inline {list-style: none; margin:0; padding: 0}\n",
       ".list-inline>li {display: inline-block}\n",
       ".list-inline>li:not(:last-child)::after {content: \"\\00b7\"; padding: 0 .5ex}\n",
       "</style>\n",
       "<ol class=list-inline><li>'HomeownerHH'</li><li>'NumHH'</li></ol>\n"
      ],
      "text/latex": [
       "\\begin{enumerate*}\n",
       "\\item 'HomeownerHH'\n",
       "\\item 'NumHH'\n",
       "\\end{enumerate*}\n"
      ],
      "text/markdown": [
       "1. 'HomeownerHH'\n",
       "2. 'NumHH'\n",
       "\n",
       "\n"
      ],
      "text/plain": [
       "[1] \"HomeownerHH\" \"NumHH\"      "
      ]
     },
     "metadata": {},
     "output_type": "display_data"
    }
   ],
   "source": [
    "cor.between.columns <- cor(CENSUS)\n",
    "highlycorrelated <- findCorrelation( cor.between.columns , cutoff = .90)\n",
    "highlycorrelated\n",
    "names(CENSUS)[highlycorrelated]"
   ]
  },
  {
   "cell_type": "code",
   "execution_count": 8,
   "metadata": {
    "ExecuteTime": {
     "end_time": "2021-03-13T03:14:55.898020Z",
     "start_time": "2021-03-13T03:14:55.868Z"
    }
   },
   "outputs": [
    {
     "data": {
      "text/html": [
       "<style>\n",
       ".dl-inline {width: auto; margin:0; padding: 0}\n",
       ".dl-inline>dt, .dl-inline>dd {float: none; width: auto; display: inline-block}\n",
       ".dl-inline>dt::after {content: \":\\0020\"; padding-right: .5ex}\n",
       ".dl-inline>dt:not(:first-of-type) {padding-left: .5ex}\n",
       "</style><dl class=dl-inline><dt>HomeownerHH</dt><dd>1</dd><dt>RentingHH</dt><dd>0.931827453305694</dd><dt>MarriedHH</dt><dd>0.845768651972233</dd><dt>RelatedHH</dt><dd>0.722605376314671</dd><dt>NoSpouseHH</dt><dd>0.715123241847285</dd><dt>ResponseRate</dt><dd>0.645400663903937</dd></dl>\n"
      ],
      "text/latex": [
       "\\begin{description*}\n",
       "\\item[HomeownerHH] 1\n",
       "\\item[RentingHH] 0.931827453305694\n",
       "\\item[MarriedHH] 0.845768651972233\n",
       "\\item[RelatedHH] 0.722605376314671\n",
       "\\item[NoSpouseHH] 0.715123241847285\n",
       "\\item[ResponseRate] 0.645400663903937\n",
       "\\end{description*}\n"
      ],
      "text/markdown": [
       "HomeownerHH\n",
       ":   1RentingHH\n",
       ":   0.931827453305694MarriedHH\n",
       ":   0.845768651972233RelatedHH\n",
       ":   0.722605376314671NoSpouseHH\n",
       ":   0.715123241847285ResponseRate\n",
       ":   0.645400663903937\n",
       "\n"
      ],
      "text/plain": [
       " HomeownerHH    RentingHH    MarriedHH    RelatedHH   NoSpouseHH ResponseRate \n",
       "   1.0000000    0.9318275    0.8457687    0.7226054    0.7151232    0.6454007 "
      ]
     },
     "metadata": {},
     "output_type": "display_data"
    },
    {
     "data": {
      "text/html": [
       "<style>\n",
       ".dl-inline {width: auto; margin:0; padding: 0}\n",
       ".dl-inline>dt, .dl-inline>dd {float: none; width: auto; display: inline-block}\n",
       ".dl-inline>dt::after {content: \":\\0020\"; padding-right: .5ex}\n",
       ".dl-inline>dt:not(:first-of-type) {padding-left: .5ex}\n",
       "</style><dl class=dl-inline><dt>NumHH</dt><dd>1</dd><dt>NumUnits</dt><dd>0.990734963997718</dd><dt>Population</dt><dd>0.86674104545362</dd><dt>Area</dt><dd>0.232413307778567</dd><dt>Whites</dt><dd>0.181237237219266</dd><dt>FemaleHH</dt><dd>0.170530310371366</dd></dl>\n"
      ],
      "text/latex": [
       "\\begin{description*}\n",
       "\\item[NumHH] 1\n",
       "\\item[NumUnits] 0.990734963997718\n",
       "\\item[Population] 0.86674104545362\n",
       "\\item[Area] 0.232413307778567\n",
       "\\item[Whites] 0.181237237219266\n",
       "\\item[FemaleHH] 0.170530310371366\n",
       "\\end{description*}\n"
      ],
      "text/markdown": [
       "NumHH\n",
       ":   1NumUnits\n",
       ":   0.990734963997718Population\n",
       ":   0.86674104545362Area\n",
       ":   0.232413307778567Whites\n",
       ":   0.181237237219266FemaleHH\n",
       ":   0.170530310371366\n",
       "\n"
      ],
      "text/plain": [
       "     NumHH   NumUnits Population       Area     Whites   FemaleHH \n",
       " 1.0000000  0.9907350  0.8667410  0.2324133  0.1812372  0.1705303 "
      ]
     },
     "metadata": {},
     "output_type": "display_data"
    }
   ],
   "source": [
    "head(sort(abs(cor.between.columns['HomeownerHH',]), decreasing=TRUE)) #What's so correlated with HomeownerHH?\n",
    "head(sort(abs(cor.between.columns['NumHH',]), decreasing=TRUE)) #What's so correlated with NumHH?"
   ]
  },
  {
   "cell_type": "code",
   "execution_count": 9,
   "metadata": {
    "ExecuteTime": {
     "end_time": "2021-03-13T03:15:11.898776Z",
     "start_time": "2021-03-13T03:15:11.878Z"
    }
   },
   "outputs": [
    {
     "data": {
      "text/html": [
       "<style>\n",
       ".list-inline {list-style: none; margin:0; padding: 0}\n",
       ".list-inline>li {display: inline-block}\n",
       ".list-inline>li:not(:last-child)::after {content: \"\\00b7\"; padding: 0 .5ex}\n",
       "</style>\n",
       "<ol class=list-inline><li>3534</li><li>35</li></ol>\n"
      ],
      "text/latex": [
       "\\begin{enumerate*}\n",
       "\\item 3534\n",
       "\\item 35\n",
       "\\end{enumerate*}\n"
      ],
      "text/markdown": [
       "1. 3534\n",
       "2. 35\n",
       "\n",
       "\n"
      ],
      "text/plain": [
       "[1] 3534   35"
      ]
     },
     "metadata": {},
     "output_type": "display_data"
    },
    {
     "data": {
      "text/html": [
       "<style>\n",
       ".list-inline {list-style: none; margin:0; padding: 0}\n",
       ".list-inline>li {display: inline-block}\n",
       ".list-inline>li:not(:last-child)::after {content: \"\\00b7\"; padding: 0 .5ex}\n",
       "</style>\n",
       "<ol class=list-inline><li>3534</li><li>33</li></ol>\n"
      ],
      "text/latex": [
       "\\begin{enumerate*}\n",
       "\\item 3534\n",
       "\\item 33\n",
       "\\end{enumerate*}\n"
      ],
      "text/markdown": [
       "1. 3534\n",
       "2. 33\n",
       "\n",
       "\n"
      ],
      "text/plain": [
       "[1] 3534   33"
      ]
     },
     "metadata": {},
     "output_type": "display_data"
    }
   ],
   "source": [
    "dim(CENSUS)\n",
    "CENSUS <- CENSUS[, -highlycorrelated]\n",
    "dim(CENSUS)"
   ]
  },
  {
   "cell_type": "markdown",
   "metadata": {},
   "source": [
    "\n",
    "d1.  There may be \"linear combinations\" of predictors.  In fact, `Urban`, `Suburban`, and `Rural` should add up to 100 (it's the fractions of people living in each of these 3 settings per block group).  If they do, they represent a linear combination.  They might not because of rounding, but it's worth exploring.  Verify that there are no linear combinations.\n",
    "\n"
   ]
  },
  {
   "cell_type": "code",
   "execution_count": 10,
   "metadata": {
    "ExecuteTime": {
     "end_time": "2021-03-13T03:15:23.397994Z",
     "start_time": "2021-03-13T03:15:23.372Z"
    },
    "Rmd_chunk_options": "linear combos",
    "autoscroll": false
   },
   "outputs": [
    {
     "data": {
      "text/plain": [
       "NULL"
      ]
     },
     "metadata": {},
     "output_type": "display_data"
    }
   ],
   "source": [
    "comboInfo <- findLinearCombos(CENSUS)\n",
    "comboInfo$remove  #in this case, didn't find any!"
   ]
  },
  {
   "cell_type": "markdown",
   "metadata": {},
   "source": [
    "\n",
    "d2.  Unfortunately `findLinearCombos` doesn't always find columns that are \"almost\" linear combinations of each other.  In this case, `Urban` + `Suburban` + `Rural` add up to 100 (when it doesn't, it's due to rounding issues in the original data), but `findLinearCombos` misses this.  Show this is the case by running `summary(CENSUS$Urban+CENSUS$Suburban+CENSUS$Rural)`, then `NULL` out `Suburban` column.  Also, `NULL` out the `AgeLess5` column (the sum over all age columns is also basically 100) and the `Other` column (the sum over all ethnicity columns is also basically 100).\n",
    "\n"
   ]
  },
  {
   "cell_type": "code",
   "execution_count": 11,
   "metadata": {
    "ExecuteTime": {
     "end_time": "2021-03-13T03:15:30.675155Z",
     "start_time": "2021-03-13T03:15:30.645Z"
    },
    "Rmd_chunk_options": "linear combos 2",
    "autoscroll": false
   },
   "outputs": [
    {
     "data": {
      "text/plain": [
       "   Min. 1st Qu.  Median    Mean 3rd Qu.    Max. \n",
       "  100.0   100.0   100.0   100.0   100.0   100.1 "
      ]
     },
     "metadata": {},
     "output_type": "display_data"
    },
    {
     "data": {
      "text/html": [
       "<style>\n",
       ".list-inline {list-style: none; margin:0; padding: 0}\n",
       ".list-inline>li {display: inline-block}\n",
       ".list-inline>li:not(:last-child)::after {content: \"\\00b7\"; padding: 0 .5ex}\n",
       "</style>\n",
       "<ol class=list-inline><li>3534</li><li>33</li></ol>\n"
      ],
      "text/latex": [
       "\\begin{enumerate*}\n",
       "\\item 3534\n",
       "\\item 33\n",
       "\\end{enumerate*}\n"
      ],
      "text/markdown": [
       "1. 3534\n",
       "2. 33\n",
       "\n",
       "\n"
      ],
      "text/plain": [
       "[1] 3534   33"
      ]
     },
     "metadata": {},
     "output_type": "display_data"
    },
    {
     "data": {
      "text/html": [
       "<style>\n",
       ".list-inline {list-style: none; margin:0; padding: 0}\n",
       ".list-inline>li {display: inline-block}\n",
       ".list-inline>li:not(:last-child)::after {content: \"\\00b7\"; padding: 0 .5ex}\n",
       "</style>\n",
       "<ol class=list-inline><li>3534</li><li>30</li></ol>\n"
      ],
      "text/latex": [
       "\\begin{enumerate*}\n",
       "\\item 3534\n",
       "\\item 30\n",
       "\\end{enumerate*}\n"
      ],
      "text/markdown": [
       "1. 3534\n",
       "2. 30\n",
       "\n",
       "\n"
      ],
      "text/plain": [
       "[1] 3534   30"
      ]
     },
     "metadata": {},
     "output_type": "display_data"
    }
   ],
   "source": [
    "summary(CENSUS$Urban+CENSUS$Suburban+CENSUS$Rural)\n",
    "dim(CENSUS)\n",
    "CENSUS$Suburban <- NULL\n",
    "CENSUS$AgeLess5 <- NULL\n",
    "CENSUS$Other <- NULL\n",
    "dim(CENSUS)"
   ]
  },
  {
   "cell_type": "markdown",
   "metadata": {},
   "source": [
    "## Basic Models with Cross Validation"
   ]
  },
  {
   "cell_type": "markdown",
   "metadata": {},
   "source": [
    "\n",
    "\n",
    "e.  After performing validation/integrity checks, doing transformations, and removing unnecessary columns, the next step when building a predictive model is to split the data into training and holdout samples.  Then, determine how the generalization error is to be estimated.\n",
    "\n",
    "The following code generates the `train.rows` vector that is to be used to split the data into 60% training and 40% holdout.  Keep this chunk in mind, you'll be writing something VERY similar for nearly every problem we do (just have to change the 0.6 to reflect the fraction in the training sample, the `CENSUS` to reflect the name of the new dataset, and potentially the `474` if I specifically ask you to prep the random number stream differently).  Pass the sanity check with `head`.\n",
    "\n",
    "\n"
   ]
  },
  {
   "cell_type": "code",
   "execution_count": 12,
   "metadata": {
    "ExecuteTime": {
     "end_time": "2021-03-13T03:16:47.318787Z",
     "start_time": "2021-03-13T03:16:47.278Z"
    },
    "Rmd_chunk_options": "Census setup",
    "autoscroll": false
   },
   "outputs": [
    {
     "data": {
      "text/html": [
       "<style>\n",
       ".list-inline {list-style: none; margin:0; padding: 0}\n",
       ".list-inline>li {display: inline-block}\n",
       ".list-inline>li:not(:last-child)::after {content: \"\\00b7\"; padding: 0 .5ex}\n",
       "</style>\n",
       "<ol class=list-inline><li>3534</li><li>30</li></ol>\n"
      ],
      "text/latex": [
       "\\begin{enumerate*}\n",
       "\\item 3534\n",
       "\\item 30\n",
       "\\end{enumerate*}\n"
      ],
      "text/markdown": [
       "1. 3534\n",
       "2. 30\n",
       "\n",
       "\n"
      ],
      "text/plain": [
       "[1] 3534   30"
      ]
     },
     "metadata": {},
     "output_type": "display_data"
    },
    {
     "data": {
      "text/html": [
       "<table class=\"dataframe\">\n",
       "<caption>A data.frame: 6 × 5</caption>\n",
       "<thead>\n",
       "\t<tr><th></th><th scope=col>ResponseRate</th><th scope=col>Area</th><th scope=col>Urban</th><th scope=col>Rural</th><th scope=col>Male</th></tr>\n",
       "\t<tr><th></th><th scope=col>&lt;dbl&gt;</th><th scope=col>&lt;dbl&gt;</th><th scope=col>&lt;dbl&gt;</th><th scope=col>&lt;dbl&gt;</th><th scope=col>&lt;dbl&gt;</th></tr>\n",
       "</thead>\n",
       "<tbody>\n",
       "\t<tr><th scope=row>854</th><td>89.8</td><td> 1.6577154</td><td>  0</td><td>100</td><td>50.1</td></tr>\n",
       "\t<tr><th scope=row>2649</th><td>84.8</td><td> 0.9508028</td><td>  0</td><td>100</td><td>49.9</td></tr>\n",
       "\t<tr><th scope=row>405</th><td>87.7</td><td> 1.5798750</td><td>  0</td><td>100</td><td>50.2</td></tr>\n",
       "\t<tr><th scope=row>3463</th><td>88.3</td><td>-0.6968039</td><td>100</td><td>  0</td><td>50.3</td></tr>\n",
       "\t<tr><th scope=row>2479</th><td>73.8</td><td>-0.4559320</td><td>100</td><td>  0</td><td>46.7</td></tr>\n",
       "\t<tr><th scope=row>1452</th><td>91.4</td><td>-0.6307841</td><td>100</td><td>  0</td><td>49.1</td></tr>\n",
       "</tbody>\n",
       "</table>\n"
      ],
      "text/latex": [
       "A data.frame: 6 × 5\n",
       "\\begin{tabular}{r|lllll}\n",
       "  & ResponseRate & Area & Urban & Rural & Male\\\\\n",
       "  & <dbl> & <dbl> & <dbl> & <dbl> & <dbl>\\\\\n",
       "\\hline\n",
       "\t854 & 89.8 &  1.6577154 &   0 & 100 & 50.1\\\\\n",
       "\t2649 & 84.8 &  0.9508028 &   0 & 100 & 49.9\\\\\n",
       "\t405 & 87.7 &  1.5798750 &   0 & 100 & 50.2\\\\\n",
       "\t3463 & 88.3 & -0.6968039 & 100 &   0 & 50.3\\\\\n",
       "\t2479 & 73.8 & -0.4559320 & 100 &   0 & 46.7\\\\\n",
       "\t1452 & 91.4 & -0.6307841 & 100 &   0 & 49.1\\\\\n",
       "\\end{tabular}\n"
      ],
      "text/markdown": [
       "\n",
       "A data.frame: 6 × 5\n",
       "\n",
       "| <!--/--> | ResponseRate &lt;dbl&gt; | Area &lt;dbl&gt; | Urban &lt;dbl&gt; | Rural &lt;dbl&gt; | Male &lt;dbl&gt; |\n",
       "|---|---|---|---|---|---|\n",
       "| 854 | 89.8 |  1.6577154 |   0 | 100 | 50.1 |\n",
       "| 2649 | 84.8 |  0.9508028 |   0 | 100 | 49.9 |\n",
       "| 405 | 87.7 |  1.5798750 |   0 | 100 | 50.2 |\n",
       "| 3463 | 88.3 | -0.6968039 | 100 |   0 | 50.3 |\n",
       "| 2479 | 73.8 | -0.4559320 | 100 |   0 | 46.7 |\n",
       "| 1452 | 91.4 | -0.6307841 | 100 |   0 | 49.1 |\n",
       "\n"
      ],
      "text/plain": [
       "     ResponseRate Area       Urban Rural Male\n",
       "854  89.8          1.6577154   0   100   50.1\n",
       "2649 84.8          0.9508028   0   100   49.9\n",
       "405  87.7          1.5798750   0   100   50.2\n",
       "3463 88.3         -0.6968039 100     0   50.3\n",
       "2479 73.8         -0.4559320 100     0   46.7\n",
       "1452 91.4         -0.6307841 100     0   49.1"
      ]
     },
     "metadata": {},
     "output_type": "display_data"
    }
   ],
   "source": [
    "dim(CENSUS) #should be 3534 30 going into it with the unnecessary columns removed\n",
    "set.seed(474)\n",
    "train.rows <- sample(1:nrow(CENSUS), 0.6*nrow(CENSUS))\n",
    "TRAIN <- CENSUS[train.rows, ]\n",
    "HOLDOUT <- CENSUS[-train.rows, ]\n",
    "head(TRAIN[,1:5])"
   ]
  },
  {
   "cell_type": "markdown",
   "metadata": {},
   "source": [
    "f.  It's model-fitting time, starting with vanilla linear regression.\n",
    "\n",
    "To be consistent with models, we will add the argument   `preProc=c(\"center\", \"scale\")` (we aren't doing descriptive analytics, so no need to interpret coefficients).  Find the estimated generalization error and its standard deviation.\n",
    "\n",
    "Note that `trControl` has been setup to estimate the generalization errors with vanilla 5-fold cross validation."
   ]
  },
  {
   "cell_type": "code",
   "execution_count": 13,
   "metadata": {
    "ExecuteTime": {
     "end_time": "2021-03-13T03:16:55.666100Z",
     "start_time": "2021-03-13T03:16:54.717Z"
    },
    "Rmd_chunk_options": "vanilla linear regression,warning=FALSE",
    "autoscroll": false
   },
   "outputs": [
    {
     "data": {
      "text/plain": [
       "Generalized Linear Model \n",
       "\n",
       "2120 samples\n",
       "  29 predictor\n",
       "\n",
       "Pre-processing: centered (29), scaled (29) \n",
       "Resampling: Cross-Validated (5 fold) \n",
       "Summary of sample sizes: 1697, 1695, 1698, 1695, 1695 \n",
       "Resampling results:\n",
       "\n",
       "  RMSE      Rsquared  MAE     \n",
       "  4.781627  0.600186  3.637545\n"
      ]
     },
     "metadata": {},
     "output_type": "display_data"
    },
    {
     "data": {
      "text/html": [
       "<table class=\"dataframe\">\n",
       "<caption>A data.frame: 1 × 7</caption>\n",
       "<thead>\n",
       "\t<tr><th></th><th scope=col>parameter</th><th scope=col>RMSE</th><th scope=col>Rsquared</th><th scope=col>MAE</th><th scope=col>RMSESD</th><th scope=col>RsquaredSD</th><th scope=col>MAESD</th></tr>\n",
       "\t<tr><th></th><th scope=col>&lt;chr&gt;</th><th scope=col>&lt;dbl&gt;</th><th scope=col>&lt;dbl&gt;</th><th scope=col>&lt;dbl&gt;</th><th scope=col>&lt;dbl&gt;</th><th scope=col>&lt;dbl&gt;</th><th scope=col>&lt;dbl&gt;</th></tr>\n",
       "</thead>\n",
       "<tbody>\n",
       "\t<tr><th scope=row>1</th><td>none</td><td>4.781627</td><td>0.600186</td><td>3.637545</td><td>0.246895</td><td>0.007635384</td><td>0.1387442</td></tr>\n",
       "</tbody>\n",
       "</table>\n"
      ],
      "text/latex": [
       "A data.frame: 1 × 7\n",
       "\\begin{tabular}{r|lllllll}\n",
       "  & parameter & RMSE & Rsquared & MAE & RMSESD & RsquaredSD & MAESD\\\\\n",
       "  & <chr> & <dbl> & <dbl> & <dbl> & <dbl> & <dbl> & <dbl>\\\\\n",
       "\\hline\n",
       "\t1 & none & 4.781627 & 0.600186 & 3.637545 & 0.246895 & 0.007635384 & 0.1387442\\\\\n",
       "\\end{tabular}\n"
      ],
      "text/markdown": [
       "\n",
       "A data.frame: 1 × 7\n",
       "\n",
       "| <!--/--> | parameter &lt;chr&gt; | RMSE &lt;dbl&gt; | Rsquared &lt;dbl&gt; | MAE &lt;dbl&gt; | RMSESD &lt;dbl&gt; | RsquaredSD &lt;dbl&gt; | MAESD &lt;dbl&gt; |\n",
       "|---|---|---|---|---|---|---|---|\n",
       "| 1 | none | 4.781627 | 0.600186 | 3.637545 | 0.246895 | 0.007635384 | 0.1387442 |\n",
       "\n"
      ],
      "text/plain": [
       "  parameter RMSE     Rsquared MAE      RMSESD   RsquaredSD  MAESD    \n",
       "1 none      4.781627 0.600186 3.637545 0.246895 0.007635384 0.1387442"
      ]
     },
     "metadata": {},
     "output_type": "display_data"
    }
   ],
   "source": [
    "trControl <- trainControl(method=\"cv\",number=5)\n",
    "set.seed(474)\n",
    "REG <- train(ResponseRate~., data=TRAIN, method='glm',\n",
    "             trControl=trControl, preProc=c(\"center\", \"scale\") )\n",
    "REG\n",
    "REG$results"
   ]
  },
  {
   "cell_type": "markdown",
   "metadata": {},
   "source": [
    "g.  Let's do regularized regression, which chooses coefficients in a manner that's more conducive for predictive analytics (and which allows weigh the tradeoff between the bias and variance of the model).  We will set up the \"grid\" of tuning parameters to consider `alpha` along the sequence 0, 0.5, 1.00 and `lambda` of 10 raised to the power of -4, -3.5, -3, ..., -1.5, -1.\n",
    "\n",
    "* Print to the screen the contents of the tuning grid so you can see all combinations of parameters we are auditioning\n",
    "* Run `train`, then plot the object created by `train` so you can see how the estimated generalization error varies with the two tuning parameters.  Report the \"best model's\" estimated generalization error and its SD."
   ]
  },
  {
   "cell_type": "code",
   "execution_count": 14,
   "metadata": {
    "ExecuteTime": {
     "end_time": "2021-03-13T03:17:07.982819Z",
     "start_time": "2021-03-13T03:17:06.324Z"
    },
    "Rmd_chunk_options": "regularized regression,warning=FALSE",
    "autoscroll": false
   },
   "outputs": [
    {
     "data": {
      "text/plain": [
       "glmnet \n",
       "\n",
       "2120 samples\n",
       "  29 predictor\n",
       "\n",
       "Pre-processing: centered (29), scaled (29) \n",
       "Resampling: Cross-Validated (5 fold) \n",
       "Summary of sample sizes: 1697, 1695, 1698, 1695, 1695 \n",
       "Resampling results across tuning parameters:\n",
       "\n",
       "  alpha  lambda        RMSE      Rsquared   MAE     \n",
       "  0.0    0.0001000000  4.829524  0.5918485  3.671467\n",
       "  0.0    0.0003162278  4.829524  0.5918485  3.671467\n",
       "  0.0    0.0010000000  4.829524  0.5918485  3.671467\n",
       "  0.0    0.0031622777  4.829524  0.5918485  3.671467\n",
       "  0.0    0.0100000000  4.829524  0.5918485  3.671467\n",
       "  0.0    0.0316227766  4.829524  0.5918485  3.671467\n",
       "  0.0    0.1000000000  4.829524  0.5918485  3.671467\n",
       "  0.5    0.0001000000  4.790498  0.5986514  3.635869\n",
       "  0.5    0.0003162278  4.790498  0.5986514  3.635869\n",
       "  0.5    0.0010000000  4.790504  0.5986498  3.635858\n",
       "  0.5    0.0031622777  4.791234  0.5984843  3.635920\n",
       "  0.5    0.0100000000  4.793222  0.5980587  3.635950\n",
       "  0.5    0.0316227766  4.812709  0.5947021  3.650207\n",
       "  0.5    0.1000000000  4.827900  0.5922010  3.664503\n",
       "  1.0    0.0001000000  4.790839  0.5986018  3.635961\n",
       "  1.0    0.0003162278  4.790839  0.5986018  3.635961\n",
       "  1.0    0.0010000000  4.790870  0.5985851  3.635798\n",
       "  1.0    0.0031622777  4.791438  0.5984316  3.635485\n",
       "  1.0    0.0100000000  4.792483  0.5981289  3.635533\n",
       "  1.0    0.0316227766  4.820192  0.5934577  3.654446\n",
       "  1.0    0.1000000000  4.840476  0.5903547  3.680411\n",
       "\n",
       "RMSE was used to select the optimal model using the smallest value.\n",
       "The final values used for the model were alpha = 0.5 and lambda = 0.0003162278."
      ]
     },
     "metadata": {},
     "output_type": "display_data"
    },
    {
     "data": {
      "text/html": [
       "<table class=\"dataframe\">\n",
       "<caption>A data.frame: 1 × 2</caption>\n",
       "<thead>\n",
       "\t<tr><th></th><th scope=col>alpha</th><th scope=col>lambda</th></tr>\n",
       "\t<tr><th></th><th scope=col>&lt;dbl&gt;</th><th scope=col>&lt;dbl&gt;</th></tr>\n",
       "</thead>\n",
       "<tbody>\n",
       "\t<tr><th scope=row>9</th><td>0.5</td><td>0.0003162278</td></tr>\n",
       "</tbody>\n",
       "</table>\n"
      ],
      "text/latex": [
       "A data.frame: 1 × 2\n",
       "\\begin{tabular}{r|ll}\n",
       "  & alpha & lambda\\\\\n",
       "  & <dbl> & <dbl>\\\\\n",
       "\\hline\n",
       "\t9 & 0.5 & 0.0003162278\\\\\n",
       "\\end{tabular}\n"
      ],
      "text/markdown": [
       "\n",
       "A data.frame: 1 × 2\n",
       "\n",
       "| <!--/--> | alpha &lt;dbl&gt; | lambda &lt;dbl&gt; |\n",
       "|---|---|---|\n",
       "| 9 | 0.5 | 0.0003162278 |\n",
       "\n"
      ],
      "text/plain": [
       "  alpha lambda      \n",
       "9 0.5   0.0003162278"
      ]
     },
     "metadata": {},
     "output_type": "display_data"
    },
    {
     "data": {
      "text/html": [
       "<table class=\"dataframe\">\n",
       "<caption>A data.frame: 1 × 8</caption>\n",
       "<thead>\n",
       "\t<tr><th></th><th scope=col>alpha</th><th scope=col>lambda</th><th scope=col>RMSE</th><th scope=col>Rsquared</th><th scope=col>MAE</th><th scope=col>RMSESD</th><th scope=col>RsquaredSD</th><th scope=col>MAESD</th></tr>\n",
       "\t<tr><th></th><th scope=col>&lt;dbl&gt;</th><th scope=col>&lt;dbl&gt;</th><th scope=col>&lt;dbl&gt;</th><th scope=col>&lt;dbl&gt;</th><th scope=col>&lt;dbl&gt;</th><th scope=col>&lt;dbl&gt;</th><th scope=col>&lt;dbl&gt;</th><th scope=col>&lt;dbl&gt;</th></tr>\n",
       "</thead>\n",
       "<tbody>\n",
       "\t<tr><th scope=row>9</th><td>0.5</td><td>0.0003162278</td><td>4.790498</td><td>0.5986514</td><td>3.635869</td><td>0.2354052</td><td>0.008119388</td><td>0.1255351</td></tr>\n",
       "</tbody>\n",
       "</table>\n"
      ],
      "text/latex": [
       "A data.frame: 1 × 8\n",
       "\\begin{tabular}{r|llllllll}\n",
       "  & alpha & lambda & RMSE & Rsquared & MAE & RMSESD & RsquaredSD & MAESD\\\\\n",
       "  & <dbl> & <dbl> & <dbl> & <dbl> & <dbl> & <dbl> & <dbl> & <dbl>\\\\\n",
       "\\hline\n",
       "\t9 & 0.5 & 0.0003162278 & 4.790498 & 0.5986514 & 3.635869 & 0.2354052 & 0.008119388 & 0.1255351\\\\\n",
       "\\end{tabular}\n"
      ],
      "text/markdown": [
       "\n",
       "A data.frame: 1 × 8\n",
       "\n",
       "| <!--/--> | alpha &lt;dbl&gt; | lambda &lt;dbl&gt; | RMSE &lt;dbl&gt; | Rsquared &lt;dbl&gt; | MAE &lt;dbl&gt; | RMSESD &lt;dbl&gt; | RsquaredSD &lt;dbl&gt; | MAESD &lt;dbl&gt; |\n",
       "|---|---|---|---|---|---|---|---|---|\n",
       "| 9 | 0.5 | 0.0003162278 | 4.790498 | 0.5986514 | 3.635869 | 0.2354052 | 0.008119388 | 0.1255351 |\n",
       "\n"
      ],
      "text/plain": [
       "  alpha lambda       RMSE     Rsquared  MAE      RMSESD    RsquaredSD \n",
       "9 0.5   0.0003162278 4.790498 0.5986514 3.635869 0.2354052 0.008119388\n",
       "  MAESD    \n",
       "9 0.1255351"
      ]
     },
     "metadata": {},
     "output_type": "display_data"
    },
    {
     "data": {
      "image/png": "[encoded data removed]",
      "text/plain": [
       "plot without title"
      ]
     },
     "metadata": {
      "image/png": {
       "height": 420,
       "width": 420
      }
     },
     "output_type": "display_data"
    }
   ],
   "source": [
    "tuneGrid <- expand.grid(alpha = seq(0,1,.5), lambda = 10^seq(-4,-1,.5))\n",
    "set.seed(474)\n",
    "GLMnet <- train(ResponseRate~.,data=TRAIN, method='glmnet',\n",
    "                tuneGrid=tuneGrid, trControl=trControl, preProc = c(\"center\", \"scale\"))\n",
    "GLMnet\n",
    "plot(GLMnet)\n",
    "GLMnet$bestTune #Gives best parameters\n",
    "GLMnet$results[rownames(GLMnet$bestTune),]  #Just the row with the optimal choice of tuning parameter"
   ]
  },
  {
   "cell_type": "markdown",
   "metadata": {},
   "source": [
    "h.  So what's the verdict?  Which model should you select, or do we have a choice according to the one standard deviation rule?"
   ]
  },
  {
   "cell_type": "code",
   "execution_count": 15,
   "metadata": {
    "ExecuteTime": {
     "end_time": "2021-03-13T03:17:34.530261Z",
     "start_time": "2021-03-13T03:17:34.516Z"
    },
    "Rmd_chunk_options": "using oneSD rule",
    "autoscroll": false
   },
   "outputs": [
    {
     "data": {
      "text/html": [
       "0.0359302537515951"
      ],
      "text/latex": [
       "0.0359302537515951"
      ],
      "text/markdown": [
       "0.0359302537515951"
      ],
      "text/plain": [
       "[1] 0.03593025"
      ]
     },
     "metadata": {},
     "output_type": "display_data"
    }
   ],
   "source": [
    "abs(4.781627 - 4.790498)/max(0.246895, 0.2354052)"
   ]
  },
  {
   "cell_type": "markdown",
   "metadata": {},
   "source": [
    "**Response:** The vanilla linear regression model happens to have the lowest error, but regularized regression model has an error that's well-within 1 SD, so we could choose between these two models."
   ]
  },
  {
   "cell_type": "markdown",
   "metadata": {},
   "source": [
    "\n",
    "i.  With the final model selected, we can check its performance on the holdout sample using the `postResample` command.  Is the actual error on this holdout sample about what was expected?  Any signs of overfitting (actual error more than 10% worse than what was expected)?\n",
    "\n"
   ]
  },
  {
   "cell_type": "code",
   "execution_count": 16,
   "metadata": {
    "ExecuteTime": {
     "end_time": "2021-03-13T03:17:40.487360Z",
     "start_time": "2021-03-13T03:17:40.435Z"
    },
    "Rmd_chunk_options": "holdout performance regression",
    "autoscroll": false
   },
   "outputs": [
    {
     "data": {
      "text/html": [
       "<style>\n",
       ".dl-inline {width: auto; margin:0; padding: 0}\n",
       ".dl-inline>dt, .dl-inline>dd {float: none; width: auto; display: inline-block}\n",
       ".dl-inline>dt::after {content: \":\\0020\"; padding-right: .5ex}\n",
       ".dl-inline>dt:not(:first-of-type) {padding-left: .5ex}\n",
       "</style><dl class=dl-inline><dt>RMSE</dt><dd>4.92016198952327</dd><dt>Rsquared</dt><dd>0.557856756163484</dd><dt>MAE</dt><dd>3.58490204792506</dd></dl>\n"
      ],
      "text/latex": [
       "\\begin{description*}\n",
       "\\item[RMSE] 4.92016198952327\n",
       "\\item[Rsquared] 0.557856756163484\n",
       "\\item[MAE] 3.58490204792506\n",
       "\\end{description*}\n"
      ],
      "text/markdown": [
       "RMSE\n",
       ":   4.92016198952327Rsquared\n",
       ":   0.557856756163484MAE\n",
       ":   3.58490204792506\n",
       "\n"
      ],
      "text/plain": [
       "     RMSE  Rsquared       MAE \n",
       "4.9201620 0.5578568 3.5849020 "
      ]
     },
     "metadata": {},
     "output_type": "display_data"
    },
    {
     "data": {
      "text/html": [
       "<style>\n",
       ".dl-inline {width: auto; margin:0; padding: 0}\n",
       ".dl-inline>dt, .dl-inline>dd {float: none; width: auto; display: inline-block}\n",
       ".dl-inline>dt::after {content: \":\\0020\"; padding-right: .5ex}\n",
       ".dl-inline>dt:not(:first-of-type) {padding-left: .5ex}\n",
       "</style><dl class=dl-inline><dt>RMSE</dt><dd>4.93399784222062</dd><dt>Rsquared</dt><dd>0.555392877430171</dd><dt>MAE</dt><dd>3.60227016933431</dd></dl>\n"
      ],
      "text/latex": [
       "\\begin{description*}\n",
       "\\item[RMSE] 4.93399784222062\n",
       "\\item[Rsquared] 0.555392877430171\n",
       "\\item[MAE] 3.60227016933431\n",
       "\\end{description*}\n"
      ],
      "text/markdown": [
       "RMSE\n",
       ":   4.93399784222062Rsquared\n",
       ":   0.555392877430171MAE\n",
       ":   3.60227016933431\n",
       "\n"
      ],
      "text/plain": [
       "     RMSE  Rsquared       MAE \n",
       "4.9339978 0.5553929 3.6022702 "
      ]
     },
     "metadata": {},
     "output_type": "display_data"
    }
   ],
   "source": [
    "postResample(predict(REG,newdata=HOLDOUT), HOLDOUT$ResponseRate)\n",
    "postResample(predict(GLMnet,newdata=HOLDOUT), HOLDOUT$ResponseRate)"
   ]
  },
  {
   "cell_type": "markdown",
   "metadata": {},
   "source": [
    "**Response:**\n",
    "The regularized regression happens to perform worse on the holdout.\n",
    "The errors for both models on the holdout are a bit worse (higher) than expected.\n",
    "But the changes are less than 10%, so the models are not overfit!"
   ]
  },
  {
   "cell_type": "markdown",
   "metadata": {},
   "source": [
    "j.  Run `varImp` to see the most important varibales in the two models. Usually the variable importantce is different in different models, but do you see some variables important for both models?"
   ]
  },
  {
   "cell_type": "code",
   "execution_count": 17,
   "metadata": {
    "ExecuteTime": {
     "end_time": "2021-03-13T03:18:16.782232Z",
     "start_time": "2021-03-13T03:18:16.763Z"
    }
   },
   "outputs": [
    {
     "data": {
      "text/plain": [
       "glm variable importance\n",
       "\n",
       "  only 20 most important variables shown (out of 29)\n",
       "\n",
       "                    Overall\n",
       "RentingHH           100.000\n",
       "MarriedHH            65.520\n",
       "MobileHomeUnits      53.049\n",
       "RelatedHH            47.932\n",
       "NoSpouseHH           44.255\n",
       "MedianHHIncomeCity   35.192\n",
       "Age18to24            28.435\n",
       "Whites               27.118\n",
       "Hispanics            26.675\n",
       "Blacks               26.297\n",
       "Asians               25.977\n",
       "Hawaiians            17.598\n",
       "NativeAmericans      16.757\n",
       "FemaleHH             16.455\n",
       "logMedianHouseValue  15.164\n",
       "Rural                13.749\n",
       "AloneHH              13.650\n",
       "Male                 11.762\n",
       "Age65plus             9.377\n",
       "Population            8.476"
      ]
     },
     "metadata": {},
     "output_type": "display_data"
    }
   ],
   "source": [
    "varImp(REG)"
   ]
  },
  {
   "cell_type": "code",
   "execution_count": 18,
   "metadata": {
    "ExecuteTime": {
     "end_time": "2021-03-13T03:18:20.340002Z",
     "start_time": "2021-03-13T03:18:20.315Z"
    }
   },
   "outputs": [
    {
     "data": {
      "text/plain": [
       "glmnet variable importance\n",
       "\n",
       "  only 20 most important variables shown (out of 29)\n",
       "\n",
       "                    Overall\n",
       "MarriedHH           100.000\n",
       "RelatedHH            58.888\n",
       "NoSpouseHH           32.834\n",
       "RentingHH            24.661\n",
       "Whites               12.887\n",
       "FemaleHH              9.422\n",
       "Age18to24             9.410\n",
       "MedianHHIncomeCity    8.291\n",
       "MobileHomeUnits       7.799\n",
       "AloneHH               6.743\n",
       "Population            6.556\n",
       "Age65plus             6.486\n",
       "NumUnits              4.995\n",
       "Hispanics             4.052\n",
       "logMedianHouseValue   3.952\n",
       "NativeAmericans       3.792\n",
       "WithKidHH             3.647\n",
       "Rural                 3.524\n",
       "Age25to44             3.488\n",
       "Age45to64             2.961"
      ]
     },
     "metadata": {},
     "output_type": "display_data"
    }
   ],
   "source": [
    "varImp(GLMnet)"
   ]
  },
  {
   "cell_type": "markdown",
   "metadata": {},
   "source": [
    "k.  If you go and don't NULL out any column, you'll find that `glmnet` can automatically eliminate some redundant variables.\n",
    "Amazing? Please review our discussions on regularized models for an explanation."
   ]
  },
  {
   "cell_type": "code",
   "execution_count": 19,
   "metadata": {
    "ExecuteTime": {
     "end_time": "2021-03-13T03:18:40.005294Z",
     "start_time": "2021-03-13T03:18:38.451Z"
    },
    "Rmd_chunk_options": "lasso coefficients 0",
    "autoscroll": false
   },
   "outputs": [
    {
     "data": {
      "text/html": [
       "<style>\n",
       ".list-inline {list-style: none; margin:0; padding: 0}\n",
       ".list-inline>li {display: inline-block}\n",
       ".list-inline>li:not(:last-child)::after {content: \"\\00b7\"; padding: 0 .5ex}\n",
       "</style>\n",
       "<ol class=list-inline><li>'Suburban'</li><li>'Hispanics'</li><li>'RentingHH'</li></ol>\n"
      ],
      "text/latex": [
       "\\begin{enumerate*}\n",
       "\\item 'Suburban'\n",
       "\\item 'Hispanics'\n",
       "\\item 'RentingHH'\n",
       "\\end{enumerate*}\n"
      ],
      "text/markdown": [
       "1. 'Suburban'\n",
       "2. 'Hispanics'\n",
       "3. 'RentingHH'\n",
       "\n",
       "\n"
      ],
      "text/plain": [
       "[1] \"Suburban\"  \"Hispanics\" \"RentingHH\""
      ]
     },
     "metadata": {},
     "output_type": "display_data"
    }
   ],
   "source": [
    "data(CENSUS)\n",
    "CENSUS$Area <- log10(CENSUS$Area)\n",
    "set.seed(474)\n",
    "train.rows <- sample(1:nrow(CENSUS),0.6*nrow(CENSUS))\n",
    "TRAIN <- CENSUS[train.rows,]\n",
    "HOLDOUT <- CENSUS[-train.rows,]\n",
    "set.seed(474)\n",
    "GLMnet <- train(ResponseRate~., data=TRAIN, method='glmnet',\n",
    "                tuneGrid=tuneGrid, trControl=trControl, preProc = c(\"center\", \"scale\"))\n",
    "GLMnet$finalModel$xNames[ which( as.numeric(coef(GLMnet$finalModel,GLMnet$bestTune$lambda)) == 0 ) - 1 ]"
   ]
  },
  {
   "cell_type": "markdown",
   "metadata": {},
   "source": [
    "# Classification\n",
    "\n",
    "Let's use the `EX7.CATALOG` data and predict whether a customer will make a purchase from a catalog in the next quarter based on prior purchase history and information about the number of catalogs that were received.\n",
    "\n",
    "a.  The first step is data validation and making sure all values make sense (they do here).  Then, we should try to symmetrize the predictors.  One issue with the `QuartersWithPurchase`, `PercentQuartersWithPurchase`, and `DaysSinceLastPurchase` predictors is that they have 0s (and we can't take the logarithm of 0 or a negative number).  In `suggest_transformation`, use the additional argument `add=1` to effectively consider transformations after adding 1 to each value."
   ]
  },
  {
   "cell_type": "code",
   "execution_count": 20,
   "metadata": {
    "ExecuteTime": {
     "end_time": "2021-03-13T03:18:53.347502Z",
     "start_time": "2021-03-13T03:18:53.219Z"
    },
    "Rmd_chunk_options": "catalog transforms",
    "autoscroll": false,
    "jupyter": {
     "outputs_hidden": true
    }
   },
   "outputs": [
    {
     "data": {
      "text/html": [
       "'log10'"
      ],
      "text/latex": [
       "'log10'"
      ],
      "text/markdown": [
       "'log10'"
      ],
      "text/plain": [
       "[1] \"log10\""
      ]
     },
     "metadata": {},
     "output_type": "display_data"
    },
    {
     "data": {
      "text/html": [
       "'log10'"
      ],
      "text/latex": [
       "'log10'"
      ],
      "text/markdown": [
       "'log10'"
      ],
      "text/plain": [
       "[1] \"log10\""
      ]
     },
     "metadata": {},
     "output_type": "display_data"
    },
    {
     "data": {
      "text/html": [
       "'log10'"
      ],
      "text/latex": [
       "'log10'"
      ],
      "text/markdown": [
       "'log10'"
      ],
      "text/plain": [
       "[1] \"log10\""
      ]
     },
     "metadata": {},
     "output_type": "display_data"
    },
    {
     "data": {
      "text/html": [
       "'log10'"
      ],
      "text/latex": [
       "'log10'"
      ],
      "text/markdown": [
       "'log10'"
      ],
      "text/plain": [
       "[1] \"log10\""
      ]
     },
     "metadata": {},
     "output_type": "display_data"
    },
    {
     "data": {
      "text/html": [
       "'log10'"
      ],
      "text/latex": [
       "'log10'"
      ],
      "text/markdown": [
       "'log10'"
      ],
      "text/plain": [
       "[1] \"log10\""
      ]
     },
     "metadata": {},
     "output_type": "display_data"
    },
    {
     "data": {
      "text/html": [
       "'log10'"
      ],
      "text/latex": [
       "'log10'"
      ],
      "text/markdown": [
       "'log10'"
      ],
      "text/plain": [
       "[1] \"log10\""
      ]
     },
     "metadata": {},
     "output_type": "display_data"
    },
    {
     "data": {
      "text/plain": [
       "  Buy       QuartersWithPurchase PercentQuartersWithPurchase CatalogsReceived\n",
       " No :1802   Min.   :0.0000       Min.   :0.0000              Min.   :0.0000  \n",
       " Yes:2198   1st Qu.:0.0000       1st Qu.:0.0000              1st Qu.:0.3010  \n",
       "            Median :0.3010       Median :1.1761              Median :0.4771  \n",
       "            Mean   :0.2815       Mean   :0.9343              Mean   :0.5117  \n",
       "            3rd Qu.:0.4771       3rd Qu.:1.5315              3rd Qu.:0.7782  \n",
       "            Max.   :1.0000       Max.   :2.0043              Max.   :1.3424  \n",
       " DaysSinceLastPurchase  AvgOrderSize    LifetimeOrder   \n",
       " Min.   :0.000         Min.   :0.0000   Min.   :0.0000  \n",
       " 1st Qu.:2.387         1st Qu.:0.1461   1st Qu.:0.0000  \n",
       " Median :2.757         Median :0.3010   Median :0.4771  \n",
       " Mean   :2.677         Mean   :0.3526   Mean   :0.5104  \n",
       " 3rd Qu.:3.126         3rd Qu.:0.5229   3rd Qu.:0.8451  \n",
       " Max.   :3.895         Max.   :1.3424   Max.   :1.9395  "
      ]
     },
     "metadata": {},
     "output_type": "display_data"
    }
   ],
   "source": [
    "data(EX7.CATALOG)\n",
    "\n",
    "suggest_transformation(EX7.CATALOG$QuartersWithPurchase,add=1)\n",
    "EX7.CATALOG$QuartersWithPurchase <- log10( EX7.CATALOG$QuartersWithPurchase + 1 )\n",
    "\n",
    "suggest_transformation(EX7.CATALOG$PercentQuartersWithPurchase,add=1)\n",
    "EX7.CATALOG$PercentQuartersWithPurchase <- log10( EX7.CATALOG$PercentQuartersWithPurchase + 1 )\n",
    "\n",
    "suggest_transformation(EX7.CATALOG$CatalogsReceived)\n",
    "EX7.CATALOG$CatalogsReceived <- log10(EX7.CATALOG$CatalogsReceived)\n",
    "\n",
    "suggest_transformation(EX7.CATALOG$DaysSinceLastPurchase,add=1)\n",
    "EX7.CATALOG$DaysSinceLastPurchase <- log10( EX7.CATALOG$DaysSinceLastPurchase + 1 )\n",
    "\n",
    "suggest_transformation(EX7.CATALOG$AvgOrderSize)\n",
    "EX7.CATALOG$AvgOrderSize <- log10(EX7.CATALOG$AvgOrderSize)\n",
    "\n",
    "suggest_transformation(EX7.CATALOG$LifetimeOrder)\n",
    "EX7.CATALOG$LifetimeOrder <- log10(EX7.CATALOG$LifetimeOrder)\n",
    "\n",
    "summary(EX7.CATALOG)\n",
    "#  Buy       QuartersWithPurchase PercentQuartersWithPurchase CatalogsReceived DaysSinceLastPurchase  AvgOrderSize    LifetimeOrder\n",
    "# No :1802   Min.   :0.0000       Min.   :0.0000              Min.   :0.0000   Min.   :0.000         Min.   :0.0000   Min.   :0.0000\n",
    "# Yes:2198   1st Qu.:0.0000       1st Qu.:0.0000              1st Qu.:0.3010   1st Qu.:2.387         1st Qu.:0.1461   1st Qu.:0.0000\n",
    "#            Median :0.3010       Median :1.1761              Median :0.4771   Median :2.757         Median :0.3010   Median :0.4771\n",
    "#            Mean   :0.2815       Mean   :0.9343              Mean   :0.5117   Mean   :2.677         Mean   :0.3526   Mean   :0.5104\n",
    "#            3rd Qu.:0.4771       3rd Qu.:1.5315              3rd Qu.:0.7782   3rd Qu.:3.126         3rd Qu.:0.5229   3rd Qu.:0.8451\n",
    "#            Max.   :1.0000       Max.   :2.0043              Max.   :1.3424   Max.   :3.895         Max.   :1.3424   Max.   :1.9395"
   ]
  },
  {
   "cell_type": "markdown",
   "metadata": {},
   "source": [
    "\n",
    "b.  There may be predictors with zero variance or near-zero variance (not enough diversity in values to contribute much information about variation in response rates).  The first two lines of code shows that there are no such predictors.  There may be predictors that are highly correlated (and therefore give more or less redundant information regarding Buy).  But none exist here.  There may be \"linear combinations\" of predictors.  But the analysis shows there are not!  We can proceed without further modification.\n",
    "\n"
   ]
  },
  {
   "cell_type": "code",
   "execution_count": 21,
   "metadata": {
    "ExecuteTime": {
     "end_time": "2021-03-13T03:19:38.781306Z",
     "start_time": "2021-03-13T03:19:38.643Z"
    },
    "Rmd_chunk_options": "lowvariance classification",
    "autoscroll": false,
    "jupyter": {
     "outputs_hidden": true
    }
   },
   "outputs": [
    {
     "data": {
      "text/html": [
       "<table class=\"dataframe\">\n",
       "<caption>A data.frame: 5 × 4</caption>\n",
       "<thead>\n",
       "\t<tr><th></th><th scope=col>freqRatio</th><th scope=col>percentUnique</th><th scope=col>zeroVar</th><th scope=col>nzv</th></tr>\n",
       "\t<tr><th></th><th scope=col>&lt;dbl&gt;</th><th scope=col>&lt;dbl&gt;</th><th scope=col>&lt;lgl&gt;</th><th scope=col>&lt;lgl&gt;</th></tr>\n",
       "</thead>\n",
       "<tbody>\n",
       "\t<tr><th scope=row>NA</th><td>NA</td><td>NA</td><td>NA</td><td>NA</td></tr>\n",
       "\t<tr><th scope=row>NA.1</th><td>NA</td><td>NA</td><td>NA</td><td>NA</td></tr>\n",
       "\t<tr><th scope=row>NA.2</th><td>NA</td><td>NA</td><td>NA</td><td>NA</td></tr>\n",
       "\t<tr><th scope=row>NA.3</th><td>NA</td><td>NA</td><td>NA</td><td>NA</td></tr>\n",
       "\t<tr><th scope=row>NA.4</th><td>NA</td><td>NA</td><td>NA</td><td>NA</td></tr>\n",
       "</tbody>\n",
       "</table>\n"
      ],
      "text/latex": [
       "A data.frame: 5 × 4\n",
       "\\begin{tabular}{r|llll}\n",
       "  & freqRatio & percentUnique & zeroVar & nzv\\\\\n",
       "  & <dbl> & <dbl> & <lgl> & <lgl>\\\\\n",
       "\\hline\n",
       "\tNA & NA & NA & NA & NA\\\\\n",
       "\tNA.1 & NA & NA & NA & NA\\\\\n",
       "\tNA.2 & NA & NA & NA & NA\\\\\n",
       "\tNA.3 & NA & NA & NA & NA\\\\\n",
       "\tNA.4 & NA & NA & NA & NA\\\\\n",
       "\\end{tabular}\n"
      ],
      "text/markdown": [
       "\n",
       "A data.frame: 5 × 4\n",
       "\n",
       "| <!--/--> | freqRatio &lt;dbl&gt; | percentUnique &lt;dbl&gt; | zeroVar &lt;lgl&gt; | nzv &lt;lgl&gt; |\n",
       "|---|---|---|---|---|\n",
       "| NA | NA | NA | NA | NA |\n",
       "| NA.1 | NA | NA | NA | NA |\n",
       "| NA.2 | NA | NA | NA | NA |\n",
       "| NA.3 | NA | NA | NA | NA |\n",
       "| NA.4 | NA | NA | NA | NA |\n",
       "\n"
      ],
      "text/plain": [
       "     freqRatio percentUnique zeroVar nzv\n",
       "NA   NA        NA            NA      NA \n",
       "NA.1 NA        NA            NA      NA \n",
       "NA.2 NA        NA            NA      NA \n",
       "NA.3 NA        NA            NA      NA \n",
       "NA.4 NA        NA            NA      NA "
      ]
     },
     "metadata": {},
     "output_type": "display_data"
    },
    {
     "data": {
      "text/html": [],
      "text/latex": [],
      "text/markdown": [],
      "text/plain": [
       "integer(0)"
      ]
     },
     "metadata": {},
     "output_type": "display_data"
    },
    {
     "data": {
      "text/plain": [
       "NULL"
      ]
     },
     "metadata": {},
     "output_type": "display_data"
    }
   ],
   "source": [
    "infodensity <- nearZeroVar(EX7.CATALOG, saveMetrics= TRUE)\n",
    "infodensity[infodensity$nzv,][1:5,]  #nothing to see here\n",
    "highlycorrelated <- findCorrelation( cor(EX7.CATALOG[,-1]) , cutoff = .90) #all but 1st column, which is Buy\n",
    "highlycorrelated #nothing to see\n",
    "comboInfo <- findLinearCombos(EX7.CATALOG[,-1])\n",
    "comboInfo$remove  #nothing"
   ]
  },
  {
   "cell_type": "markdown",
   "metadata": {},
   "source": [
    "\n",
    "\n",
    "c.  After performing validation/integrity checks, doing transformations, and removing unnecessary columns, the next step when building a predictive model is to split the data into training and holdout samples.  Then, determine how the generalization error is to be estimated.\n",
    "\n",
    "The following code generates the `train.rows` vector that is to be used to split the data into 65% training and 35% holdout, and `fitControl` has been setup to estimate the generalization errors with vanilla 5-fold crossvalidation (no repeats).  Keep this chunk in mind, you'll be writing something VERY similar for every problem we do (just have to change the 0.6 to reflect the fraction in the training sample, the `EX7.CATALOG` to reflect the name of the new dataset, and potentially the `474` if I specifically ask you to prep the random number stream differently).  Pass the sanity check with `head` and find the accuracy of the naive model.\n",
    "\n",
    "\n"
   ]
  },
  {
   "cell_type": "code",
   "execution_count": 22,
   "metadata": {
    "ExecuteTime": {
     "end_time": "2021-03-13T03:20:13.049403Z",
     "start_time": "2021-03-13T03:20:13.011Z"
    },
    "Rmd_chunk_options": "catalog setup",
    "autoscroll": false,
    "jupyter": {
     "outputs_hidden": true
    }
   },
   "outputs": [
    {
     "data": {
      "text/html": [
       "<table class=\"dataframe\">\n",
       "<caption>A data.frame: 6 × 5</caption>\n",
       "<thead>\n",
       "\t<tr><th></th><th scope=col>Buy</th><th scope=col>QuartersWithPurchase</th><th scope=col>PercentQuartersWithPurchase</th><th scope=col>CatalogsReceived</th><th scope=col>DaysSinceLastPurchase</th></tr>\n",
       "\t<tr><th></th><th scope=col>&lt;fct&gt;</th><th scope=col>&lt;dbl&gt;</th><th scope=col>&lt;dbl&gt;</th><th scope=col>&lt;dbl&gt;</th><th scope=col>&lt;dbl&gt;</th></tr>\n",
       "</thead>\n",
       "<tbody>\n",
       "\t<tr><th scope=row>854</th><td>No </td><td>0.30103</td><td>1.176091</td><td>0.7781513</td><td>3.241048</td></tr>\n",
       "\t<tr><th scope=row>3949</th><td>Yes</td><td>0.60206</td><td>1.322219</td><td>1.0000000</td><td>1.447158</td></tr>\n",
       "\t<tr><th scope=row>3542</th><td>No </td><td>0.30103</td><td>1.000000</td><td>0.4771213</td><td>2.989895</td></tr>\n",
       "\t<tr><th scope=row>2649</th><td>No </td><td>0.60206</td><td>1.380211</td><td>0.6020600</td><td>3.010300</td></tr>\n",
       "\t<tr><th scope=row>405</th><td>Yes</td><td>0.60206</td><td>1.230449</td><td>0.7781513</td><td>2.448706</td></tr>\n",
       "\t<tr><th scope=row>3463</th><td>No </td><td>0.60206</td><td>1.643453</td><td>0.9030900</td><td>2.161368</td></tr>\n",
       "</tbody>\n",
       "</table>\n"
      ],
      "text/latex": [
       "A data.frame: 6 × 5\n",
       "\\begin{tabular}{r|lllll}\n",
       "  & Buy & QuartersWithPurchase & PercentQuartersWithPurchase & CatalogsReceived & DaysSinceLastPurchase\\\\\n",
       "  & <fct> & <dbl> & <dbl> & <dbl> & <dbl>\\\\\n",
       "\\hline\n",
       "\t854 & No  & 0.30103 & 1.176091 & 0.7781513 & 3.241048\\\\\n",
       "\t3949 & Yes & 0.60206 & 1.322219 & 1.0000000 & 1.447158\\\\\n",
       "\t3542 & No  & 0.30103 & 1.000000 & 0.4771213 & 2.989895\\\\\n",
       "\t2649 & No  & 0.60206 & 1.380211 & 0.6020600 & 3.010300\\\\\n",
       "\t405 & Yes & 0.60206 & 1.230449 & 0.7781513 & 2.448706\\\\\n",
       "\t3463 & No  & 0.60206 & 1.643453 & 0.9030900 & 2.161368\\\\\n",
       "\\end{tabular}\n"
      ],
      "text/markdown": [
       "\n",
       "A data.frame: 6 × 5\n",
       "\n",
       "| <!--/--> | Buy &lt;fct&gt; | QuartersWithPurchase &lt;dbl&gt; | PercentQuartersWithPurchase &lt;dbl&gt; | CatalogsReceived &lt;dbl&gt; | DaysSinceLastPurchase &lt;dbl&gt; |\n",
       "|---|---|---|---|---|---|\n",
       "| 854 | No  | 0.30103 | 1.176091 | 0.7781513 | 3.241048 |\n",
       "| 3949 | Yes | 0.60206 | 1.322219 | 1.0000000 | 1.447158 |\n",
       "| 3542 | No  | 0.30103 | 1.000000 | 0.4771213 | 2.989895 |\n",
       "| 2649 | No  | 0.60206 | 1.380211 | 0.6020600 | 3.010300 |\n",
       "| 405 | Yes | 0.60206 | 1.230449 | 0.7781513 | 2.448706 |\n",
       "| 3463 | No  | 0.60206 | 1.643453 | 0.9030900 | 2.161368 |\n",
       "\n"
      ],
      "text/plain": [
       "     Buy QuartersWithPurchase PercentQuartersWithPurchase CatalogsReceived\n",
       "854  No  0.30103              1.176091                    0.7781513       \n",
       "3949 Yes 0.60206              1.322219                    1.0000000       \n",
       "3542 No  0.30103              1.000000                    0.4771213       \n",
       "2649 No  0.60206              1.380211                    0.6020600       \n",
       "405  Yes 0.60206              1.230449                    0.7781513       \n",
       "3463 No  0.60206              1.643453                    0.9030900       \n",
       "     DaysSinceLastPurchase\n",
       "854  3.241048             \n",
       "3949 1.447158             \n",
       "3542 2.989895             \n",
       "2649 3.010300             \n",
       "405  2.448706             \n",
       "3463 2.161368             "
      ]
     },
     "metadata": {},
     "output_type": "display_data"
    },
    {
     "data": {
      "text/html": [
       "0.551153846153846"
      ],
      "text/latex": [
       "0.551153846153846"
      ],
      "text/markdown": [
       "0.551153846153846"
      ],
      "text/plain": [
       "[1] 0.5511538"
      ]
     },
     "metadata": {},
     "output_type": "display_data"
    }
   ],
   "source": [
    "set.seed(474); train.rows <- sample(1:nrow(EX7.CATALOG),0.65*nrow(EX7.CATALOG))\n",
    "TRAIN <- EX7.CATALOG[train.rows,]; HOLDOUT <- EX7.CATALOG[-train.rows,]\n",
    "fitControl <- trainControl(method=\"cv\",number=5,classProbs=TRUE)   #This makes it so ACCURACY is the chosen metric\n",
    "                                                                   #If AUC was wanted instead, we'd need to add the additional argument\n",
    "                                                                   #summaryFunction = twoClassSummary\n",
    "head(TRAIN[,1:5])\n",
    "mean(TRAIN$Buy==\"Yes\")    #Majority on TRAIN is Yes"
   ]
  },
  {
   "cell_type": "markdown",
   "metadata": {},
   "source": [
    "**Response:** The anticipated accuracy of the naive model is 55% (a very low bar)"
   ]
  },
  {
   "cell_type": "markdown",
   "metadata": {},
   "source": [
    "d.  It's model-fitting time, starting with vanilla logistic regression.  To be consistent with how we treat the data between models, we will add the argument   `preProc=c(\"center\", \"scale\")` (we aren't doing descriptive analytics, so no need to interpret coefficients).  Find the estimated accuracy and its standard deviation."
   ]
  },
  {
   "cell_type": "code",
   "execution_count": 23,
   "metadata": {
    "ExecuteTime": {
     "end_time": "2021-03-13T03:23:20.892647Z",
     "start_time": "2021-03-13T03:23:20.064Z"
    },
    "Rmd_chunk_options": "vanilla logistic regression,warning=FALSE",
    "autoscroll": false,
    "jupyter": {
     "outputs_hidden": true
    }
   },
   "outputs": [
    {
     "data": {
      "text/html": [
       "<table class=\"dataframe\">\n",
       "<caption>A data.frame: 1 × 5</caption>\n",
       "<thead>\n",
       "\t<tr><th></th><th scope=col>parameter</th><th scope=col>Accuracy</th><th scope=col>Kappa</th><th scope=col>AccuracySD</th><th scope=col>KappaSD</th></tr>\n",
       "\t<tr><th></th><th scope=col>&lt;chr&gt;</th><th scope=col>&lt;dbl&gt;</th><th scope=col>&lt;dbl&gt;</th><th scope=col>&lt;dbl&gt;</th><th scope=col>&lt;dbl&gt;</th></tr>\n",
       "</thead>\n",
       "<tbody>\n",
       "\t<tr><th scope=row>1</th><td>none</td><td>0.6361422</td><td>0.2606006</td><td>0.02269171</td><td>0.04359381</td></tr>\n",
       "</tbody>\n",
       "</table>\n"
      ],
      "text/latex": [
       "A data.frame: 1 × 5\n",
       "\\begin{tabular}{r|lllll}\n",
       "  & parameter & Accuracy & Kappa & AccuracySD & KappaSD\\\\\n",
       "  & <chr> & <dbl> & <dbl> & <dbl> & <dbl>\\\\\n",
       "\\hline\n",
       "\t1 & none & 0.6361422 & 0.2606006 & 0.02269171 & 0.04359381\\\\\n",
       "\\end{tabular}\n"
      ],
      "text/markdown": [
       "\n",
       "A data.frame: 1 × 5\n",
       "\n",
       "| <!--/--> | parameter &lt;chr&gt; | Accuracy &lt;dbl&gt; | Kappa &lt;dbl&gt; | AccuracySD &lt;dbl&gt; | KappaSD &lt;dbl&gt; |\n",
       "|---|---|---|---|---|---|\n",
       "| 1 | none | 0.6361422 | 0.2606006 | 0.02269171 | 0.04359381 |\n",
       "\n"
      ],
      "text/plain": [
       "  parameter Accuracy  Kappa     AccuracySD KappaSD   \n",
       "1 none      0.6361422 0.2606006 0.02269171 0.04359381"
      ]
     },
     "metadata": {},
     "output_type": "display_data"
    }
   ],
   "source": [
    "set.seed(474); REG <- train(Buy~.,data=TRAIN,method='glm',\n",
    "                               trControl=fitControl,preProc=c(\"center\", \"scale\") )\n",
    "REG$results"
   ]
  },
  {
   "cell_type": "markdown",
   "metadata": {},
   "source": [
    "e.  Let's do regularized regression, which chooses coefficients in a manner that's more conducive for predictive analytics (and which allows weigh the tradeoff between the bias and variance of the model).  We will set up the \"grid\" of tuning parameters to consider `alpha` along the sequence 0, 0.5, 1.00 and `lambda` of 10 raised to the power of -4, -3.5, -3, ..., -1.5, -1.  Print out the contents of the grid to the screen so you can see how many combinations we are considering.  Plot the object created by `train` so you can see how the estimated generalization error varies with the two tuning parameters.  Report the estimated generalization error and its SD."
   ]
  },
  {
   "cell_type": "code",
   "execution_count": 24,
   "metadata": {
    "ExecuteTime": {
     "end_time": "2021-03-13T03:23:56.620791Z",
     "start_time": "2021-03-13T03:23:54.704Z"
    },
    "Rmd_chunk_options": "regularized regression class,warning=FALSE",
    "autoscroll": false,
    "jupyter": {
     "outputs_hidden": true
    }
   },
   "outputs": [
    {
     "data": {
      "text/html": [
       "<table class=\"dataframe\">\n",
       "<caption>A data.frame: 21 × 2</caption>\n",
       "<thead>\n",
       "\t<tr><th scope=col>alpha</th><th scope=col>lambda</th></tr>\n",
       "\t<tr><th scope=col>&lt;dbl&gt;</th><th scope=col>&lt;dbl&gt;</th></tr>\n",
       "</thead>\n",
       "<tbody>\n",
       "\t<tr><td>0.0</td><td>0.0001000000</td></tr>\n",
       "\t<tr><td>0.5</td><td>0.0001000000</td></tr>\n",
       "\t<tr><td>1.0</td><td>0.0001000000</td></tr>\n",
       "\t<tr><td>0.0</td><td>0.0003162278</td></tr>\n",
       "\t<tr><td>0.5</td><td>0.0003162278</td></tr>\n",
       "\t<tr><td>1.0</td><td>0.0003162278</td></tr>\n",
       "\t<tr><td>0.0</td><td>0.0010000000</td></tr>\n",
       "\t<tr><td>0.5</td><td>0.0010000000</td></tr>\n",
       "\t<tr><td>1.0</td><td>0.0010000000</td></tr>\n",
       "\t<tr><td>0.0</td><td>0.0031622777</td></tr>\n",
       "\t<tr><td>0.5</td><td>0.0031622777</td></tr>\n",
       "\t<tr><td>1.0</td><td>0.0031622777</td></tr>\n",
       "\t<tr><td>0.0</td><td>0.0100000000</td></tr>\n",
       "\t<tr><td>0.5</td><td>0.0100000000</td></tr>\n",
       "\t<tr><td>1.0</td><td>0.0100000000</td></tr>\n",
       "\t<tr><td>0.0</td><td>0.0316227766</td></tr>\n",
       "\t<tr><td>0.5</td><td>0.0316227766</td></tr>\n",
       "\t<tr><td>1.0</td><td>0.0316227766</td></tr>\n",
       "\t<tr><td>0.0</td><td>0.1000000000</td></tr>\n",
       "\t<tr><td>0.5</td><td>0.1000000000</td></tr>\n",
       "\t<tr><td>1.0</td><td>0.1000000000</td></tr>\n",
       "</tbody>\n",
       "</table>\n"
      ],
      "text/latex": [
       "A data.frame: 21 × 2\n",
       "\\begin{tabular}{ll}\n",
       " alpha & lambda\\\\\n",
       " <dbl> & <dbl>\\\\\n",
       "\\hline\n",
       "\t 0.0 & 0.0001000000\\\\\n",
       "\t 0.5 & 0.0001000000\\\\\n",
       "\t 1.0 & 0.0001000000\\\\\n",
       "\t 0.0 & 0.0003162278\\\\\n",
       "\t 0.5 & 0.0003162278\\\\\n",
       "\t 1.0 & 0.0003162278\\\\\n",
       "\t 0.0 & 0.0010000000\\\\\n",
       "\t 0.5 & 0.0010000000\\\\\n",
       "\t 1.0 & 0.0010000000\\\\\n",
       "\t 0.0 & 0.0031622777\\\\\n",
       "\t 0.5 & 0.0031622777\\\\\n",
       "\t 1.0 & 0.0031622777\\\\\n",
       "\t 0.0 & 0.0100000000\\\\\n",
       "\t 0.5 & 0.0100000000\\\\\n",
       "\t 1.0 & 0.0100000000\\\\\n",
       "\t 0.0 & 0.0316227766\\\\\n",
       "\t 0.5 & 0.0316227766\\\\\n",
       "\t 1.0 & 0.0316227766\\\\\n",
       "\t 0.0 & 0.1000000000\\\\\n",
       "\t 0.5 & 0.1000000000\\\\\n",
       "\t 1.0 & 0.1000000000\\\\\n",
       "\\end{tabular}\n"
      ],
      "text/markdown": [
       "\n",
       "A data.frame: 21 × 2\n",
       "\n",
       "| alpha &lt;dbl&gt; | lambda &lt;dbl&gt; |\n",
       "|---|---|\n",
       "| 0.0 | 0.0001000000 |\n",
       "| 0.5 | 0.0001000000 |\n",
       "| 1.0 | 0.0001000000 |\n",
       "| 0.0 | 0.0003162278 |\n",
       "| 0.5 | 0.0003162278 |\n",
       "| 1.0 | 0.0003162278 |\n",
       "| 0.0 | 0.0010000000 |\n",
       "| 0.5 | 0.0010000000 |\n",
       "| 1.0 | 0.0010000000 |\n",
       "| 0.0 | 0.0031622777 |\n",
       "| 0.5 | 0.0031622777 |\n",
       "| 1.0 | 0.0031622777 |\n",
       "| 0.0 | 0.0100000000 |\n",
       "| 0.5 | 0.0100000000 |\n",
       "| 1.0 | 0.0100000000 |\n",
       "| 0.0 | 0.0316227766 |\n",
       "| 0.5 | 0.0316227766 |\n",
       "| 1.0 | 0.0316227766 |\n",
       "| 0.0 | 0.1000000000 |\n",
       "| 0.5 | 0.1000000000 |\n",
       "| 1.0 | 0.1000000000 |\n",
       "\n"
      ],
      "text/plain": [
       "   alpha lambda      \n",
       "1  0.0   0.0001000000\n",
       "2  0.5   0.0001000000\n",
       "3  1.0   0.0001000000\n",
       "4  0.0   0.0003162278\n",
       "5  0.5   0.0003162278\n",
       "6  1.0   0.0003162278\n",
       "7  0.0   0.0010000000\n",
       "8  0.5   0.0010000000\n",
       "9  1.0   0.0010000000\n",
       "10 0.0   0.0031622777\n",
       "11 0.5   0.0031622777\n",
       "12 1.0   0.0031622777\n",
       "13 0.0   0.0100000000\n",
       "14 0.5   0.0100000000\n",
       "15 1.0   0.0100000000\n",
       "16 0.0   0.0316227766\n",
       "17 0.5   0.0316227766\n",
       "18 1.0   0.0316227766\n",
       "19 0.0   0.1000000000\n",
       "20 0.5   0.1000000000\n",
       "21 1.0   0.1000000000"
      ]
     },
     "metadata": {},
     "output_type": "display_data"
    },
    {
     "data": {
      "text/html": [
       "<table class=\"dataframe\">\n",
       "<caption>A data.frame: 1 × 2</caption>\n",
       "<thead>\n",
       "\t<tr><th></th><th scope=col>alpha</th><th scope=col>lambda</th></tr>\n",
       "\t<tr><th></th><th scope=col>&lt;dbl&gt;</th><th scope=col>&lt;dbl&gt;</th></tr>\n",
       "</thead>\n",
       "<tbody>\n",
       "\t<tr><th scope=row>18</th><td>1</td><td>0.003162278</td></tr>\n",
       "</tbody>\n",
       "</table>\n"
      ],
      "text/latex": [
       "A data.frame: 1 × 2\n",
       "\\begin{tabular}{r|ll}\n",
       "  & alpha & lambda\\\\\n",
       "  & <dbl> & <dbl>\\\\\n",
       "\\hline\n",
       "\t18 & 1 & 0.003162278\\\\\n",
       "\\end{tabular}\n"
      ],
      "text/markdown": [
       "\n",
       "A data.frame: 1 × 2\n",
       "\n",
       "| <!--/--> | alpha &lt;dbl&gt; | lambda &lt;dbl&gt; |\n",
       "|---|---|---|\n",
       "| 18 | 1 | 0.003162278 |\n",
       "\n"
      ],
      "text/plain": [
       "   alpha lambda     \n",
       "18 1     0.003162278"
      ]
     },
     "metadata": {},
     "output_type": "display_data"
    },
    {
     "data": {
      "text/html": [
       "<table class=\"dataframe\">\n",
       "<caption>A data.frame: 1 × 6</caption>\n",
       "<thead>\n",
       "\t<tr><th></th><th scope=col>alpha</th><th scope=col>lambda</th><th scope=col>Accuracy</th><th scope=col>Kappa</th><th scope=col>AccuracySD</th><th scope=col>KappaSD</th></tr>\n",
       "\t<tr><th></th><th scope=col>&lt;dbl&gt;</th><th scope=col>&lt;dbl&gt;</th><th scope=col>&lt;dbl&gt;</th><th scope=col>&lt;dbl&gt;</th><th scope=col>&lt;dbl&gt;</th><th scope=col>&lt;dbl&gt;</th></tr>\n",
       "</thead>\n",
       "<tbody>\n",
       "\t<tr><th scope=row>18</th><td>1</td><td>0.003162278</td><td>0.6372983</td><td>0.2616028</td><td>0.02191228</td><td>0.04179237</td></tr>\n",
       "</tbody>\n",
       "</table>\n"
      ],
      "text/latex": [
       "A data.frame: 1 × 6\n",
       "\\begin{tabular}{r|llllll}\n",
       "  & alpha & lambda & Accuracy & Kappa & AccuracySD & KappaSD\\\\\n",
       "  & <dbl> & <dbl> & <dbl> & <dbl> & <dbl> & <dbl>\\\\\n",
       "\\hline\n",
       "\t18 & 1 & 0.003162278 & 0.6372983 & 0.2616028 & 0.02191228 & 0.04179237\\\\\n",
       "\\end{tabular}\n"
      ],
      "text/markdown": [
       "\n",
       "A data.frame: 1 × 6\n",
       "\n",
       "| <!--/--> | alpha &lt;dbl&gt; | lambda &lt;dbl&gt; | Accuracy &lt;dbl&gt; | Kappa &lt;dbl&gt; | AccuracySD &lt;dbl&gt; | KappaSD &lt;dbl&gt; |\n",
       "|---|---|---|---|---|---|---|\n",
       "| 18 | 1 | 0.003162278 | 0.6372983 | 0.2616028 | 0.02191228 | 0.04179237 |\n",
       "\n"
      ],
      "text/plain": [
       "   alpha lambda      Accuracy  Kappa     AccuracySD KappaSD   \n",
       "18 1     0.003162278 0.6372983 0.2616028 0.02191228 0.04179237"
      ]
     },
     "metadata": {},
     "output_type": "display_data"
    },
    {
     "data": {
      "image/png": "[encoded data removed]",
      "text/plain": [
       "plot without title"
      ]
     },
     "metadata": {
      "image/png": {
       "height": 420,
       "width": 420
      }
     },
     "output_type": "display_data"
    }
   ],
   "source": [
    "glmnetGrid <- expand.grid(alpha = seq(0,1,.5),lambda = 10^seq(-4,-1,by=.5))\n",
    "glmnetGrid\n",
    "set.seed(474); GLMnet <- train(Buy~.,data=TRAIN,method='glmnet', tuneGrid=glmnetGrid,\n",
    "                               trControl=fitControl, preProc = c(\"center\", \"scale\"))\n",
    "plot(GLMnet)\n",
    "GLMnet$bestTune #Gives best parameters\n",
    "GLMnet$results[rownames(GLMnet$bestTune),]  #Just the row with the optimal choice of tuning parameter"
   ]
  },
  {
   "cell_type": "markdown",
   "metadata": {},
   "source": [
    "f.  Let's do k-nearest neighbors (predicted probability of a new individual is found by letting nearest neighbors have a vote, where \"nearest\" is judged based on the Euclidean distance).  Set up the search grid so it considers values of `k` from 1 to 40.  Plot the object created by `train` so you can see how the estimated generalization error varies with the number of neighbors.  Report the estimated generalization error and its SD."
   ]
  },
  {
   "cell_type": "code",
   "execution_count": 25,
   "metadata": {
    "ExecuteTime": {
     "end_time": "2021-03-13T03:24:52.392276Z",
     "start_time": "2021-03-13T03:24:42.712Z"
    },
    "Rmd_chunk_options": "knn class,warning=FALSE",
    "autoscroll": false,
    "jupyter": {
     "outputs_hidden": true
    }
   },
   "outputs": [
    {
     "data": {
      "text/html": [
       "<table class=\"dataframe\">\n",
       "<caption>A data.frame: 1 × 1</caption>\n",
       "<thead>\n",
       "\t<tr><th></th><th scope=col>k</th></tr>\n",
       "\t<tr><th></th><th scope=col>&lt;int&gt;</th></tr>\n",
       "</thead>\n",
       "<tbody>\n",
       "\t<tr><th scope=row>39</th><td>39</td></tr>\n",
       "</tbody>\n",
       "</table>\n"
      ],
      "text/latex": [
       "A data.frame: 1 × 1\n",
       "\\begin{tabular}{r|l}\n",
       "  & k\\\\\n",
       "  & <int>\\\\\n",
       "\\hline\n",
       "\t39 & 39\\\\\n",
       "\\end{tabular}\n"
      ],
      "text/markdown": [
       "\n",
       "A data.frame: 1 × 1\n",
       "\n",
       "| <!--/--> | k &lt;int&gt; |\n",
       "|---|---|\n",
       "| 39 | 39 |\n",
       "\n"
      ],
      "text/plain": [
       "   k \n",
       "39 39"
      ]
     },
     "metadata": {},
     "output_type": "display_data"
    },
    {
     "data": {
      "text/html": [
       "<table class=\"dataframe\">\n",
       "<caption>A data.frame: 1 × 5</caption>\n",
       "<thead>\n",
       "\t<tr><th></th><th scope=col>k</th><th scope=col>Accuracy</th><th scope=col>Kappa</th><th scope=col>AccuracySD</th><th scope=col>KappaSD</th></tr>\n",
       "\t<tr><th></th><th scope=col>&lt;int&gt;</th><th scope=col>&lt;dbl&gt;</th><th scope=col>&lt;dbl&gt;</th><th scope=col>&lt;dbl&gt;</th><th scope=col>&lt;dbl&gt;</th></tr>\n",
       "</thead>\n",
       "<tbody>\n",
       "\t<tr><th scope=row>39</th><td>39</td><td>0.62114</td><td>0.2338122</td><td>0.02723133</td><td>0.05330878</td></tr>\n",
       "</tbody>\n",
       "</table>\n"
      ],
      "text/latex": [
       "A data.frame: 1 × 5\n",
       "\\begin{tabular}{r|lllll}\n",
       "  & k & Accuracy & Kappa & AccuracySD & KappaSD\\\\\n",
       "  & <int> & <dbl> & <dbl> & <dbl> & <dbl>\\\\\n",
       "\\hline\n",
       "\t39 & 39 & 0.62114 & 0.2338122 & 0.02723133 & 0.05330878\\\\\n",
       "\\end{tabular}\n"
      ],
      "text/markdown": [
       "\n",
       "A data.frame: 1 × 5\n",
       "\n",
       "| <!--/--> | k &lt;int&gt; | Accuracy &lt;dbl&gt; | Kappa &lt;dbl&gt; | AccuracySD &lt;dbl&gt; | KappaSD &lt;dbl&gt; |\n",
       "|---|---|---|---|---|---|\n",
       "| 39 | 39 | 0.62114 | 0.2338122 | 0.02723133 | 0.05330878 |\n",
       "\n"
      ],
      "text/plain": [
       "   k  Accuracy Kappa     AccuracySD KappaSD   \n",
       "39 39 0.62114  0.2338122 0.02723133 0.05330878"
      ]
     },
     "metadata": {},
     "output_type": "display_data"
    },
    {
     "data": {
      "image/png": "[encoded data removed]",
      "text/plain": [
       "plot without title"
      ]
     },
     "metadata": {
      "image/png": {
       "height": 420,
       "width": 420
      }
     },
     "output_type": "display_data"
    }
   ],
   "source": [
    "knnGrid <- expand.grid(k=1:40)\n",
    "set.seed(474); KNN <- train(Buy~.,data=TRAIN,method='knn', tuneGrid=knnGrid,\n",
    "                               trControl=fitControl, preProc = c(\"center\", \"scale\"))\n",
    "plot(KNN)\n",
    "KNN$bestTune #Gives best parameters\n",
    "KNN$results[rownames(KNN$bestTune),]  #Just the row with the optimal choice of tuning parameter"
   ]
  },
  {
   "cell_type": "markdown",
   "metadata": {},
   "source": [
    "g.  So what's the verdict?  Which model should you select, or is there a choice?  Any model outright eliminated from consideration?"
   ]
  },
  {
   "cell_type": "code",
   "execution_count": 26,
   "metadata": {
    "ExecuteTime": {
     "end_time": "2021-03-13T03:26:54.511902Z",
     "start_time": "2021-03-13T03:26:54.495Z"
    },
    "autoscroll": false,
    "jupyter": {
     "outputs_hidden": true
    }
   },
   "outputs": [
    {
     "data": {
      "text/html": [
       "0.593371678871357"
      ],
      "text/latex": [
       "0.593371678871357"
      ],
      "text/markdown": [
       "0.593371678871357"
      ],
      "text/plain": [
       "[1] 0.5933717"
      ]
     },
     "metadata": {},
     "output_type": "display_data"
    }
   ],
   "source": [
    "(0.6372983 - 0.62114)/0.02723133  #highest accuracy found vs. lowest accuracy found divided by larger of two SDs"
   ]
  },
  {
   "cell_type": "markdown",
   "metadata": {},
   "source": [
    "**Response:** All models have accuracies within 1 SD of each other, so any of them should be \"fine\"."
   ]
  },
  {
   "cell_type": "markdown",
   "metadata": {},
   "source": [
    "h.  With the final model selected, we can check its performance on the holdout sample using the `postResample` command.  Is the actual error on this holdout sample about what was expected?  Any signs of overfitting?  Do the models beat the naive model?  Remember, we never use performance on the holdout to change our mind over what model to use."
   ]
  },
  {
   "cell_type": "code",
   "execution_count": 27,
   "metadata": {
    "ExecuteTime": {
     "end_time": "2021-03-13T03:27:45.577305Z",
     "start_time": "2021-03-13T03:27:45.462Z"
    },
    "Rmd_chunk_options": "holdout classification",
    "autoscroll": false,
    "jupyter": {
     "outputs_hidden": true
    }
   },
   "outputs": [
    {
     "data": {
      "text/html": [
       "<style>\n",
       ".dl-inline {width: auto; margin:0; padding: 0}\n",
       ".dl-inline>dt, .dl-inline>dd {float: none; width: auto; display: inline-block}\n",
       ".dl-inline>dt::after {content: \":\\0020\"; padding-right: .5ex}\n",
       ".dl-inline>dt:not(:first-of-type) {padding-left: .5ex}\n",
       "</style><dl class=dl-inline><dt>Accuracy</dt><dd>0.620714285714286</dd><dt>Kappa</dt><dd>0.229780973497171</dd></dl>\n"
      ],
      "text/latex": [
       "\\begin{description*}\n",
       "\\item[Accuracy] 0.620714285714286\n",
       "\\item[Kappa] 0.229780973497171\n",
       "\\end{description*}\n"
      ],
      "text/markdown": [
       "Accuracy\n",
       ":   0.620714285714286Kappa\n",
       ":   0.229780973497171\n",
       "\n"
      ],
      "text/plain": [
       " Accuracy     Kappa \n",
       "0.6207143 0.2297810 "
      ]
     },
     "metadata": {},
     "output_type": "display_data"
    },
    {
     "data": {
      "text/html": [
       "<style>\n",
       ".dl-inline {width: auto; margin:0; padding: 0}\n",
       ".dl-inline>dt, .dl-inline>dd {float: none; width: auto; display: inline-block}\n",
       ".dl-inline>dt::after {content: \":\\0020\"; padding-right: .5ex}\n",
       ".dl-inline>dt:not(:first-of-type) {padding-left: .5ex}\n",
       "</style><dl class=dl-inline><dt>Accuracy</dt><dd>0.627142857142857</dd><dt>Kappa</dt><dd>0.241097853515686</dd></dl>\n"
      ],
      "text/latex": [
       "\\begin{description*}\n",
       "\\item[Accuracy] 0.627142857142857\n",
       "\\item[Kappa] 0.241097853515686\n",
       "\\end{description*}\n"
      ],
      "text/markdown": [
       "Accuracy\n",
       ":   0.627142857142857Kappa\n",
       ":   0.241097853515686\n",
       "\n"
      ],
      "text/plain": [
       " Accuracy     Kappa \n",
       "0.6271429 0.2410979 "
      ]
     },
     "metadata": {},
     "output_type": "display_data"
    },
    {
     "data": {
      "text/html": [
       "<style>\n",
       ".dl-inline {width: auto; margin:0; padding: 0}\n",
       ".dl-inline>dt, .dl-inline>dd {float: none; width: auto; display: inline-block}\n",
       ".dl-inline>dt::after {content: \":\\0020\"; padding-right: .5ex}\n",
       ".dl-inline>dt:not(:first-of-type) {padding-left: .5ex}\n",
       "</style><dl class=dl-inline><dt>Accuracy</dt><dd>0.612142857142857</dd><dt>Kappa</dt><dd>0.215755049827718</dd></dl>\n"
      ],
      "text/latex": [
       "\\begin{description*}\n",
       "\\item[Accuracy] 0.612142857142857\n",
       "\\item[Kappa] 0.215755049827718\n",
       "\\end{description*}\n"
      ],
      "text/markdown": [
       "Accuracy\n",
       ":   0.612142857142857Kappa\n",
       ":   0.215755049827718\n",
       "\n"
      ],
      "text/plain": [
       " Accuracy     Kappa \n",
       "0.6121429 0.2157550 "
      ]
     },
     "metadata": {},
     "output_type": "display_data"
    },
    {
     "data": {
      "text/html": [
       "0.546428571428571"
      ],
      "text/latex": [
       "0.546428571428571"
      ],
      "text/markdown": [
       "0.546428571428571"
      ],
      "text/plain": [
       "[1] 0.5464286"
      ]
     },
     "metadata": {},
     "output_type": "display_data"
    }
   ],
   "source": [
    "postResample(predict(REG,newdata=HOLDOUT),HOLDOUT$Buy)\n",
    "postResample(predict(GLMnet,newdata=HOLDOUT),HOLDOUT$Buy)\n",
    "set.seed(474); postResample(predict(KNN,newdata=HOLDOUT),HOLDOUT$Buy)\n",
    "mean(HOLDOUT$Buy==\"Yes\")  #Naive"
   ]
  },
  {
   "cell_type": "markdown",
   "metadata": {},
   "source": [
    "**Response:**  The `glmnet` happens to perform best on the holdout (KNN looks not as good).\n",
    "\n",
    "The model is not overfit (it would be if the actual accuracy on the holdout is 10% or so lower than the estimated accuracy with cross validation).\n",
    "\n",
    "The naive model is beat (which has an accuracy of 55% on the holdout)."
   ]
  },
  {
   "cell_type": "markdown",
   "metadata": {},
   "source": [
    "i. Repeat the analysis but now selected the model based on the area under the ROC curve (or AUC).  Note:  you may get a warning message that says `The metric \"Accuracy\" was not in the result set. ROC will be used instead.`  That's fine!  If you add `metric=\"ROC\"` to `train`, this message goes away (but you don't need to).  Find the AUC on the holdout sample and check for signs of overfitting."
   ]
  },
  {
   "cell_type": "code",
   "execution_count": 29,
   "metadata": {
    "ExecuteTime": {
     "end_time": "2021-03-13T03:32:16.131512Z",
     "start_time": "2021-03-13T03:32:03.557Z"
    },
    "Rmd_chunk_options": "AUC",
    "autoscroll": false,
    "jupyter": {
     "outputs_hidden": true
    },
    "scrolled": false
   },
   "outputs": [
    {
     "name": "stderr",
     "output_type": "stream",
     "text": [
      "Warning message in train.default(x, y, weights = w, ...):\n",
      "“The metric \"Accuracy\" was not in the result set. ROC will be used instead.”\n"
     ]
    },
    {
     "data": {
      "text/html": [
       "<table class=\"dataframe\">\n",
       "<caption>A data.frame: 1 × 7</caption>\n",
       "<thead>\n",
       "\t<tr><th></th><th scope=col>parameter</th><th scope=col>ROC</th><th scope=col>Sens</th><th scope=col>Spec</th><th scope=col>ROCSD</th><th scope=col>SensSD</th><th scope=col>SpecSD</th></tr>\n",
       "\t<tr><th></th><th scope=col>&lt;chr&gt;</th><th scope=col>&lt;dbl&gt;</th><th scope=col>&lt;dbl&gt;</th><th scope=col>&lt;dbl&gt;</th><th scope=col>&lt;dbl&gt;</th><th scope=col>&lt;dbl&gt;</th><th scope=col>&lt;dbl&gt;</th></tr>\n",
       "</thead>\n",
       "<tbody>\n",
       "\t<tr><th scope=row>1</th><td>none</td><td>0.6794941</td><td>0.5647005</td><td>0.6943374</td><td>0.01641107</td><td>0.01351154</td><td>0.03687951</td></tr>\n",
       "</tbody>\n",
       "</table>\n"
      ],
      "text/latex": [
       "A data.frame: 1 × 7\n",
       "\\begin{tabular}{r|lllllll}\n",
       "  & parameter & ROC & Sens & Spec & ROCSD & SensSD & SpecSD\\\\\n",
       "  & <chr> & <dbl> & <dbl> & <dbl> & <dbl> & <dbl> & <dbl>\\\\\n",
       "\\hline\n",
       "\t1 & none & 0.6794941 & 0.5647005 & 0.6943374 & 0.01641107 & 0.01351154 & 0.03687951\\\\\n",
       "\\end{tabular}\n"
      ],
      "text/markdown": [
       "\n",
       "A data.frame: 1 × 7\n",
       "\n",
       "| <!--/--> | parameter &lt;chr&gt; | ROC &lt;dbl&gt; | Sens &lt;dbl&gt; | Spec &lt;dbl&gt; | ROCSD &lt;dbl&gt; | SensSD &lt;dbl&gt; | SpecSD &lt;dbl&gt; |\n",
       "|---|---|---|---|---|---|---|---|\n",
       "| 1 | none | 0.6794941 | 0.5647005 | 0.6943374 | 0.01641107 | 0.01351154 | 0.03687951 |\n",
       "\n"
      ],
      "text/plain": [
       "  parameter ROC       Sens      Spec      ROCSD      SensSD     SpecSD    \n",
       "1 none      0.6794941 0.5647005 0.6943374 0.01641107 0.01351154 0.03687951"
      ]
     },
     "metadata": {},
     "output_type": "display_data"
    },
    {
     "name": "stderr",
     "output_type": "stream",
     "text": [
      "Warning message in train.default(x, y, weights = w, ...):\n",
      "“The metric \"Accuracy\" was not in the result set. ROC will be used instead.”\n"
     ]
    },
    {
     "data": {
      "text/html": [
       "<table class=\"dataframe\">\n",
       "<caption>A data.frame: 1 × 2</caption>\n",
       "<thead>\n",
       "\t<tr><th></th><th scope=col>alpha</th><th scope=col>lambda</th></tr>\n",
       "\t<tr><th></th><th scope=col>&lt;dbl&gt;</th><th scope=col>&lt;dbl&gt;</th></tr>\n",
       "</thead>\n",
       "<tbody>\n",
       "\t<tr><th scope=row>19</th><td>1</td><td>0.01</td></tr>\n",
       "</tbody>\n",
       "</table>\n"
      ],
      "text/latex": [
       "A data.frame: 1 × 2\n",
       "\\begin{tabular}{r|ll}\n",
       "  & alpha & lambda\\\\\n",
       "  & <dbl> & <dbl>\\\\\n",
       "\\hline\n",
       "\t19 & 1 & 0.01\\\\\n",
       "\\end{tabular}\n"
      ],
      "text/markdown": [
       "\n",
       "A data.frame: 1 × 2\n",
       "\n",
       "| <!--/--> | alpha &lt;dbl&gt; | lambda &lt;dbl&gt; |\n",
       "|---|---|---|\n",
       "| 19 | 1 | 0.01 |\n",
       "\n"
      ],
      "text/plain": [
       "   alpha lambda\n",
       "19 1     0.01  "
      ]
     },
     "metadata": {},
     "output_type": "display_data"
    },
    {
     "data": {
      "text/html": [
       "<table class=\"dataframe\">\n",
       "<caption>A data.frame: 1 × 8</caption>\n",
       "<thead>\n",
       "\t<tr><th></th><th scope=col>alpha</th><th scope=col>lambda</th><th scope=col>ROC</th><th scope=col>Sens</th><th scope=col>Spec</th><th scope=col>ROCSD</th><th scope=col>SensSD</th><th scope=col>SpecSD</th></tr>\n",
       "\t<tr><th></th><th scope=col>&lt;dbl&gt;</th><th scope=col>&lt;dbl&gt;</th><th scope=col>&lt;dbl&gt;</th><th scope=col>&lt;dbl&gt;</th><th scope=col>&lt;dbl&gt;</th><th scope=col>&lt;dbl&gt;</th><th scope=col>&lt;dbl&gt;</th><th scope=col>&lt;dbl&gt;</th></tr>\n",
       "</thead>\n",
       "<tbody>\n",
       "\t<tr><th scope=row>19</th><td>1</td><td>0.01</td><td>0.6811106</td><td>0.5432816</td><td>0.7076022</td><td>0.01661754</td><td>0.01880626</td><td>0.04255011</td></tr>\n",
       "</tbody>\n",
       "</table>\n"
      ],
      "text/latex": [
       "A data.frame: 1 × 8\n",
       "\\begin{tabular}{r|llllllll}\n",
       "  & alpha & lambda & ROC & Sens & Spec & ROCSD & SensSD & SpecSD\\\\\n",
       "  & <dbl> & <dbl> & <dbl> & <dbl> & <dbl> & <dbl> & <dbl> & <dbl>\\\\\n",
       "\\hline\n",
       "\t19 & 1 & 0.01 & 0.6811106 & 0.5432816 & 0.7076022 & 0.01661754 & 0.01880626 & 0.04255011\\\\\n",
       "\\end{tabular}\n"
      ],
      "text/markdown": [
       "\n",
       "A data.frame: 1 × 8\n",
       "\n",
       "| <!--/--> | alpha &lt;dbl&gt; | lambda &lt;dbl&gt; | ROC &lt;dbl&gt; | Sens &lt;dbl&gt; | Spec &lt;dbl&gt; | ROCSD &lt;dbl&gt; | SensSD &lt;dbl&gt; | SpecSD &lt;dbl&gt; |\n",
       "|---|---|---|---|---|---|---|---|---|\n",
       "| 19 | 1 | 0.01 | 0.6811106 | 0.5432816 | 0.7076022 | 0.01661754 | 0.01880626 | 0.04255011 |\n",
       "\n"
      ],
      "text/plain": [
       "   alpha lambda ROC       Sens      Spec      ROCSD      SensSD     SpecSD    \n",
       "19 1     0.01   0.6811106 0.5432816 0.7076022 0.01661754 0.01880626 0.04255011"
      ]
     },
     "metadata": {},
     "output_type": "display_data"
    },
    {
     "name": "stderr",
     "output_type": "stream",
     "text": [
      "Warning message in train.default(x, y, weights = w, ...):\n",
      "“The metric \"Accuracy\" was not in the result set. ROC will be used instead.”\n"
     ]
    },
    {
     "data": {
      "image/png": "[encoded data removed]",
      "text/plain": [
       "plot without title"
      ]
     },
     "metadata": {
      "image/png": {
       "height": 420,
       "width": 420
      }
     },
     "output_type": "display_data"
    },
    {
     "data": {
      "text/html": [
       "<table class=\"dataframe\">\n",
       "<caption>A data.frame: 1 × 1</caption>\n",
       "<thead>\n",
       "\t<tr><th></th><th scope=col>k</th></tr>\n",
       "\t<tr><th></th><th scope=col>&lt;int&gt;</th></tr>\n",
       "</thead>\n",
       "<tbody>\n",
       "\t<tr><th scope=row>38</th><td>38</td></tr>\n",
       "</tbody>\n",
       "</table>\n"
      ],
      "text/latex": [
       "A data.frame: 1 × 1\n",
       "\\begin{tabular}{r|l}\n",
       "  & k\\\\\n",
       "  & <int>\\\\\n",
       "\\hline\n",
       "\t38 & 38\\\\\n",
       "\\end{tabular}\n"
      ],
      "text/markdown": [
       "\n",
       "A data.frame: 1 × 1\n",
       "\n",
       "| <!--/--> | k &lt;int&gt; |\n",
       "|---|---|\n",
       "| 38 | 38 |\n",
       "\n"
      ],
      "text/plain": [
       "   k \n",
       "38 38"
      ]
     },
     "metadata": {},
     "output_type": "display_data"
    },
    {
     "data": {
      "text/html": [
       "<table class=\"dataframe\">\n",
       "<caption>A data.frame: 1 × 7</caption>\n",
       "<thead>\n",
       "\t<tr><th></th><th scope=col>k</th><th scope=col>ROC</th><th scope=col>Sens</th><th scope=col>Spec</th><th scope=col>ROCSD</th><th scope=col>SensSD</th><th scope=col>SpecSD</th></tr>\n",
       "\t<tr><th></th><th scope=col>&lt;int&gt;</th><th scope=col>&lt;dbl&gt;</th><th scope=col>&lt;dbl&gt;</th><th scope=col>&lt;dbl&gt;</th><th scope=col>&lt;dbl&gt;</th><th scope=col>&lt;dbl&gt;</th><th scope=col>&lt;dbl&gt;</th></tr>\n",
       "</thead>\n",
       "<tbody>\n",
       "\t<tr><th scope=row>38</th><td>38</td><td>0.6669619</td><td>0.5698214</td><td>0.6552642</td><td>0.0214089</td><td>0.03489371</td><td>0.04166973</td></tr>\n",
       "</tbody>\n",
       "</table>\n"
      ],
      "text/latex": [
       "A data.frame: 1 × 7\n",
       "\\begin{tabular}{r|lllllll}\n",
       "  & k & ROC & Sens & Spec & ROCSD & SensSD & SpecSD\\\\\n",
       "  & <int> & <dbl> & <dbl> & <dbl> & <dbl> & <dbl> & <dbl>\\\\\n",
       "\\hline\n",
       "\t38 & 38 & 0.6669619 & 0.5698214 & 0.6552642 & 0.0214089 & 0.03489371 & 0.04166973\\\\\n",
       "\\end{tabular}\n"
      ],
      "text/markdown": [
       "\n",
       "A data.frame: 1 × 7\n",
       "\n",
       "| <!--/--> | k &lt;int&gt; | ROC &lt;dbl&gt; | Sens &lt;dbl&gt; | Spec &lt;dbl&gt; | ROCSD &lt;dbl&gt; | SensSD &lt;dbl&gt; | SpecSD &lt;dbl&gt; |\n",
       "|---|---|---|---|---|---|---|---|\n",
       "| 38 | 38 | 0.6669619 | 0.5698214 | 0.6552642 | 0.0214089 | 0.03489371 | 0.04166973 |\n",
       "\n"
      ],
      "text/plain": [
       "   k  ROC       Sens      Spec      ROCSD     SensSD     SpecSD    \n",
       "38 38 0.6669619 0.5698214 0.6552642 0.0214089 0.03489371 0.04166973"
      ]
     },
     "metadata": {},
     "output_type": "display_data"
    },
    {
     "name": "stderr",
     "output_type": "stream",
     "text": [
      "Setting levels: control = No, case = Yes\n",
      "\n",
      "Setting direction: controls < cases\n",
      "\n"
     ]
    },
    {
     "data": {
      "text/plain": [
       "\n",
       "Call:\n",
       "roc.default(response = HOLDOUT$Buy, predictor = predict(REG,     newdata = HOLDOUT, type = \"prob\")$Yes)\n",
       "\n",
       "Data: predict(REG, newdata = HOLDOUT, type = \"prob\")$Yes in 635 controls (HOLDOUT$Buy No) < 765 cases (HOLDOUT$Buy Yes).\n",
       "Area under the curve: 0.6641"
      ]
     },
     "metadata": {},
     "output_type": "display_data"
    },
    {
     "name": "stderr",
     "output_type": "stream",
     "text": [
      "Setting levels: control = No, case = Yes\n",
      "\n",
      "Setting direction: controls < cases\n",
      "\n"
     ]
    },
    {
     "data": {
      "text/plain": [
       "\n",
       "Call:\n",
       "roc.default(response = HOLDOUT$Buy, predictor = predict(GLMnet,     newdata = HOLDOUT, type = \"prob\")$Yes)\n",
       "\n",
       "Data: predict(GLMnet, newdata = HOLDOUT, type = \"prob\")$Yes in 635 controls (HOLDOUT$Buy No) < 765 cases (HOLDOUT$Buy Yes).\n",
       "Area under the curve: 0.6649"
      ]
     },
     "metadata": {},
     "output_type": "display_data"
    },
    {
     "name": "stderr",
     "output_type": "stream",
     "text": [
      "Setting levels: control = No, case = Yes\n",
      "\n",
      "Setting direction: controls < cases\n",
      "\n"
     ]
    },
    {
     "data": {
      "text/plain": [
       "\n",
       "Call:\n",
       "roc.default(response = HOLDOUT$Buy, predictor = predict(KNN,     newdata = HOLDOUT, type = \"prob\")$Yes)\n",
       "\n",
       "Data: predict(KNN, newdata = HOLDOUT, type = \"prob\")$Yes in 635 controls (HOLDOUT$Buy No) < 765 cases (HOLDOUT$Buy Yes).\n",
       "Area under the curve: 0.6458"
      ]
     },
     "metadata": {},
     "output_type": "display_data"
    },
    {
     "data": {
      "image/png": "[encoded data removed]",
      "text/plain": [
       "plot without title"
      ]
     },
     "metadata": {
      "image/png": {
       "height": 420,
       "width": 420
      }
     },
     "output_type": "display_data"
    }
   ],
   "source": [
    "fitControl <- trainControl(method=\"cv\",number=5,classProbs=TRUE,summaryFunction=twoClassSummary)  #do AUC now\n",
    "set.seed(474); REG <- train(Buy~.,data=TRAIN,method='glm',\n",
    "                               trControl=fitControl,preProc=c(\"center\", \"scale\") )\n",
    "REG$results\n",
    "\n",
    "glmnetGrid <- expand.grid(alpha = seq(0,1,.5),lambda = 10^seq(-4,-1,by=.5))\n",
    "set.seed(474); GLMnet <- train(Buy~.,data=TRAIN,method='glmnet', tuneGrid=glmnetGrid,\n",
    "                               trControl=fitControl, preProc = c(\"center\", \"scale\"))\n",
    "plot(GLMnet)\n",
    "GLMnet$bestTune #Gives best parameters\n",
    "GLMnet$results[rownames(GLMnet$bestTune),]  #Just the row with the optimal choice of tuning parameter\n",
    "\n",
    "knnGrid <- expand.grid(k=1:40)\n",
    "set.seed(474); KNN <- train(Buy~.,data=TRAIN,method='knn', tuneGrid=knnGrid,\n",
    "                               trControl=fitControl, preProc = c(\"center\", \"scale\"))\n",
    "plot(KNN)\n",
    "KNN$bestTune #Gives best parameters\n",
    "KNN$results[rownames(KNN$bestTune),]  #Just the row with the optimal choice of tuning parameter\n",
    "\n",
    "roc(HOLDOUT$Buy,predict(REG,newdata=HOLDOUT,type=\"prob\")$Yes)\n",
    "roc(HOLDOUT$Buy,predict(GLMnet,newdata=HOLDOUT,type=\"prob\")$Yes)\n",
    "set.seed(474); roc(HOLDOUT$Buy,predict(KNN,newdata=HOLDOUT,type=\"prob\")$Yes)"
   ]
  },
  {
   "cell_type": "markdown",
   "metadata": {},
   "source": [
    "**Response:**  There's no signs of overfitting (where the AUC is more than 10% lower where expected).  The two logistic regression models happen to have the highest AUC on this holdout sample."
   ]
  }
 ],
 "metadata": {
  "Rmd_header": {
   "author": "Solution",
   "output": {
    "word_document": "default"
   },
   "title": "Basic models with caret"
  },
  "hide_input": false,
  "kernelspec": {
   "display_name": "R",
   "language": "R",
   "name": "ir"
  },
  "language_info": {
   "codemirror_mode": "r",
   "file_extension": ".r",
   "mimetype": "text/x-r-source",
   "name": "R",
   "pygments_lexer": "r",
   "version": "4.0.4"
  },
  "toc": {
   "base_numbering": 1,
   "nav_menu": {},
   "number_sections": true,
   "sideBar": true,
   "skip_h1_title": false,
   "title_cell": "Table of Contents",
   "title_sidebar": "Contents",
   "toc_cell": false,
   "toc_position": {},
   "toc_section_display": true,
   "toc_window_display": true
  },
  "varInspector": {
   "cols": {
    "lenName": 16,
    "lenType": 16,
    "lenVar": 40
   },
   "kernels_config": {
    "python": {
     "delete_cmd_postfix": "",
     "delete_cmd_prefix": "del ",
     "library": "var_list.py",
     "varRefreshCmd": "print(var_dic_list())"
    },
    "r": {
     "delete_cmd_postfix": ") ",
     "delete_cmd_prefix": "rm(",
     "library": "var_list.r",
     "varRefreshCmd": "cat(var_dic_list()) "
    }
   },
   "types_to_exclude": [
    "module",
    "function",
    "builtin_function_or_method",
    "instance",
    "_Feature"
   ],
   "window_display": false
  }
 },
 "nbformat": 4,
 "nbformat_minor": 4
}
