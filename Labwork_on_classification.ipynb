{
 "cells": [
  {
   "cell_type": "markdown",
   "metadata": {
    "toc": true
   },
   "source": [
    "<h1>Table of Contents<span class=\"tocSkip\"></span></h1>\n",
    "<div class=\"toc\"><ul class=\"toc-item\"><li><span><a href=\"#AUC\" data-toc-modified-id=\"AUC-1\"><span class=\"toc-item-num\">1&nbsp;&nbsp;</span>AUC</a></span></li><li><span><a href=\"#Basic-Classification\" data-toc-modified-id=\"Basic-Classification-2\"><span class=\"toc-item-num\">2&nbsp;&nbsp;</span>Basic Classification</a></span></li></ul></div>"
   ]
  },
  {
   "cell_type": "markdown",
   "metadata": {},
   "source": [
    "**Solution on Basic Classification Models**\n",
    "\n",
    "BAS 474\n",
    "\n",
    "Charles Liu"
   ]
  },
  {
   "cell_type": "code",
   "execution_count": null,
   "metadata": {
    "ExecuteTime": {
     "end_time": "2020-04-04T21:17:20.157401Z",
     "start_time": "2020-04-04T21:17:17.565Z"
    }
   },
   "outputs": [],
   "source": [
    "library(regclass)\n",
    "library(caret)\n",
    "library(pROC)"
   ]
  },
  {
   "cell_type": "markdown",
   "metadata": {},
   "source": [
    "# AUC\n",
    "\n",
    "The AUC (area under the ROC curve) is often used in business analytics to gauge the utility of a model because it tells us how well the model ranks probabilities.  If a company needs to select the \"500 customers most likely to ...\", then the higher the value of AUC, the better the model will be at coming up with a list.  \n",
    "\n",
    "The numerical value of the AUC can be interpreted as follows.  If a random member of the \"Yes\" class is selected along with a random member of the \"No\" class, and the model scores both of them, the AUC tells us the probability that the model would give a higher score to the member of the Yes class.\n",
    "\n",
    "In this problem you will write a function called `pairwise_auc` which takes two arguments:  `actual` (a vector of class labels) and `predicted` (a vector of scores or probabilities given by a model); no default values of the arguments.  \n",
    "\n",
    "Your function will systematically consider each pair of individuals (with one being from the \"Yes\" class and the other being from the \"No\" class) and find the fraction of pairs whose scores/probabilities are ranked correctly.  This fraction gives a good approximation to the AUC.\n",
    "\n",
    "As with all functions, it's best to build this up in pieces.  Let's work with the following definitions of `actual` and `predicted`."
   ]
  },
  {
   "cell_type": "code",
   "execution_count": 2,
   "metadata": {
    "ExecuteTime": {
     "end_time": "2020-04-04T21:17:20.407552Z",
     "start_time": "2020-04-04T21:17:17.677Z"
    }
   },
   "outputs": [
    {
     "data": {
      "text/html": [
       "<style>\n",
       ".list-inline {list-style: none; margin:0; padding: 0}\n",
       ".list-inline>li {display: inline-block}\n",
       ".list-inline>li:not(:last-child)::after {content: \"\\00b7\"; padding: 0 .5ex}\n",
       "</style>\n",
       "<ol class=list-inline><li>No</li><li>Yes</li><li>No</li><li>Yes</li><li>Yes</li><li>Yes</li><li>No</li><li>Yes</li><li>No</li><li>No</li><li>Yes</li><li>Yes</li><li>No</li><li>Yes</li><li>No</li><li>No</li></ol>\n",
       "\n",
       "<details>\n",
       "\t<summary style=display:list-item;cursor:pointer>\n",
       "\t\t<strong>Levels</strong>:\n",
       "\t</summary>\n",
       "\t<style>\n",
       "\t.list-inline {list-style: none; margin:0; padding: 0}\n",
       "\t.list-inline>li {display: inline-block}\n",
       "\t.list-inline>li:not(:last-child)::after {content: \"\\00b7\"; padding: 0 .5ex}\n",
       "\t</style>\n",
       "\t<ol class=list-inline><li>'No'</li><li>'Yes'</li></ol>\n",
       "</details>"
      ],
      "text/latex": [
       "\\begin{enumerate*}\n",
       "\\item No\n",
       "\\item Yes\n",
       "\\item No\n",
       "\\item Yes\n",
       "\\item Yes\n",
       "\\item Yes\n",
       "\\item No\n",
       "\\item Yes\n",
       "\\item No\n",
       "\\item No\n",
       "\\item Yes\n",
       "\\item Yes\n",
       "\\item No\n",
       "\\item Yes\n",
       "\\item No\n",
       "\\item No\n",
       "\\end{enumerate*}\n",
       "\n",
       "\\emph{Levels}: \\begin{enumerate*}\n",
       "\\item 'No'\n",
       "\\item 'Yes'\n",
       "\\end{enumerate*}\n"
      ],
      "text/markdown": [
       "1. No\n",
       "2. Yes\n",
       "3. No\n",
       "4. Yes\n",
       "5. Yes\n",
       "6. Yes\n",
       "7. No\n",
       "8. Yes\n",
       "9. No\n",
       "10. No\n",
       "11. Yes\n",
       "12. Yes\n",
       "13. No\n",
       "14. Yes\n",
       "15. No\n",
       "16. No\n",
       "\n",
       "\n",
       "\n",
       "**Levels**: 1. 'No'\n",
       "2. 'Yes'\n",
       "\n",
       "\n"
      ],
      "text/plain": [
       " [1] No  Yes No  Yes Yes Yes No  Yes No  No  Yes Yes No  Yes No  No \n",
       "Levels: No Yes"
      ]
     },
     "metadata": {},
     "output_type": "display_data"
    },
    {
     "data": {
      "text/html": [
       "<style>\n",
       ".list-inline {list-style: none; margin:0; padding: 0}\n",
       ".list-inline>li {display: inline-block}\n",
       ".list-inline>li:not(:last-child)::after {content: \"\\00b7\"; padding: 0 .5ex}\n",
       "</style>\n",
       "<ol class=list-inline><li>33.2275</li><li>68.8393</li><li>49.6622</li><li>29.7502</li><li>38.7359</li><li>92.8548</li><li>41.8691</li><li>52.6923</li><li>5.0535</li><li>70.1193</li><li>10.0717</li><li>32.7867</li><li>38.9003</li><li>60.7294</li><li>28.2518</li><li>53.5663</li></ol>\n"
      ],
      "text/latex": [
       "\\begin{enumerate*}\n",
       "\\item 33.2275\n",
       "\\item 68.8393\n",
       "\\item 49.6622\n",
       "\\item 29.7502\n",
       "\\item 38.7359\n",
       "\\item 92.8548\n",
       "\\item 41.8691\n",
       "\\item 52.6923\n",
       "\\item 5.0535\n",
       "\\item 70.1193\n",
       "\\item 10.0717\n",
       "\\item 32.7867\n",
       "\\item 38.9003\n",
       "\\item 60.7294\n",
       "\\item 28.2518\n",
       "\\item 53.5663\n",
       "\\end{enumerate*}\n"
      ],
      "text/markdown": [
       "1. 33.2275\n",
       "2. 68.8393\n",
       "3. 49.6622\n",
       "4. 29.7502\n",
       "5. 38.7359\n",
       "6. 92.8548\n",
       "7. 41.8691\n",
       "8. 52.6923\n",
       "9. 5.0535\n",
       "10. 70.1193\n",
       "11. 10.0717\n",
       "12. 32.7867\n",
       "13. 38.9003\n",
       "14. 60.7294\n",
       "15. 28.2518\n",
       "16. 53.5663\n",
       "\n",
       "\n"
      ],
      "text/plain": [
       " [1] 33.2275 68.8393 49.6622 29.7502 38.7359 92.8548 41.8691 52.6923  5.0535\n",
       "[10] 70.1193 10.0717 32.7867 38.9003 60.7294 28.2518 53.5663"
      ]
     },
     "metadata": {},
     "output_type": "display_data"
    }
   ],
   "source": [
    "set.seed(474); actual <- sample( factor( rep( c(\"Yes\",\"No\"), 8) ) )  #actual classes\n",
    "actual\n",
    "set.seed(474); predicted <- round( runif(16,1,100), digits=4 ) #random numbers between 1 and 100\n",
    "predicted"
   ]
  },
  {
   "cell_type": "markdown",
   "metadata": {
    "ExecuteTime": {
     "end_time": "2020-03-25T18:58:50.382683Z",
     "start_time": "2020-03-25T18:58:46.773Z"
    }
   },
   "source": [
    "a)  Make a dataframe called `VALUES` whose first column contains the elements of `actual` and whose second column contains the elements of `predicted` (the columns should be named \"actual\" and \"predicted\", respectively).  Include the results of running `head`."
   ]
  },
  {
   "cell_type": "code",
   "execution_count": 3,
   "metadata": {
    "ExecuteTime": {
     "end_time": "2020-04-04T21:17:20.487135Z",
     "start_time": "2020-04-04T21:17:17.771Z"
    }
   },
   "outputs": [
    {
     "data": {
      "text/html": [
       "<table>\n",
       "<caption>A data.frame: 3 × 2</caption>\n",
       "<thead>\n",
       "\t<tr><th></th><th scope=col>actual</th><th scope=col>predicted</th></tr>\n",
       "\t<tr><th></th><th scope=col>&lt;fct&gt;</th><th scope=col>&lt;dbl&gt;</th></tr>\n",
       "</thead>\n",
       "<tbody>\n",
       "\t<tr><th scope=row>1</th><td>No </td><td>33.2275</td></tr>\n",
       "\t<tr><th scope=row>2</th><td>Yes</td><td>68.8393</td></tr>\n",
       "\t<tr><th scope=row>3</th><td>No </td><td>49.6622</td></tr>\n",
       "</tbody>\n",
       "</table>\n"
      ],
      "text/latex": [
       "A data.frame: 3 × 2\n",
       "\\begin{tabular}{r|ll}\n",
       "  & actual & predicted\\\\\n",
       "  & <fct> & <dbl>\\\\\n",
       "\\hline\n",
       "\t1 & No  & 33.2275\\\\\n",
       "\t2 & Yes & 68.8393\\\\\n",
       "\t3 & No  & 49.6622\\\\\n",
       "\\end{tabular}\n"
      ],
      "text/markdown": [
       "\n",
       "A data.frame: 3 × 2\n",
       "\n",
       "| <!--/--> | actual &lt;fct&gt; | predicted &lt;dbl&gt; |\n",
       "|---|---|---|\n",
       "| 1 | No  | 33.2275 |\n",
       "| 2 | Yes | 68.8393 |\n",
       "| 3 | No  | 49.6622 |\n",
       "\n"
      ],
      "text/plain": [
       "  actual predicted\n",
       "1 No     33.2275  \n",
       "2 Yes    68.8393  \n",
       "3 No     49.6622  "
      ]
     },
     "metadata": {},
     "output_type": "display_data"
    }
   ],
   "source": [
    "VALUES <- data.frame(actual,predicted)\n",
    "head(VALUES,3)"
   ]
  },
  {
   "cell_type": "markdown",
   "metadata": {
    "ExecuteTime": {
     "end_time": "2020-03-25T18:58:51.684610Z",
     "start_time": "2020-03-25T18:58:46.820Z"
    }
   },
   "source": [
    "b)  Make two new dataframes:  `YES` and `NO` which contain the rows in `VALUES` corresponding to \"Yes\" class and which contain the rows in `VALUES` corresponding to the \"No\" class, respectively.  Include the output of the two `head` commands."
   ]
  },
  {
   "cell_type": "code",
   "execution_count": 4,
   "metadata": {
    "ExecuteTime": {
     "end_time": "2020-04-04T21:17:20.529490Z",
     "start_time": "2020-04-04T21:17:17.859Z"
    }
   },
   "outputs": [
    {
     "data": {
      "text/html": [
       "<table>\n",
       "<caption>A data.frame: 3 × 2</caption>\n",
       "<thead>\n",
       "\t<tr><th></th><th scope=col>actual</th><th scope=col>predicted</th></tr>\n",
       "\t<tr><th></th><th scope=col>&lt;fct&gt;</th><th scope=col>&lt;dbl&gt;</th></tr>\n",
       "</thead>\n",
       "<tbody>\n",
       "\t<tr><th scope=row>2</th><td>Yes</td><td>68.8393</td></tr>\n",
       "\t<tr><th scope=row>4</th><td>Yes</td><td>29.7502</td></tr>\n",
       "\t<tr><th scope=row>5</th><td>Yes</td><td>38.7359</td></tr>\n",
       "</tbody>\n",
       "</table>\n"
      ],
      "text/latex": [
       "A data.frame: 3 × 2\n",
       "\\begin{tabular}{r|ll}\n",
       "  & actual & predicted\\\\\n",
       "  & <fct> & <dbl>\\\\\n",
       "\\hline\n",
       "\t2 & Yes & 68.8393\\\\\n",
       "\t4 & Yes & 29.7502\\\\\n",
       "\t5 & Yes & 38.7359\\\\\n",
       "\\end{tabular}\n"
      ],
      "text/markdown": [
       "\n",
       "A data.frame: 3 × 2\n",
       "\n",
       "| <!--/--> | actual &lt;fct&gt; | predicted &lt;dbl&gt; |\n",
       "|---|---|---|\n",
       "| 2 | Yes | 68.8393 |\n",
       "| 4 | Yes | 29.7502 |\n",
       "| 5 | Yes | 38.7359 |\n",
       "\n"
      ],
      "text/plain": [
       "  actual predicted\n",
       "2 Yes    68.8393  \n",
       "4 Yes    29.7502  \n",
       "5 Yes    38.7359  "
      ]
     },
     "metadata": {},
     "output_type": "display_data"
    },
    {
     "data": {
      "text/html": [
       "<table>\n",
       "<caption>A data.frame: 3 × 2</caption>\n",
       "<thead>\n",
       "\t<tr><th></th><th scope=col>actual</th><th scope=col>predicted</th></tr>\n",
       "\t<tr><th></th><th scope=col>&lt;fct&gt;</th><th scope=col>&lt;dbl&gt;</th></tr>\n",
       "</thead>\n",
       "<tbody>\n",
       "\t<tr><th scope=row>1</th><td>No</td><td>33.2275</td></tr>\n",
       "\t<tr><th scope=row>3</th><td>No</td><td>49.6622</td></tr>\n",
       "\t<tr><th scope=row>7</th><td>No</td><td>41.8691</td></tr>\n",
       "</tbody>\n",
       "</table>\n"
      ],
      "text/latex": [
       "A data.frame: 3 × 2\n",
       "\\begin{tabular}{r|ll}\n",
       "  & actual & predicted\\\\\n",
       "  & <fct> & <dbl>\\\\\n",
       "\\hline\n",
       "\t1 & No & 33.2275\\\\\n",
       "\t3 & No & 49.6622\\\\\n",
       "\t7 & No & 41.8691\\\\\n",
       "\\end{tabular}\n"
      ],
      "text/markdown": [
       "\n",
       "A data.frame: 3 × 2\n",
       "\n",
       "| <!--/--> | actual &lt;fct&gt; | predicted &lt;dbl&gt; |\n",
       "|---|---|---|\n",
       "| 1 | No | 33.2275 |\n",
       "| 3 | No | 49.6622 |\n",
       "| 7 | No | 41.8691 |\n",
       "\n"
      ],
      "text/plain": [
       "  actual predicted\n",
       "1 No     33.2275  \n",
       "3 No     49.6622  \n",
       "7 No     41.8691  "
      ]
     },
     "metadata": {},
     "output_type": "display_data"
    }
   ],
   "source": [
    "YES <- subset(VALUES, actual==\"Yes\")\n",
    "NO <- subset(VALUES, actual!=\"Yes\")\n",
    "head(YES,3)\n",
    "head(NO,3)"
   ]
  },
  {
   "cell_type": "markdown",
   "metadata": {
    "ExecuteTime": {
     "end_time": "2020-03-25T18:58:55.727922Z",
     "start_time": "2020-03-25T18:58:46.870Z"
    }
   },
   "source": [
    "c)  Consider the score in the first row of `YES`.  By taking the `mean` of a logical condition, find the fraction of scores in `NO` that are smaller than this score and left-arrow it into a variable called `p.correctrank`.  Print the contents of `p.correctrank` to the screen."
   ]
  },
  {
   "cell_type": "code",
   "execution_count": 5,
   "metadata": {
    "ExecuteTime": {
     "end_time": "2020-04-04T21:17:20.555102Z",
     "start_time": "2020-04-04T21:17:17.976Z"
    }
   },
   "outputs": [
    {
     "data": {
      "text/html": [
       "0.875"
      ],
      "text/latex": [
       "0.875"
      ],
      "text/markdown": [
       "0.875"
      ],
      "text/plain": [
       "[1] 0.875"
      ]
     },
     "metadata": {},
     "output_type": "display_data"
    }
   ],
   "source": [
    "p.correctrank <- mean( YES$predicted[1] > NO$predicted )\n",
    "p.correctrank"
   ]
  },
  {
   "cell_type": "markdown",
   "metadata": {},
   "source": [
    "d)  Now write a `for` loop that does this for each score in `YES`.  In other words, define `p.correctrank` to be an empty vector, then write a `for` loop that defines the first element of `p.correctrank` to be the fraction of scores in `NO` that are smaller than the score in the first row of `YES`, defines the second element of `p.correctrank` to be the fraction of scores in `NO` that are smaller than the score in the second row of `YES`, etc.   Print out the 8 elements of `p.correctrank` to the screen."
   ]
  },
  {
   "cell_type": "code",
   "execution_count": 6,
   "metadata": {
    "ExecuteTime": {
     "end_time": "2020-04-04T21:17:20.589058Z",
     "start_time": "2020-04-04T21:17:18.068Z"
    }
   },
   "outputs": [
    {
     "data": {
      "text/html": [
       "<style>\n",
       ".list-inline {list-style: none; margin:0; padding: 0}\n",
       ".list-inline>li {display: inline-block}\n",
       ".list-inline>li:not(:last-child)::after {content: \"\\00b7\"; padding: 0 .5ex}\n",
       "</style>\n",
       "<ol class=list-inline><li>0.875</li><li>0.25</li><li>0.375</li><li>1</li><li>0.75</li><li>0.125</li><li>0.25</li><li>0.875</li></ol>\n"
      ],
      "text/latex": [
       "\\begin{enumerate*}\n",
       "\\item 0.875\n",
       "\\item 0.25\n",
       "\\item 0.375\n",
       "\\item 1\n",
       "\\item 0.75\n",
       "\\item 0.125\n",
       "\\item 0.25\n",
       "\\item 0.875\n",
       "\\end{enumerate*}\n"
      ],
      "text/markdown": [
       "1. 0.875\n",
       "2. 0.25\n",
       "3. 0.375\n",
       "4. 1\n",
       "5. 0.75\n",
       "6. 0.125\n",
       "7. 0.25\n",
       "8. 0.875\n",
       "\n",
       "\n"
      ],
      "text/plain": [
       "[1] 0.875 0.250 0.375 1.000 0.750 0.125 0.250 0.875"
      ]
     },
     "metadata": {},
     "output_type": "display_data"
    }
   ],
   "source": [
    "p.correctrank <- c()\n",
    "for (i in 1:nrow(YES)) {\n",
    "  p.correctrank[i] <- mean( YES$predicted[i] > NO$predicted )\n",
    "}\n",
    "p.correctrank"
   ]
  },
  {
   "cell_type": "markdown",
   "metadata": {
    "ExecuteTime": {
     "end_time": "2020-03-25T18:58:57.978929Z",
     "start_time": "2020-03-25T18:58:46.922Z"
    }
   },
   "source": [
    "e)  Left-arrow into `AUC` the average of the values in `p.correctrank`.  The average of this vector gives the overall fraction of pairs of individuals who scores are ranked correctly, so it gives a good approximation to the AUC.  Print the contents out to the screen and verify it equals 0.671875."
   ]
  },
  {
   "cell_type": "code",
   "execution_count": 7,
   "metadata": {
    "ExecuteTime": {
     "end_time": "2020-04-04T21:17:20.614746Z",
     "start_time": "2020-04-04T21:17:18.162Z"
    }
   },
   "outputs": [
    {
     "data": {
      "text/html": [
       "0.5625"
      ],
      "text/latex": [
       "0.5625"
      ],
      "text/markdown": [
       "0.5625"
      ],
      "text/plain": [
       "[1] 0.5625"
      ]
     },
     "metadata": {},
     "output_type": "display_data"
    }
   ],
   "source": [
    "AUC <- mean(p.correctrank)\n",
    "AUC"
   ]
  },
  {
   "cell_type": "markdown",
   "metadata": {},
   "source": [
    "f)  Now modify your code so that it works inside the function  `pairwise_auc`.  Remember that the two arguments will be the vectors `actual` and `predicted` (you can assume that `actual` will always contain \"Yes\" and \"No\" and `predicted` will be a vector of numbers).  Make sure you `return` the value of the AUC!  \n",
    "\n",
    "Test your function on the vectors `scores.for.individuals` and `actual.classes` defined by the code below (probabilities/classes for wine quality).  You should find an answer close to 0.858.  Note:  the `roc` function we have been using to calculate the areas under the ROC curve proceeds in a different way to estimate the AUC, so its value can be quite different (as it is for this example)."
   ]
  },
  {
   "cell_type": "code",
   "execution_count": 8,
   "metadata": {
    "ExecuteTime": {
     "end_time": "2020-04-04T21:17:21.274572Z",
     "start_time": "2020-04-04T21:17:18.256Z"
    }
   },
   "outputs": [
    {
     "data": {
      "text/html": [
       "0.896726300046019"
      ],
      "text/latex": [
       "0.896726300046019"
      ],
      "text/markdown": [
       "0.896726300046019"
      ],
      "text/plain": [
       "[1] 0.8967263"
      ]
     },
     "metadata": {},
     "output_type": "display_data"
    },
    {
     "name": "stderr",
     "output_type": "stream",
     "text": [
      "Setting direction: controls < cases\n",
      "\n"
     ]
    },
    {
     "data": {
      "text/plain": [
       "\n",
       "Call:\n",
       "roc.default(response = WINE$Quality, predictor = predicted, levels = c(\"low\",     \"high\"))\n",
       "\n",
       "Data: predicted in 1640 controls (WINE$Quality low) < 1060 cases (WINE$Quality high).\n",
       "Area under the curve: 0.8967"
      ]
     },
     "metadata": {},
     "output_type": "display_data"
    }
   ],
   "source": [
    "pairwise_auc <- function(actual, predicted, positive='Yes') {\n",
    "  VALUES <- data.frame(actual,predicted)\n",
    "  YES <- subset(VALUES,actual==positive)\n",
    "  NO <- subset(VALUES,actual!=positive)\n",
    "  p.correctrank <- c()\n",
    "  for (i in 1:nrow(YES)) {\n",
    "    p.correctrank[i] <- mean( YES$predicted[i] > NO$predicted )\n",
    "  }\n",
    "  AUC <- mean(p.correctrank)\n",
    "  return(AUC)\n",
    "}\n",
    "\n",
    "data(WINE)\n",
    "set.seed(474)\n",
    "MODEL <- train(Quality~.,data=WINE,method=\"glm\",\n",
    "              trControl=trainControl(method=\"none\",classProbs=TRUE))\n",
    "predicted <- predict(MODEL,newdata=WINE,type=\"prob\")[,'high']\n",
    "pairwise_auc(WINE$Quality, predicted, 'high')\n",
    "\n",
    "#AUC estimated by `roc` uses a slightly different procedure\n",
    "roc(WINE$Quality, predicted, levels = c('low', 'high'))"
   ]
  },
  {
   "cell_type": "markdown",
   "metadata": {},
   "source": [
    "# Basic Classification\n",
    "\n",
    "This part is from the lecture slides, with minor changes. Please read the slides for background introduction and follow the instructions here to answer the questions.\n",
    "\n",
    "a) First we will load the data set."
   ]
  },
  {
   "cell_type": "code",
   "execution_count": 9,
   "metadata": {
    "ExecuteTime": {
     "end_time": "2020-04-04T21:17:21.303793Z",
     "start_time": "2020-04-04T21:17:18.342Z"
    }
   },
   "outputs": [
    {
     "data": {
      "text/html": [
       "<style>\n",
       ".list-inline {list-style: none; margin:0; padding: 0}\n",
       ".list-inline>li {display: inline-block}\n",
       ".list-inline>li:not(:last-child)::after {content: \"\\00b7\"; padding: 0 .5ex}\n",
       "</style>\n",
       "<ol class=list-inline><li>392</li><li>8</li></ol>\n"
      ],
      "text/latex": [
       "\\begin{enumerate*}\n",
       "\\item 392\n",
       "\\item 8\n",
       "\\end{enumerate*}\n"
      ],
      "text/markdown": [
       "1. 392\n",
       "2. 8\n",
       "\n",
       "\n"
      ],
      "text/plain": [
       "[1] 392   8"
      ]
     },
     "metadata": {},
     "output_type": "display_data"
    }
   ],
   "source": [
    "data(PIMA)\n",
    "dim(PIMA)"
   ]
  },
  {
   "cell_type": "markdown",
   "metadata": {},
   "source": [
    "b) Using 80% of the data for modeling and 20% for holdout validation, please creat the TRAIN and HODOUT data sets."
   ]
  },
  {
   "cell_type": "code",
   "execution_count": 10,
   "metadata": {
    "ExecuteTime": {
     "end_time": "2020-04-04T21:17:21.341119Z",
     "start_time": "2020-04-04T21:17:18.432Z"
    }
   },
   "outputs": [
    {
     "data": {
      "text/html": [
       "0.329073482428115"
      ],
      "text/latex": [
       "0.329073482428115"
      ],
      "text/markdown": [
       "0.329073482428115"
      ],
      "text/plain": [
       "[1] 0.3290735"
      ]
     },
     "metadata": {},
     "output_type": "display_data"
    },
    {
     "data": {
      "text/html": [
       "0.341772151898734"
      ],
      "text/latex": [
       "0.341772151898734"
      ],
      "text/markdown": [
       "0.341772151898734"
      ],
      "text/plain": [
       "[1] 0.3417722"
      ]
     },
     "metadata": {},
     "output_type": "display_data"
    }
   ],
   "source": [
    "set.seed(747)\n",
    "train.rows <- sample(1:nrow(PIMA), 0.8*nrow(PIMA))\n",
    "TRAIN <- PIMA[train.rows,]\n",
    "HOLDOUT <- PIMA[-train.rows,]\n",
    "\n",
    "mean(TRAIN$Diabetes=='Yes')\n",
    "mean(HOLDOUT$Diabetes=='Yes')"
   ]
  },
  {
   "cell_type": "markdown",
   "metadata": {},
   "source": [
    "c) Using 3-fold cross validation, please report the accuracy of the cross-validation to predict the variable `Diabetes`."
   ]
  },
  {
   "cell_type": "code",
   "execution_count": 11,
   "metadata": {
    "ExecuteTime": {
     "end_time": "2020-04-04T21:17:22.076947Z",
     "start_time": "2020-04-04T21:17:18.514Z"
    }
   },
   "outputs": [
    {
     "data": {
      "text/plain": [
       "\n",
       "Call:\n",
       "NULL\n",
       "\n",
       "Deviance Residuals: \n",
       "    Min       1Q   Median       3Q      Max  \n",
       "-2.0550  -0.6550  -0.3553   0.6741   2.5182  \n",
       "\n",
       "Coefficients:\n",
       "               Estimate Std. Error z value Pr(>|z|)    \n",
       "(Intercept)   -9.818700   1.320785  -7.434 1.05e-13 ***\n",
       "Pregnant       0.102444   0.059539   1.721   0.0853 .  \n",
       "Glucose        0.041037   0.006548   6.267 3.68e-10 ***\n",
       "BloodPressure  0.001041   0.013491   0.077   0.9385    \n",
       "BodyFat        0.026565   0.019192   1.384   0.1663    \n",
       "Insulin       -0.001046   0.001430  -0.731   0.4647    \n",
       "BMI            0.054946   0.030425   1.806   0.0709 .  \n",
       "Age            0.025737   0.019549   1.317   0.1880    \n",
       "---\n",
       "Signif. codes:  0 ‘***’ 0.001 ‘**’ 0.01 ‘*’ 0.05 ‘.’ 0.1 ‘ ’ 1\n",
       "\n",
       "(Dispersion parameter for binomial family taken to be 1)\n",
       "\n",
       "    Null deviance: 396.58  on 312  degrees of freedom\n",
       "Residual deviance: 274.79  on 305  degrees of freedom\n",
       "AIC: 290.79\n",
       "\n",
       "Number of Fisher Scoring iterations: 5\n"
      ]
     },
     "metadata": {},
     "output_type": "display_data"
    },
    {
     "data": {
      "text/html": [
       "<table>\n",
       "<caption>A data.frame: 1 × 5</caption>\n",
       "<thead>\n",
       "\t<tr><th></th><th scope=col>parameter</th><th scope=col>Accuracy</th><th scope=col>Kappa</th><th scope=col>AccuracySD</th><th scope=col>KappaSD</th></tr>\n",
       "\t<tr><th></th><th scope=col>&lt;fct&gt;</th><th scope=col>&lt;dbl&gt;</th><th scope=col>&lt;dbl&gt;</th><th scope=col>&lt;dbl&gt;</th><th scope=col>&lt;dbl&gt;</th></tr>\n",
       "</thead>\n",
       "<tbody>\n",
       "\t<tr><th scope=row>1</th><td>none</td><td>0.7731685</td><td>0.459729</td><td>0.02408564</td><td>0.06948415</td></tr>\n",
       "</tbody>\n",
       "</table>\n"
      ],
      "text/latex": [
       "A data.frame: 1 × 5\n",
       "\\begin{tabular}{r|lllll}\n",
       "  & parameter & Accuracy & Kappa & AccuracySD & KappaSD\\\\\n",
       "  & <fct> & <dbl> & <dbl> & <dbl> & <dbl>\\\\\n",
       "\\hline\n",
       "\t1 & none & 0.7731685 & 0.459729 & 0.02408564 & 0.06948415\\\\\n",
       "\\end{tabular}\n"
      ],
      "text/markdown": [
       "\n",
       "A data.frame: 1 × 5\n",
       "\n",
       "| <!--/--> | parameter &lt;fct&gt; | Accuracy &lt;dbl&gt; | Kappa &lt;dbl&gt; | AccuracySD &lt;dbl&gt; | KappaSD &lt;dbl&gt; |\n",
       "|---|---|---|---|---|---|\n",
       "| 1 | none | 0.7731685 | 0.459729 | 0.02408564 | 0.06948415 |\n",
       "\n"
      ],
      "text/plain": [
       "  parameter Accuracy  Kappa    AccuracySD KappaSD   \n",
       "1 none      0.7731685 0.459729 0.02408564 0.06948415"
      ]
     },
     "metadata": {},
     "output_type": "display_data"
    }
   ],
   "source": [
    "set.seed(474)\n",
    "fitControl <- trainControl(method=\"cv\",number=3, classProbs=TRUE)\n",
    "MODEL <- train(Diabetes~.,data=TRAIN, method=\"glm\", trControl=fitControl)\n",
    "summary(MODEL)\n",
    "MODEL$results"
   ]
  },
  {
   "cell_type": "markdown",
   "metadata": {},
   "source": [
    "d) Repeat the cross-validation but plot the roc curve and report its auc."
   ]
  },
  {
   "cell_type": "code",
   "execution_count": 12,
   "metadata": {
    "ExecuteTime": {
     "end_time": "2020-04-04T21:17:22.854978Z",
     "start_time": "2020-04-04T21:17:18.607Z"
    }
   },
   "outputs": [
    {
     "name": "stderr",
     "output_type": "stream",
     "text": [
      "Warning message in train.default(x, y, weights = w, ...):\n",
      "“The metric \"Accuracy\" was not in the result set. ROC will be used instead.”\n"
     ]
    },
    {
     "data": {
      "text/plain": [
       "\n",
       "Call:\n",
       "NULL\n",
       "\n",
       "Deviance Residuals: \n",
       "    Min       1Q   Median       3Q      Max  \n",
       "-2.0550  -0.6550  -0.3553   0.6741   2.5182  \n",
       "\n",
       "Coefficients:\n",
       "               Estimate Std. Error z value Pr(>|z|)    \n",
       "(Intercept)   -9.818700   1.320785  -7.434 1.05e-13 ***\n",
       "Pregnant       0.102444   0.059539   1.721   0.0853 .  \n",
       "Glucose        0.041037   0.006548   6.267 3.68e-10 ***\n",
       "BloodPressure  0.001041   0.013491   0.077   0.9385    \n",
       "BodyFat        0.026565   0.019192   1.384   0.1663    \n",
       "Insulin       -0.001046   0.001430  -0.731   0.4647    \n",
       "BMI            0.054946   0.030425   1.806   0.0709 .  \n",
       "Age            0.025737   0.019549   1.317   0.1880    \n",
       "---\n",
       "Signif. codes:  0 ‘***’ 0.001 ‘**’ 0.01 ‘*’ 0.05 ‘.’ 0.1 ‘ ’ 1\n",
       "\n",
       "(Dispersion parameter for binomial family taken to be 1)\n",
       "\n",
       "    Null deviance: 396.58  on 312  degrees of freedom\n",
       "Residual deviance: 274.79  on 305  degrees of freedom\n",
       "AIC: 290.79\n",
       "\n",
       "Number of Fisher Scoring iterations: 5\n"
      ]
     },
     "metadata": {},
     "output_type": "display_data"
    },
    {
     "data": {
      "text/html": [
       "<table>\n",
       "<caption>A data.frame: 1 × 7</caption>\n",
       "<thead>\n",
       "\t<tr><th></th><th scope=col>parameter</th><th scope=col>ROC</th><th scope=col>Sens</th><th scope=col>Spec</th><th scope=col>ROCSD</th><th scope=col>SensSD</th><th scope=col>SpecSD</th></tr>\n",
       "\t<tr><th></th><th scope=col>&lt;fct&gt;</th><th scope=col>&lt;dbl&gt;</th><th scope=col>&lt;dbl&gt;</th><th scope=col>&lt;dbl&gt;</th><th scope=col>&lt;dbl&gt;</th><th scope=col>&lt;dbl&gt;</th><th scope=col>&lt;dbl&gt;</th></tr>\n",
       "</thead>\n",
       "<tbody>\n",
       "\t<tr><th scope=row>1</th><td>none</td><td>0.8412805</td><td>0.8761905</td><td>0.5627451</td><td>0.02599561</td><td>0.01649572</td><td>0.08029645</td></tr>\n",
       "</tbody>\n",
       "</table>\n"
      ],
      "text/latex": [
       "A data.frame: 1 × 7\n",
       "\\begin{tabular}{r|lllllll}\n",
       "  & parameter & ROC & Sens & Spec & ROCSD & SensSD & SpecSD\\\\\n",
       "  & <fct> & <dbl> & <dbl> & <dbl> & <dbl> & <dbl> & <dbl>\\\\\n",
       "\\hline\n",
       "\t1 & none & 0.8412805 & 0.8761905 & 0.5627451 & 0.02599561 & 0.01649572 & 0.08029645\\\\\n",
       "\\end{tabular}\n"
      ],
      "text/markdown": [
       "\n",
       "A data.frame: 1 × 7\n",
       "\n",
       "| <!--/--> | parameter &lt;fct&gt; | ROC &lt;dbl&gt; | Sens &lt;dbl&gt; | Spec &lt;dbl&gt; | ROCSD &lt;dbl&gt; | SensSD &lt;dbl&gt; | SpecSD &lt;dbl&gt; |\n",
       "|---|---|---|---|---|---|---|---|\n",
       "| 1 | none | 0.8412805 | 0.8761905 | 0.5627451 | 0.02599561 | 0.01649572 | 0.08029645 |\n",
       "\n"
      ],
      "text/plain": [
       "  parameter ROC       Sens      Spec      ROCSD      SensSD     SpecSD    \n",
       "1 none      0.8412805 0.8761905 0.5627451 0.02599561 0.01649572 0.08029645"
      ]
     },
     "metadata": {},
     "output_type": "display_data"
    }
   ],
   "source": [
    "set.seed(474)\n",
    "fitControl <- trainControl(method=\"cv\",number=3, classProbs=TRUE, summaryFunction=twoClassSummary)\n",
    "MODEL <- train(Diabetes~.,data=TRAIN, method=\"glm\", trControl=fitControl)\n",
    "summary(MODEL)\n",
    "MODEL$results"
   ]
  },
  {
   "cell_type": "code",
   "execution_count": 13,
   "metadata": {
    "ExecuteTime": {
     "end_time": "2020-04-04T21:17:22.951707Z",
     "start_time": "2020-04-04T21:17:18.609Z"
    }
   },
   "outputs": [
    {
     "name": "stderr",
     "output_type": "stream",
     "text": [
      "Setting levels: control = No, case = Yes\n",
      "\n",
      "Setting direction: controls < cases\n",
      "\n"
     ]
    },
    {
     "data": {
      "image/png": "[encoded data removed]",
      "text/plain": [
       "plot without title"
      ]
     },
     "metadata": {
      "image/png": {
       "height": 420,
       "width": 420
      },
      "text/plain": {
       "height": 420,
       "width": 420
      }
     },
     "output_type": "display_data"
    }
   ],
   "source": [
    "#To plot the roc curve on the training data:\n",
    "ACTUAL <- TRAIN$Diabetes\n",
    "PROB <- predict(MODEL, newdata=TRAIN, type=\"prob\")$Yes\n",
    "roc.train <- roc(ACTUAL, PROB)\n",
    "plot( roc.train, xlab=\"True Negative Rate\", ylab=\"True Positive Rate\", xlim=c(1,0), ylim=c(0,1) )"
   ]
  },
  {
   "cell_type": "markdown",
   "metadata": {},
   "source": [
    "e) Please report the holdout performance of the model in terms of accuracy and auc."
   ]
  },
  {
   "cell_type": "code",
   "execution_count": 14,
   "metadata": {
    "ExecuteTime": {
     "end_time": "2020-04-04T21:17:23.025142Z",
     "start_time": "2020-04-04T21:17:18.696Z"
    }
   },
   "outputs": [
    {
     "data": {
      "text/plain": [
       "Confusion Matrix and Statistics\n",
       "\n",
       "          Reference\n",
       "Prediction No Yes\n",
       "       No  48  15\n",
       "       Yes  4  12\n",
       "                                          \n",
       "               Accuracy : 0.7595          \n",
       "                 95% CI : (0.6502, 0.8486)\n",
       "    No Information Rate : 0.6582          \n",
       "    P-Value [Acc > NIR] : 0.03491         \n",
       "                                          \n",
       "                  Kappa : 0.4074          \n",
       "                                          \n",
       " Mcnemar's Test P-Value : 0.02178         \n",
       "                                          \n",
       "            Sensitivity : 0.4444          \n",
       "            Specificity : 0.9231          \n",
       "         Pos Pred Value : 0.7500          \n",
       "         Neg Pred Value : 0.7619          \n",
       "             Prevalence : 0.3418          \n",
       "         Detection Rate : 0.1519          \n",
       "   Detection Prevalence : 0.2025          \n",
       "      Balanced Accuracy : 0.6838          \n",
       "                                          \n",
       "       'Positive' Class : Yes             \n",
       "                                          "
      ]
     },
     "metadata": {},
     "output_type": "display_data"
    },
    {
     "data": {
      "text/html": [
       "<style>\n",
       ".dl-inline {width: auto; margin:0; padding: 0}\n",
       ".dl-inline>dt, .dl-inline>dd {float: none; width: auto; display: inline-block}\n",
       ".dl-inline>dt::after {content: \":\\0020\"; padding-right: .5ex}\n",
       ".dl-inline>dt:not(:first-of-type) {padding-left: .5ex}\n",
       "</style><dl class=dl-inline><dt>Accuracy</dt><dd>0.759493670886076</dd><dt>Kappa</dt><dd>0.40742202921437</dd></dl>\n"
      ],
      "text/latex": [
       "\\begin{description*}\n",
       "\\item[Accuracy] 0.759493670886076\n",
       "\\item[Kappa] 0.40742202921437\n",
       "\\end{description*}\n"
      ],
      "text/markdown": [
       "Accuracy\n",
       ":   0.759493670886076Kappa\n",
       ":   0.40742202921437\n",
       "\n"
      ],
      "text/plain": [
       " Accuracy     Kappa \n",
       "0.7594937 0.4074220 "
      ]
     },
     "metadata": {},
     "output_type": "display_data"
    },
    {
     "name": "stderr",
     "output_type": "stream",
     "text": [
      "Setting levels: control = No, case = Yes\n",
      "\n",
      "Setting direction: controls < cases\n",
      "\n"
     ]
    },
    {
     "data": {
      "text/plain": [
       "\n",
       "Call:\n",
       "roc.default(response = ACTUAL, predictor = PROBS$Yes)\n",
       "\n",
       "Data: PROBS$Yes in 52 controls (ACTUAL No) < 27 cases (ACTUAL Yes).\n",
       "Area under the curve: 0.8355"
      ]
     },
     "metadata": {},
     "output_type": "display_data"
    }
   ],
   "source": [
    "ACTUAL <- HOLDOUT$Diabetes\n",
    "PROBS <- predict(MODEL, newdata=HOLDOUT, type=\"prob\")\n",
    "PREDICTIONS <- as.factor(names(PROBS)[max.col(PROBS)])\n",
    "confusionMatrix(PREDICTIONS, ACTUAL, positive='Yes')\n",
    "postResample(PREDICTIONS, ACTUAL)\n",
    "roc(ACTUAL, PROBS$Yes)"
   ]
  }
 ],
 "metadata": {
  "hide_input": false,
  "kernelspec": {
   "display_name": "R",
   "language": "R",
   "name": "ir"
  },
  "language_info": {
   "codemirror_mode": "r",
   "file_extension": ".r",
   "mimetype": "text/x-r-source",
   "name": "R",
   "pygments_lexer": "r",
   "version": "3.6.3"
  },
  "toc": {
   "base_numbering": 1,
   "nav_menu": {
    "height": "157.997px",
    "width": "201.989px"
   },
   "number_sections": true,
   "sideBar": false,
   "skip_h1_title": false,
   "title_cell": "Table of Contents",
   "title_sidebar": "Contents",
   "toc_cell": true,
   "toc_position": {
    "height": "calc(100% - 180px)",
    "left": "10px",
    "top": "150px",
    "width": "233.864px"
   },
   "toc_section_display": false,
   "toc_window_display": false
  },
  "varInspector": {
   "cols": {
    "lenName": 16,
    "lenType": 16,
    "lenVar": 40
   },
   "kernels_config": {
    "python": {
     "delete_cmd_postfix": "",
     "delete_cmd_prefix": "del ",
     "library": "var_list.py",
     "varRefreshCmd": "print(var_dic_list())"
    },
    "r": {
     "delete_cmd_postfix": ") ",
     "delete_cmd_prefix": "rm(",
     "library": "var_list.r",
     "varRefreshCmd": "cat(var_dic_list()) "
    }
   },
   "types_to_exclude": [
    "module",
    "function",
    "builtin_function_or_method",
    "instance",
    "_Feature"
   ],
   "window_display": false
  }
 },
 "nbformat": 4,
 "nbformat_minor": 4
}
